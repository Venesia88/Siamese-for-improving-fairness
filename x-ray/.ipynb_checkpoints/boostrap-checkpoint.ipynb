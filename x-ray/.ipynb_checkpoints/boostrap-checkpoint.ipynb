{
 "cells": [
  {
   "cell_type": "markdown",
   "id": "17ae2ceb-48b3-4786-9d0c-9a00d2470db1",
   "metadata": {},
   "source": [
    "# Import"
   ]
  },
  {
   "cell_type": "code",
   "execution_count": 1,
   "id": "f3571712-f906-45b7-811b-7d2f797abaf4",
   "metadata": {},
   "outputs": [],
   "source": [
    "import tensorflow as tf\n",
    "import numpy as np\n",
    "import cv2 as cv\n",
    "from tqdm.auto import tqdm\n",
    "import matplotlib.pyplot as plt\n",
    "import pandas as pd\n",
    "import math\n",
    "import random\n",
    "import matplotlib.patheffects as PathEffects\n",
    "from sklearn.ensemble import RandomForestClassifier\n",
    "from sklearn.metrics import confusion_matrix, f1_score, roc_curve, auc, roc_auc_score, classification_report, accuracy_score, silhouette_score\n",
    "from sklearn.metrics import precision_score, log_loss\n",
    "from sklearn.utils import resample"
   ]
  },
  {
   "cell_type": "code",
   "execution_count": 2,
   "id": "34664218-17fa-4ab1-a803-397e74782913",
   "metadata": {},
   "outputs": [],
   "source": [
    "from tensorflow import keras\n",
    "from tensorflow.keras.applications.densenet import DenseNet121\n",
    "from tensorflow.keras.models import Model\n",
    "from tensorflow.keras.layers import Dense, Activation, Flatten, Dropout, BatchNormalization, GlobalAveragePooling2D, Input\n",
    "from tensorflow.keras.callbacks import ModelCheckpoint, CSVLogger, LearningRateScheduler, ReduceLROnPlateau, EarlyStopping, TensorBoard\n",
    "from tensorflow.keras.preprocessing import image\n",
    "from tensorflow.keras.optimizers import Adadelta, Adam, SGD, Adagrad"
   ]
  },
  {
   "cell_type": "code",
   "execution_count": 3,
   "id": "92283b3a-cc7e-478f-b57f-db0c2de514da",
   "metadata": {},
   "outputs": [],
   "source": [
    "import tensorflow as tf\n",
    "# import tensorflow_addons as tfa\n",
    "import tensorflow.keras.backend as K\n",
    "from tensorflow import keras\n",
    "from tensorflow.keras import optimizers, layers\n",
    "from tensorflow.keras.optimizers import schedules\n",
    "from tensorflow.keras.preprocessing.image import ImageDataGenerator\n",
    "from tensorflow.keras.models import Model, load_model, save_model, Sequential   #to create hirachical layers\n",
    "from tensorflow.keras.layers import Dense, Activation, Dropout, Conv2D, MaxPool2D, GlobalAveragePooling2D, Flatten, Input, BatchNormalization, Lambda\n",
    "from tensorflow.keras.layers import LeakyReLU, Multiply, ReLU\n",
    "from tensorflow.keras.callbacks import ModelCheckpoint, TensorBoard, Callback\n",
    "from tensorflow.keras.losses import categorical_crossentropy, binary_crossentropy\n",
    "from tensorflow.keras.optimizers import Adadelta, Adam, SGD\n",
    "from tensorflow.keras.regularizers import l1, l2\n",
    "from tensorflow.keras.utils import to_categorical\n",
    "import matplotlib.pyplot as plt"
   ]
  },
  {
   "cell_type": "code",
   "execution_count": 4,
   "id": "0c929320-1b7f-4ea4-b3e9-d6b521dc516a",
   "metadata": {},
   "outputs": [
    {
     "name": "stdout",
     "output_type": "stream",
     "text": [
      "1 Physical GPUs, 1 Logical GPUs\n"
     ]
    }
   ],
   "source": [
    "gpus = tf.config.experimental.list_physical_devices('GPU')\n",
    "if gpus:\n",
    "    try:\n",
    "    # Currently, memory growth needs to be the same across GPUs\n",
    "        tf.config.experimental.set_visible_devices(gpus[0], 'GPU')\n",
    "      #  for gpu in gpus:\n",
    "        tf.config.experimental.set_memory_growth(gpus[0], True)\n",
    "        logical_gpus = tf.config.experimental.list_logical_devices('GPU')\n",
    "        print(len(gpus), \"Physical GPUs,\", len(logical_gpus), \"Logical GPUs\")\n",
    "    except RuntimeError as e:\n",
    "    # Memory growth must be set before GPUs have been initialized\n",
    "        print(e)"
   ]
  },
  {
   "cell_type": "code",
   "execution_count": 5,
   "id": "100691ae-0495-49cc-98fb-7e00a72f8d08",
   "metadata": {},
   "outputs": [],
   "source": [
    "train_filename = './data/new_mimic_train.tfrecords'\n",
    "val_filename = './data/new_mimic_val.tfrecords'\n",
    "test_filename = './data/new_mimic_test.tfrecords'\n",
    "IMAGE_WIDTH, IMAGE_HEIGHT = 256, 256\n",
    "BUFFER_SIZE = 1000\n",
    "BATCH_SIZE = 16\n",
    "ALPHA = 0.2"
   ]
  },
  {
   "cell_type": "code",
   "execution_count": 6,
   "id": "6e0ff420-8913-46ee-9d0b-47c560a2cb7c",
   "metadata": {},
   "outputs": [],
   "source": [
    "def _parse(example):\n",
    "    return tf.io.parse_single_example(example, feature_description)\n",
    "def read_tfrecord(example):\n",
    "    example = tf.io.parse_single_example(example, feature_description)\n",
    "    img = tf.image.decode_jpeg(example['jpg_bytes'], channels=3)\n",
    "    labels = [tf.cast(0, tf.int32) if example['No Finding'] == 1 else tf.cast(1, tf.int32)]\n",
    "    return img, labels"
   ]
  },
  {
   "cell_type": "code",
   "execution_count": 7,
   "id": "8be93f5a-695a-40f6-a451-a386d099c1dc",
   "metadata": {},
   "outputs": [],
   "source": [
    "feature_description = {\n",
    "    'jpg_bytes': tf.io.FixedLenFeature([], tf.string),\n",
    "    'race': tf.io.FixedLenFeature([], tf.int64),\n",
    "    'age': tf.io.FixedLenFeature([], tf.int64),\n",
    "    'gender': tf.io.FixedLenFeature([], tf.int64),\n",
    "    'subject_id': tf.io.FixedLenFeature([], tf.int64),\n",
    "    'Cardiomegaly': tf.io.FixedLenFeature([], tf.float32),\n",
    "    'Consolidation': tf.io.FixedLenFeature([], tf.float32),\n",
    "    'Edema': tf.io.FixedLenFeature([], tf.float32),\n",
    "    'Enlarged Cardiomediastinum': tf.io.FixedLenFeature([], tf.float32),\n",
    "    'Lung Opacity': tf.io.FixedLenFeature([], tf.float32),\n",
    "    'Atelectasis': tf.io.FixedLenFeature([], tf.float32),\n",
    "    'No Finding': tf.io.FixedLenFeature([], tf.float32),\n",
    "    'Pleural Effusion': tf.io.FixedLenFeature([], tf.float32),\n",
    "    'Pneumonia': tf.io.FixedLenFeature([], tf.float32),\n",
    "    'Pneumothorax': tf.io.FixedLenFeature([], tf.float32)\n",
    "}\n",
    "\n",
    "label_list = ['Pneumothorax', 'Pneumonia', 'Pleural Effusion', 'No Finding', 'Atelectasis', 'Lung Opacity','Enlarged Cardiomediastinum', 'Edema', 'Consolidation', 'Cardiomegaly']"
   ]
  },
  {
   "cell_type": "code",
   "execution_count": 8,
   "id": "fbf8d69a-47f0-4f4b-9b99-ae36a6d727cb",
   "metadata": {},
   "outputs": [],
   "source": [
    "def load_dataset(filename):\n",
    "    dataset = tf.data.TFRecordDataset(filename)\n",
    "    dataset = dataset.map(read_tfrecord, num_parallel_calls = tf.data.experimental.AUTOTUNE)\n",
    "    dataset = dataset.shuffle(BUFFER_SIZE)\n",
    "    dataset = dataset.batch(BATCH_SIZE, drop_remainder=True)\n",
    "    dataset = dataset.prefetch(buffer_size=tf.data.experimental.AUTOTUNE)\n",
    "    return dataset"
   ]
  },
  {
   "cell_type": "code",
   "execution_count": 9,
   "id": "ed835ee2-8ef8-496a-9f41-ceb97132eef1",
   "metadata": {},
   "outputs": [],
   "source": [
    "def apply(img):\n",
    "    img = tf.image.decode_jpeg(img, channels=3)\n",
    "    return img"
   ]
  },
  {
   "cell_type": "code",
   "execution_count": 10,
   "id": "1148d540-10fc-4134-8992-0e46b1981743",
   "metadata": {},
   "outputs": [],
   "source": [
    "dataset_train = load_dataset(train_filename)\n",
    "dataset_val = load_dataset(val_filename)\n",
    "dataset_test = load_dataset(test_filename)"
   ]
  },
  {
   "cell_type": "markdown",
   "id": "9eddb09e-269a-48de-94d6-fada70ca74e9",
   "metadata": {},
   "source": [
    "# Baseline"
   ]
  },
  {
   "cell_type": "markdown",
   "id": "be7ca719-8336-482b-b377-1e74538b942e",
   "metadata": {},
   "source": [
    "## Model"
   ]
  },
  {
   "cell_type": "code",
   "execution_count": 31,
   "id": "2eb7c2fb-89d1-4d87-9d52-d0d6287d63e6",
   "metadata": {},
   "outputs": [],
   "source": [
    "input_shape = (IMAGE_WIDTH, IMAGE_HEIGHT, 3)\n",
    "input_img = Input(input_shape)\n",
    "x = tf.keras.applications.densenet.preprocess_input(input_img)\n",
    "base_model = DenseNet121(weights='imagenet', include_top=False, input_tensor = x, pooling = 'avg')\n",
    "x = base_model(x)\n",
    "predictions = Dense(1, activation=\"sigmoid\")(x)\n",
    "model = Model(inputs=input_img, outputs=predictions)"
   ]
  },
  {
   "cell_type": "code",
   "execution_count": 32,
   "id": "ed3c2774-cef0-48c9-9483-b81aefa42b24",
   "metadata": {},
   "outputs": [
    {
     "name": "stdout",
     "output_type": "stream",
     "text": [
      "Model: \"model\"\n",
      "_________________________________________________________________\n",
      "Layer (type)                 Output Shape              Param #   \n",
      "=================================================================\n",
      "input_1 (InputLayer)         [(None, 256, 256, 3)]     0         \n",
      "_________________________________________________________________\n",
      "tf.math.truediv (TFOpLambda) (None, 256, 256, 3)       0         \n",
      "_________________________________________________________________\n",
      "tf.nn.bias_add (TFOpLambda)  (None, 256, 256, 3)       0         \n",
      "_________________________________________________________________\n",
      "tf.math.truediv_1 (TFOpLambd (None, 256, 256, 3)       0         \n",
      "_________________________________________________________________\n",
      "densenet121 (Functional)     (None, 1024)              7037504   \n",
      "_________________________________________________________________\n",
      "dense (Dense)                (None, 1)                 1025      \n",
      "=================================================================\n",
      "Total params: 7,038,529\n",
      "Trainable params: 6,954,881\n",
      "Non-trainable params: 83,648\n",
      "_________________________________________________________________\n"
     ]
    }
   ],
   "source": [
    "model.summary()"
   ]
  },
  {
   "cell_type": "markdown",
   "id": "5cda6607-cbab-4572-beda-8822151c6f80",
   "metadata": {},
   "source": [
    "## Training"
   ]
  },
  {
   "cell_type": "code",
   "execution_count": 34,
   "id": "f2032044-f506-48bc-a2cd-82e2b6bbeba9",
   "metadata": {},
   "outputs": [],
   "source": [
    "callbacks_list = [EarlyStopping(monitor='val_loss',patience=10),\n",
    "                  ModelCheckpoint(filepath='./model/baseline_new.h5',monitor='val_loss',save_best_only=True,),\n",
    "                  ReduceLROnPlateau(monitor='val_loss',factor=0.2, patience=3)]\n",
    "initial_learning_rate = 0.001"
   ]
  },
  {
   "cell_type": "code",
   "execution_count": 35,
   "id": "6cb9f9a2-c949-4fbd-85e1-551aa0342462",
   "metadata": {},
   "outputs": [],
   "source": [
    "# opt = SGD(learning_rate=initial_learning_rate, momentum=0.9)\n",
    "opt = Adam(learning_rate=initial_learning_rate, epsilon=1e-8)\n",
    "# opt = tf.keras.optimizers.Adagrad(learning_rate=initial_learning_rate)\n",
    "model.compile(optimizer=opt,loss='binary_crossentropy',\n",
    "# metrics=[tf.keras.metrics.AUC(multi_label = True, num_labels = 10)])\n",
    "metrics=[tf.keras.metrics.AUC(), tf.keras.metrics.BinaryAccuracy()])"
   ]
  },
  {
   "cell_type": "markdown",
   "id": "906f2e38-f77f-4e21-a9f7-03b4a49a4eb6",
   "metadata": {},
   "source": [
    "# Siamese"
   ]
  },
  {
   "cell_type": "markdown",
   "id": "91ecf15b-dad0-4400-8f98-589d4b15cdb5",
   "metadata": {
    "tags": []
   },
   "source": [
    "## Model"
   ]
  },
  {
   "cell_type": "code",
   "execution_count": 34,
   "id": "0c26263d-d1bd-4860-9d23-170be3c2468f",
   "metadata": {},
   "outputs": [],
   "source": [
    "input_shape = (IMAGE_WIDTH, IMAGE_HEIGHT, 3)\n",
    "input_img = Input(input_shape)\n",
    "x = tf.keras.applications.densenet.preprocess_input(input_img)\n",
    "base_model = DenseNet121(weights='imagenet', include_top=False, input_tensor = x, pooling = 'avg')\n",
    "x = base_model(x)\n",
    "x = Dense(units=256, activation='relu')(x)\n",
    "embedding = Lambda(lambda x: tf.math.l2_normalize(x, axis=1))(x)\n",
    "model = Model(inputs=input_img, outputs=embedding)"
   ]
  },
  {
   "cell_type": "code",
   "execution_count": 35,
   "id": "b72d7ab5-b12b-4e6f-b067-901a5e44229a",
   "metadata": {},
   "outputs": [
    {
     "name": "stdout",
     "output_type": "stream",
     "text": [
      "Model: \"model_2\"\n",
      "_________________________________________________________________\n",
      "Layer (type)                 Output Shape              Param #   \n",
      "=================================================================\n",
      "input_3 (InputLayer)         [(None, 256, 256, 3)]     0         \n",
      "_________________________________________________________________\n",
      "tf.math.truediv_2 (TFOpLambd (None, 256, 256, 3)       0         \n",
      "_________________________________________________________________\n",
      "tf.nn.bias_add_1 (TFOpLambda (None, 256, 256, 3)       0         \n",
      "_________________________________________________________________\n",
      "tf.math.truediv_3 (TFOpLambd (None, 256, 256, 3)       0         \n",
      "_________________________________________________________________\n",
      "densenet121 (Functional)     (None, 1024)              7037504   \n",
      "_________________________________________________________________\n",
      "dense_2 (Dense)              (None, 256)               262400    \n",
      "_________________________________________________________________\n",
      "lambda_1 (Lambda)            (None, 256)               0         \n",
      "=================================================================\n",
      "Total params: 7,299,904\n",
      "Trainable params: 7,216,256\n",
      "Non-trainable params: 83,648\n",
      "_________________________________________________________________\n"
     ]
    }
   ],
   "source": [
    "model.summary()"
   ]
  },
  {
   "cell_type": "markdown",
   "id": "23baa470-ed79-410e-8679-f33171c17e1f",
   "metadata": {},
   "source": [
    "## Classifier"
   ]
  },
  {
   "cell_type": "code",
   "execution_count": 36,
   "id": "99c502f3-87f8-4e45-9e6a-5acc40a05039",
   "metadata": {},
   "outputs": [
    {
     "data": {
      "image/png": "[encoded data removed]",
      "text/plain": [
       "<Figure size 1000x1000 with 16 Axes>"
      ]
     },
     "metadata": {},
     "output_type": "display_data"
    }
   ],
   "source": [
    "plt.figure(figsize=(10, 10))\n",
    "for img, label in dataset_val.take(1):\n",
    "    for n in range(16):\n",
    "        ax = plt.subplot(4, 8, n+1)\n",
    "        plt.imshow(img[n], cmap='gray')\n",
    "        plt.axis(\"off\")"
   ]
  },
  {
   "cell_type": "code",
   "execution_count": 37,
   "id": "c715cf20-eab0-45b3-bfe2-cf659d8cc3bd",
   "metadata": {},
   "outputs": [],
   "source": [
    "input_shape = (IMAGE_WIDTH, IMAGE_HEIGHT, 3)\n",
    "input_img = Input(input_shape)\n",
    "x = model(input_img)\n",
    "predictions = Dense(1, activation=\"sigmoid\")(x)\n",
    "full_model = Model(inputs=input_img, outputs=predictions)\n",
    "model.trainable = False"
   ]
  },
  {
   "cell_type": "code",
   "execution_count": 38,
   "id": "2129b27d-4d83-4d3a-8376-4d38e2772b0f",
   "metadata": {},
   "outputs": [
    {
     "name": "stdout",
     "output_type": "stream",
     "text": [
      "Model: \"model_3\"\n",
      "_________________________________________________________________\n",
      "Layer (type)                 Output Shape              Param #   \n",
      "=================================================================\n",
      "input_4 (InputLayer)         [(None, 256, 256, 3)]     0         \n",
      "_________________________________________________________________\n",
      "model_2 (Functional)         (None, 256)               7299904   \n",
      "_________________________________________________________________\n",
      "dense_3 (Dense)              (None, 1)                 257       \n",
      "=================================================================\n",
      "Total params: 7,300,161\n",
      "Trainable params: 257\n",
      "Non-trainable params: 7,299,904\n",
      "_________________________________________________________________\n"
     ]
    }
   ],
   "source": [
    "full_model.summary()"
   ]
  },
  {
   "cell_type": "markdown",
   "id": "f2164b16-e871-4229-a8db-b77d058a142e",
   "metadata": {},
   "source": [
    "## Training"
   ]
  },
  {
   "cell_type": "code",
   "execution_count": 40,
   "id": "cf937801-d1f8-4902-ad97-512c2c07a544",
   "metadata": {},
   "outputs": [],
   "source": [
    "initial_learning_rate = 0.001"
   ]
  },
  {
   "cell_type": "code",
   "execution_count": 41,
   "id": "7e05d020-570c-48fb-bbb7-f64616c377bd",
   "metadata": {},
   "outputs": [],
   "source": [
    "opt = Adam(learning_rate=initial_learning_rate, epsilon=1e-8)\n",
    "full_model.compile(optimizer=opt,loss='binary_crossentropy',\n",
    "metrics=[tf.keras.metrics.AUC(), tf.keras.metrics.BinaryAccuracy()])"
   ]
  },
  {
   "cell_type": "markdown",
   "id": "b2310279-8517-4c66-ba2d-1a142e287294",
   "metadata": {},
   "source": [
    "# DistMatch MMD"
   ]
  },
  {
   "cell_type": "markdown",
   "id": "7555095d-b542-4be2-8abf-5d07676794cf",
   "metadata": {},
   "source": [
    "## Preprocess"
   ]
  },
  {
   "cell_type": "code",
   "execution_count": 11,
   "id": "de303749-f361-4326-bae8-0acb8c41cb32",
   "metadata": {},
   "outputs": [],
   "source": [
    "def _parse(example):\n",
    "    return tf.io.parse_single_example(example, feature_description)\n",
    "\n",
    "def read_tfrecord(example):\n",
    "    example = tf.io.parse_single_example(example, feature_description)\n",
    "    img = tf.image.decode_jpeg(example['jpg_bytes'], channels=3)\n",
    "    labels = [tf.cast(0, tf.int32) if example['No Finding'] == 1 else tf.cast(1, tf.int32)]\n",
    "    groups = tf.expand_dims(example['age'], axis = 0)\n",
    "    \n",
    "    return img, labels, groups\n",
    "\n",
    "def _fixup_shape(images, labels, groups):\n",
    "    images.set_shape([IMAGE_HEIGHT,IMAGE_WIDTH, 3])\n",
    "    labels.set_shape([1])\n",
    "    groups.set_shape([1])\n",
    "    return images, labels, groups"
   ]
  },
  {
   "cell_type": "code",
   "execution_count": 12,
   "id": "be378e7f-f260-44c5-93ce-91ecd0a3d022",
   "metadata": {},
   "outputs": [],
   "source": [
    "def load_dataset(filename):\n",
    "    dataset = tf.data.TFRecordDataset(filename)\n",
    "    dataset = dataset.map(read_tfrecord, num_parallel_calls = tf.data.experimental.AUTOTUNE).map(_fixup_shape)\n",
    "    dataset = dataset.shuffle(BUFFER_SIZE)\n",
    "    dataset = dataset.batch(BATCH_SIZE, drop_remainder=True)\n",
    "    dataset = dataset.prefetch(buffer_size=tf.data.experimental.AUTOTUNE)\n",
    "    return dataset\n"
   ]
  },
  {
   "cell_type": "code",
   "execution_count": 13,
   "id": "b9f1d7d2-126e-451b-811f-02767b22dba1",
   "metadata": {},
   "outputs": [],
   "source": [
    "dataset_train = load_dataset(train_filename)\n",
    "dataset_val = load_dataset(val_filename)\n",
    "dataset_test = load_dataset(test_filename)"
   ]
  },
  {
   "cell_type": "code",
   "execution_count": 14,
   "id": "9c2bb9c0-788d-48f7-9b76-5feb792598e0",
   "metadata": {},
   "outputs": [
    {
     "data": {
      "image/png": "[encoded data removed]",
      "text/plain": [
       "<Figure size 1000x1000 with 16 Axes>"
      ]
     },
     "metadata": {},
     "output_type": "display_data"
    }
   ],
   "source": [
    "plt.figure(figsize=(10, 10))\n",
    "for img, label, domain in dataset_val.take(1):\n",
    "    for n in range(16):\n",
    "        ax = plt.subplot(4, 8, n+1)\n",
    "        plt.imshow(img[n])\n",
    "        plt.axis(\"off\")"
   ]
  },
  {
   "cell_type": "markdown",
   "id": "5d3cb0bc-8d52-4352-b495-3c9da45f989f",
   "metadata": {},
   "source": [
    "## Classifier"
   ]
  },
  {
   "cell_type": "code",
   "execution_count": 15,
   "id": "eea7c8c6-3acc-413e-a27d-3a9660222e4b",
   "metadata": {},
   "outputs": [],
   "source": [
    "input_shape = (IMAGE_WIDTH, IMAGE_HEIGHT, 3)\n",
    "input_img = Input(input_shape)\n",
    "x = tf.keras.applications.densenet.preprocess_input(input_img)\n",
    "base_model = DenseNet121(weights='imagenet', include_top=False, input_tensor = x, pooling = 'avg')\n",
    "x = base_model(x)\n",
    "predictions = Dense(1, activation=\"sigmoid\")(x)\n",
    "model = Model(inputs=input_img, outputs=predictions)"
   ]
  },
  {
   "cell_type": "code",
   "execution_count": 16,
   "id": "10eec8ab-c27c-41ff-9c39-78762faacc36",
   "metadata": {},
   "outputs": [
    {
     "name": "stdout",
     "output_type": "stream",
     "text": [
      "Model: \"model\"\n",
      "_________________________________________________________________\n",
      "Layer (type)                 Output Shape              Param #   \n",
      "=================================================================\n",
      "input_1 (InputLayer)         [(None, 256, 256, 3)]     0         \n",
      "_________________________________________________________________\n",
      "tf.math.truediv (TFOpLambda) (None, 256, 256, 3)       0         \n",
      "_________________________________________________________________\n",
      "tf.nn.bias_add (TFOpLambda)  (None, 256, 256, 3)       0         \n",
      "_________________________________________________________________\n",
      "tf.math.truediv_1 (TFOpLambd (None, 256, 256, 3)       0         \n",
      "_________________________________________________________________\n",
      "densenet121 (Functional)     (None, 1024)              7037504   \n",
      "_________________________________________________________________\n",
      "dense (Dense)                (None, 1)                 1025      \n",
      "=================================================================\n",
      "Total params: 7,038,529\n",
      "Trainable params: 6,954,881\n",
      "Non-trainable params: 83,648\n",
      "_________________________________________________________________\n"
     ]
    }
   ],
   "source": [
    "model.summary()"
   ]
  },
  {
   "cell_type": "markdown",
   "id": "50ae0b6a-2b41-42e8-b5be-8c0a7c3d37ec",
   "metadata": {},
   "source": [
    "## Train"
   ]
  },
  {
   "cell_type": "code",
   "execution_count": 17,
   "id": "4b709f56-a3a6-46c3-a315-63d5b0f48708",
   "metadata": {},
   "outputs": [],
   "source": [
    "loss_object = tf.keras.losses.BinaryCrossentropy()\n",
    "optimizer = tf.keras.optimizers.SGD(learning_rate=0.001)\n",
    "\n",
    "train_accuracy = tf.keras.metrics.BinaryAccuracy(name='train_accuracy')\n",
    "val_accuracy = tf.keras.metrics.BinaryAccuracy(name='val_accuracy')\n",
    "\n",
    "train_loss = tf.keras.metrics.Mean(name='train_lp_loss')\n",
    "val_loss = tf.keras.metrics.Mean(name='val_lp_loss')\n",
    "model.compile(optimizer=optimizer,loss='binary_crossentropy',\n",
    "# metrics=[tf.keras.metrics.AUC(multi_label = True, num_labels = 10)])\n",
    "metrics=[tf.keras.metrics.AUC(), tf.keras.metrics.BinaryAccuracy()])"
   ]
  },
  {
   "cell_type": "markdown",
   "id": "4788858b-e5fd-425d-b410-3c759bb720a9",
   "metadata": {},
   "source": [
    "# Initialize"
   ]
  },
  {
   "cell_type": "code",
   "execution_count": 42,
   "id": "3d957f4a-f5a3-46ed-a357-a33392863748",
   "metadata": {},
   "outputs": [],
   "source": [
    "total = {}\n",
    "male, female = {}, {}\n",
    "age2, age3, age4, age5 = {},{},{},{}\n",
    "race0, race1, race2 = {},{},{}\n",
    "avg_race, avg_age = {}, {}\n",
    "gender_gap = {}\n",
    "age_gap = {}\n",
    "race_gap = {}\n",
    "metrics = ['acc', 'auc', 'precision', 'error', 'tpr', 'fnr','fpr','ep']\n",
    "model_name = 'siamese'\n",
    "cur = \"test\"\n",
    "\n",
    "for m in metrics:\n",
    "    total[m] = []\n",
    "    male[m] = []\n",
    "    female[m] = []\n",
    "    age2[m], age3[m], age4[m], age5[m] = [],[], [], []\n",
    "    race0[m], race1[m], race2[m] = [], [], []\n",
    "    gender_gap[m] = []\n",
    "    age_gap[m] = []\n",
    "    race_gap[m] = []\n",
    "    avg_race[m] = []\n",
    "    avg_age[m] = []"
   ]
  },
  {
   "cell_type": "markdown",
   "id": "391be56b-dc38-4db8-b48e-60a02fe5438b",
   "metadata": {},
   "source": [
    "# Evaluate"
   ]
  },
  {
   "cell_type": "code",
   "execution_count": 43,
   "id": "62cda453-48f4-433b-a7c7-241c75e89866",
   "metadata": {},
   "outputs": [],
   "source": [
    "loss_object = tf.keras.losses.BinaryCrossentropy()"
   ]
  },
  {
   "cell_type": "code",
   "execution_count": 44,
   "id": "9f299157-b6ac-48b8-8639-54e366910947",
   "metadata": {},
   "outputs": [],
   "source": [
    "if model_name == 'siamese':\n",
    "    full_model.load_weights('./model/siamese_age.h5')\n",
    "elif model_name == 'siamese-retrain':\n",
    "    full_model.load_weights('./model/retrain/siamese.h5')\n",
    "\n",
    "elif model_name == 'siamese-proposed-age':\n",
    "    full_model.load_weights('./model/siamese_proposed_age_3.h5')\n",
    "elif model_name == 'siamese-proposed-age-retrain':\n",
    "    full_model.load_weights('./model/retrain/siamese_proposed_age.h5')\n",
    "\n",
    "elif model_name == 'siamese-proposed-gender':\n",
    "    full_model.load_weights('./model/siamese_proposed_gender_1.h5')\n",
    "elif model_name == 'siamese-proposed-gender-retrain':\n",
    "    full_model.load_weights('./model/retrain/siamese_proposed_gender.h5')\n",
    "\n",
    "elif model_name == 'siamese-proposed-race':\n",
    "    full_model.load_weights('./model/siamese_proposed_race_2.h5')\n",
    "elif model_name == 'siamese-proposed-race-retrain':\n",
    "    full_model.load_weights('./model/retrain/siamese_proposed_race.h5')\n",
    "    \n",
    "elif model_name == 'distmatch-mmd':\n",
    "    full_model = model\n",
    "    full_model.load_weights(\"./model/mean/distmatch_mmd_age\")\n",
    "\n",
    "elif model_name == 'distmatch-mean':\n",
    "    full_model = model\n",
    "    full_model.load_weights(\"./model/mean/distmatch_mean_age\")\n",
    "\n",
    "elif model_name == 'distmatch-mmd-gender':\n",
    "    full_model = model\n",
    "    full_model.load_weights(\"./model/mean/distmatch_mmd_gemder\")\n",
    "    \n",
    "elif model_name == 'distmatch-mean-gender':\n",
    "    full_model = model\n",
    "    full_model.load_weights(\"./model/mean/distmatch_mean_gemder\")\n",
    "\n",
    "elif model_name == 'distmatch-mmd-race':\n",
    "    full_model = model\n",
    "    full_model.load_weights(\"./model/mean/distmatch_mmd_race\")\n",
    "    \n",
    "elif model_name == 'distmatch-mean-race':\n",
    "    full_model = model\n",
    "    full_model.load_weights(\"./model/mean/distmatch_mean_race\")\n",
    "    \n",
    "elif model_name == 'baseline_aug':\n",
    "    full_model = model\n",
    "    full_model.load_weights(\"./model/baseline_aug.h5\")\n",
    "else:\n",
    "    full_model = model\n",
    "    full_model.load_weights('./model/baseline_new.h5')"
   ]
  },
  {
   "cell_type": "code",
   "execution_count": 33,
   "id": "103d40e9-e265-40f4-b459-3b07402f6fca",
   "metadata": {},
   "outputs": [
    {
     "data": {
      "application/vnd.jupyter.widget-view+json": {
       "model_id": "8816a36ab92d48e48d8a5887c845946e",
       "version_major": 2,
       "version_minor": 0
      },
      "text/plain": [
       "0it [00:00, ?it/s]"
      ]
     },
     "metadata": {},
     "output_type": "display_data"
    }
   ],
   "source": [
    "data_test = tf.data.TFRecordDataset(test_filename)\n",
    "img_test, label_test, age_test, race_test, gender_test = [], [], [], [], []\n",
    "for raw_record in tqdm(data_test):\n",
    "\n",
    "    example = tf.train.Example()\n",
    "    example.ParseFromString(raw_record.numpy())\n",
    "    \n",
    "    label_test.append(0 if example.features.feature['No Finding'].float_list.value[0] == 1 else 1)\n",
    "    img_test.append(example.features.feature['jpg_bytes'].bytes_list.value[0])\n",
    "    age_test.append(example.features.feature['age'].int64_list.value[0])\n",
    "    race_test.append(example.features.feature['race'].int64_list.value[0])\n",
    "    gender_test.append(example.features.feature['gender'].int64_list.value[0])"
   ]
  },
  {
   "cell_type": "code",
   "execution_count": 45,
   "id": "e2acd176-5772-454b-83bc-d6d18f15204e",
   "metadata": {},
   "outputs": [
    {
     "data": {
      "application/vnd.jupyter.widget-view+json": {
       "model_id": "8a660ec39956400e89c2d40cb237a7dc",
       "version_major": 2,
       "version_minor": 0
      },
      "text/plain": [
       "  0%|          | 0/50 [00:00<?, ?it/s]"
      ]
     },
     "metadata": {},
     "output_type": "display_data"
    },
    {
     "data": {
      "application/vnd.jupyter.widget-view+json": {
       "model_id": "d3aaa3fe5c7447a98446b4e88b4f6129",
       "version_major": 2,
       "version_minor": 0
      },
      "text/plain": [
       "0it [00:00, ?it/s]"
      ]
     },
     "metadata": {},
     "output_type": "display_data"
    },
    {
     "data": {
      "application/vnd.jupyter.widget-view+json": {
       "model_id": "cb2edc51a0bd476ca5b17db1ccca5d3b",
       "version_major": 2,
       "version_minor": 0
      },
      "text/plain": [
       "0it [00:00, ?it/s]"
      ]
     },
     "metadata": {},
     "output_type": "display_data"
    },
    {
     "data": {
      "application/vnd.jupyter.widget-view+json": {
       "model_id": "4456446f690946d08eca3e64902aabae",
       "version_major": 2,
       "version_minor": 0
      },
      "text/plain": [
       "0it [00:00, ?it/s]"
      ]
     },
     "metadata": {},
     "output_type": "display_data"
    },
    {
     "data": {
      "application/vnd.jupyter.widget-view+json": {
       "model_id": "0299fe5d868b4057915a03655464f727",
       "version_major": 2,
       "version_minor": 0
      },
      "text/plain": [
       "0it [00:00, ?it/s]"
      ]
     },
     "metadata": {},
     "output_type": "display_data"
    },
    {
     "data": {
      "application/vnd.jupyter.widget-view+json": {
       "model_id": "c53fd1dd5b8a493c82df5850d63e6655",
       "version_major": 2,
       "version_minor": 0
      },
      "text/plain": [
       "0it [00:00, ?it/s]"
      ]
     },
     "metadata": {},
     "output_type": "display_data"
    },
    {
     "data": {
      "application/vnd.jupyter.widget-view+json": {
       "model_id": "2d4d50d684ea4f148a328a6dcfd2a60d",
       "version_major": 2,
       "version_minor": 0
      },
      "text/plain": [
       "0it [00:00, ?it/s]"
      ]
     },
     "metadata": {},
     "output_type": "display_data"
    },
    {
     "data": {
      "application/vnd.jupyter.widget-view+json": {
       "model_id": "a2792517eeb04ddd87d5968bbd022274",
       "version_major": 2,
       "version_minor": 0
      },
      "text/plain": [
       "0it [00:00, ?it/s]"
      ]
     },
     "metadata": {},
     "output_type": "display_data"
    },
    {
     "data": {
      "application/vnd.jupyter.widget-view+json": {
       "model_id": "53eabac4ea5d4459892695ecec738b32",
       "version_major": 2,
       "version_minor": 0
      },
      "text/plain": [
       "0it [00:00, ?it/s]"
      ]
     },
     "metadata": {},
     "output_type": "display_data"
    },
    {
     "data": {
      "application/vnd.jupyter.widget-view+json": {
       "model_id": "f70f9d4d64264141b6c524864c69cf2d",
       "version_major": 2,
       "version_minor": 0
      },
      "text/plain": [
       "0it [00:00, ?it/s]"
      ]
     },
     "metadata": {},
     "output_type": "display_data"
    },
    {
     "data": {
      "application/vnd.jupyter.widget-view+json": {
       "model_id": "eca91fdb70ff48fd8902861b74c49818",
       "version_major": 2,
       "version_minor": 0
      },
      "text/plain": [
       "0it [00:00, ?it/s]"
      ]
     },
     "metadata": {},
     "output_type": "display_data"
    },
    {
     "data": {
      "application/vnd.jupyter.widget-view+json": {
       "model_id": "be384661ebde4a64abc45fed247b8707",
       "version_major": 2,
       "version_minor": 0
      },
      "text/plain": [
       "0it [00:00, ?it/s]"
      ]
     },
     "metadata": {},
     "output_type": "display_data"
    },
    {
     "data": {
      "application/vnd.jupyter.widget-view+json": {
       "model_id": "c9078eecafa24769a9ebd66f55bd63c5",
       "version_major": 2,
       "version_minor": 0
      },
      "text/plain": [
       "0it [00:00, ?it/s]"
      ]
     },
     "metadata": {},
     "output_type": "display_data"
    },
    {
     "data": {
      "application/vnd.jupyter.widget-view+json": {
       "model_id": "d371f957d8424747964727f636d2ecd2",
       "version_major": 2,
       "version_minor": 0
      },
      "text/plain": [
       "0it [00:00, ?it/s]"
      ]
     },
     "metadata": {},
     "output_type": "display_data"
    },
    {
     "data": {
      "application/vnd.jupyter.widget-view+json": {
       "model_id": "528ab0084d5a4baaa06feb2c99976a85",
       "version_major": 2,
       "version_minor": 0
      },
      "text/plain": [
       "0it [00:00, ?it/s]"
      ]
     },
     "metadata": {},
     "output_type": "display_data"
    },
    {
     "data": {
      "application/vnd.jupyter.widget-view+json": {
       "model_id": "458e49ed485a4920bf9e26d664ddfc04",
       "version_major": 2,
       "version_minor": 0
      },
      "text/plain": [
       "0it [00:00, ?it/s]"
      ]
     },
     "metadata": {},
     "output_type": "display_data"
    },
    {
     "data": {
      "application/vnd.jupyter.widget-view+json": {
       "model_id": "826bb26e048547dda9d2a7f4127c021a",
       "version_major": 2,
       "version_minor": 0
      },
      "text/plain": [
       "0it [00:00, ?it/s]"
      ]
     },
     "metadata": {},
     "output_type": "display_data"
    },
    {
     "data": {
      "application/vnd.jupyter.widget-view+json": {
       "model_id": "c77f46cfc52b4350a22bb3dd82c432f8",
       "version_major": 2,
       "version_minor": 0
      },
      "text/plain": [
       "0it [00:00, ?it/s]"
      ]
     },
     "metadata": {},
     "output_type": "display_data"
    },
    {
     "data": {
      "application/vnd.jupyter.widget-view+json": {
       "model_id": "e0e9d15eaff14b60a1f6e0d1a8af8244",
       "version_major": 2,
       "version_minor": 0
      },
      "text/plain": [
       "0it [00:00, ?it/s]"
      ]
     },
     "metadata": {},
     "output_type": "display_data"
    },
    {
     "data": {
      "application/vnd.jupyter.widget-view+json": {
       "model_id": "96126dba97e74a90b742a2269b245a9b",
       "version_major": 2,
       "version_minor": 0
      },
      "text/plain": [
       "0it [00:00, ?it/s]"
      ]
     },
     "metadata": {},
     "output_type": "display_data"
    },
    {
     "data": {
      "application/vnd.jupyter.widget-view+json": {
       "model_id": "20720fdd8a454469a895bb53648465d1",
       "version_major": 2,
       "version_minor": 0
      },
      "text/plain": [
       "0it [00:00, ?it/s]"
      ]
     },
     "metadata": {},
     "output_type": "display_data"
    },
    {
     "data": {
      "application/vnd.jupyter.widget-view+json": {
       "model_id": "d37b1f2d7fbe450492acbd55c752753d",
       "version_major": 2,
       "version_minor": 0
      },
      "text/plain": [
       "0it [00:00, ?it/s]"
      ]
     },
     "metadata": {},
     "output_type": "display_data"
    },
    {
     "data": {
      "application/vnd.jupyter.widget-view+json": {
       "model_id": "f8cb158547fb4d0bb85bfed79d02d4a0",
       "version_major": 2,
       "version_minor": 0
      },
      "text/plain": [
       "0it [00:00, ?it/s]"
      ]
     },
     "metadata": {},
     "output_type": "display_data"
    },
    {
     "data": {
      "application/vnd.jupyter.widget-view+json": {
       "model_id": "0c9b0c887fb94aeead3992a0372ff2fd",
       "version_major": 2,
       "version_minor": 0
      },
      "text/plain": [
       "0it [00:00, ?it/s]"
      ]
     },
     "metadata": {},
     "output_type": "display_data"
    },
    {
     "data": {
      "application/vnd.jupyter.widget-view+json": {
       "model_id": "0f4d53d6571f43218d02284973cc5ccf",
       "version_major": 2,
       "version_minor": 0
      },
      "text/plain": [
       "0it [00:00, ?it/s]"
      ]
     },
     "metadata": {},
     "output_type": "display_data"
    },
    {
     "data": {
      "application/vnd.jupyter.widget-view+json": {
       "model_id": "46484a9eb7f94339ace34e3a67d7544d",
       "version_major": 2,
       "version_minor": 0
      },
      "text/plain": [
       "0it [00:00, ?it/s]"
      ]
     },
     "metadata": {},
     "output_type": "display_data"
    },
    {
     "data": {
      "application/vnd.jupyter.widget-view+json": {
       "model_id": "741742f26fb541d9ae1c5301a8b5c912",
       "version_major": 2,
       "version_minor": 0
      },
      "text/plain": [
       "0it [00:00, ?it/s]"
      ]
     },
     "metadata": {},
     "output_type": "display_data"
    },
    {
     "data": {
      "application/vnd.jupyter.widget-view+json": {
       "model_id": "262382464f6341fc99bd4ada9234f759",
       "version_major": 2,
       "version_minor": 0
      },
      "text/plain": [
       "0it [00:00, ?it/s]"
      ]
     },
     "metadata": {},
     "output_type": "display_data"
    },
    {
     "data": {
      "application/vnd.jupyter.widget-view+json": {
       "model_id": "d62bb4512ce746b9aac3796d53cb5b97",
       "version_major": 2,
       "version_minor": 0
      },
      "text/plain": [
       "0it [00:00, ?it/s]"
      ]
     },
     "metadata": {},
     "output_type": "display_data"
    },
    {
     "data": {
      "application/vnd.jupyter.widget-view+json": {
       "model_id": "5d9acb67b6024de29941014fda2bb368",
       "version_major": 2,
       "version_minor": 0
      },
      "text/plain": [
       "0it [00:00, ?it/s]"
      ]
     },
     "metadata": {},
     "output_type": "display_data"
    },
    {
     "data": {
      "application/vnd.jupyter.widget-view+json": {
       "model_id": "ccf563504adf4c748202ebfde9a84236",
       "version_major": 2,
       "version_minor": 0
      },
      "text/plain": [
       "0it [00:00, ?it/s]"
      ]
     },
     "metadata": {},
     "output_type": "display_data"
    },
    {
     "data": {
      "application/vnd.jupyter.widget-view+json": {
       "model_id": "eeca9066cde044d1a0faf40afeb914e4",
       "version_major": 2,
       "version_minor": 0
      },
      "text/plain": [
       "0it [00:00, ?it/s]"
      ]
     },
     "metadata": {},
     "output_type": "display_data"
    },
    {
     "data": {
      "application/vnd.jupyter.widget-view+json": {
       "model_id": "bd4c92b9604644d5b2fa142a251ab53f",
       "version_major": 2,
       "version_minor": 0
      },
      "text/plain": [
       "0it [00:00, ?it/s]"
      ]
     },
     "metadata": {},
     "output_type": "display_data"
    },
    {
     "data": {
      "application/vnd.jupyter.widget-view+json": {
       "model_id": "4d75786b8a274805b34462ad0578afc6",
       "version_major": 2,
       "version_minor": 0
      },
      "text/plain": [
       "0it [00:00, ?it/s]"
      ]
     },
     "metadata": {},
     "output_type": "display_data"
    },
    {
     "data": {
      "application/vnd.jupyter.widget-view+json": {
       "model_id": "fb9819b69e504a20a92b0c82cf1b7df5",
       "version_major": 2,
       "version_minor": 0
      },
      "text/plain": [
       "0it [00:00, ?it/s]"
      ]
     },
     "metadata": {},
     "output_type": "display_data"
    },
    {
     "data": {
      "application/vnd.jupyter.widget-view+json": {
       "model_id": "24c6612098b84cab887fb1dc84aeba05",
       "version_major": 2,
       "version_minor": 0
      },
      "text/plain": [
       "0it [00:00, ?it/s]"
      ]
     },
     "metadata": {},
     "output_type": "display_data"
    },
    {
     "data": {
      "application/vnd.jupyter.widget-view+json": {
       "model_id": "f961062818a346919aaea64b721f2e93",
       "version_major": 2,
       "version_minor": 0
      },
      "text/plain": [
       "0it [00:00, ?it/s]"
      ]
     },
     "metadata": {},
     "output_type": "display_data"
    },
    {
     "data": {
      "application/vnd.jupyter.widget-view+json": {
       "model_id": "6c6a43a0d74d40428cc7502067f23768",
       "version_major": 2,
       "version_minor": 0
      },
      "text/plain": [
       "0it [00:00, ?it/s]"
      ]
     },
     "metadata": {},
     "output_type": "display_data"
    },
    {
     "data": {
      "application/vnd.jupyter.widget-view+json": {
       "model_id": "1d509beece6044a8adcbd0d92d2728e9",
       "version_major": 2,
       "version_minor": 0
      },
      "text/plain": [
       "0it [00:00, ?it/s]"
      ]
     },
     "metadata": {},
     "output_type": "display_data"
    },
    {
     "data": {
      "application/vnd.jupyter.widget-view+json": {
       "model_id": "f0657905f7454461a8ac66ff8a0f1c38",
       "version_major": 2,
       "version_minor": 0
      },
      "text/plain": [
       "0it [00:00, ?it/s]"
      ]
     },
     "metadata": {},
     "output_type": "display_data"
    },
    {
     "data": {
      "application/vnd.jupyter.widget-view+json": {
       "model_id": "a72b9f20f3eb4440b9785f6731fc6d00",
       "version_major": 2,
       "version_minor": 0
      },
      "text/plain": [
       "0it [00:00, ?it/s]"
      ]
     },
     "metadata": {},
     "output_type": "display_data"
    },
    {
     "data": {
      "application/vnd.jupyter.widget-view+json": {
       "model_id": "21d2b50f913d4fb3b4d00cfe443ff8ae",
       "version_major": 2,
       "version_minor": 0
      },
      "text/plain": [
       "0it [00:00, ?it/s]"
      ]
     },
     "metadata": {},
     "output_type": "display_data"
    },
    {
     "data": {
      "application/vnd.jupyter.widget-view+json": {
       "model_id": "20491047f0134a19884c322104c4215f",
       "version_major": 2,
       "version_minor": 0
      },
      "text/plain": [
       "0it [00:00, ?it/s]"
      ]
     },
     "metadata": {},
     "output_type": "display_data"
    },
    {
     "data": {
      "application/vnd.jupyter.widget-view+json": {
       "model_id": "42baa72dd3f4495c8930a5f6b42e4dbc",
       "version_major": 2,
       "version_minor": 0
      },
      "text/plain": [
       "0it [00:00, ?it/s]"
      ]
     },
     "metadata": {},
     "output_type": "display_data"
    },
    {
     "data": {
      "application/vnd.jupyter.widget-view+json": {
       "model_id": "6ab99e5f494f463d91c45ce9d3343e68",
       "version_major": 2,
       "version_minor": 0
      },
      "text/plain": [
       "0it [00:00, ?it/s]"
      ]
     },
     "metadata": {},
     "output_type": "display_data"
    },
    {
     "data": {
      "application/vnd.jupyter.widget-view+json": {
       "model_id": "a643cd1f38f9440f978f2f14b4d4d28b",
       "version_major": 2,
       "version_minor": 0
      },
      "text/plain": [
       "0it [00:00, ?it/s]"
      ]
     },
     "metadata": {},
     "output_type": "display_data"
    },
    {
     "data": {
      "application/vnd.jupyter.widget-view+json": {
       "model_id": "e467bf998b244425ad86ade1569122fe",
       "version_major": 2,
       "version_minor": 0
      },
      "text/plain": [
       "0it [00:00, ?it/s]"
      ]
     },
     "metadata": {},
     "output_type": "display_data"
    },
    {
     "data": {
      "application/vnd.jupyter.widget-view+json": {
       "model_id": "5ee2d9c78f4d40fcb4e0d7008d3de18d",
       "version_major": 2,
       "version_minor": 0
      },
      "text/plain": [
       "0it [00:00, ?it/s]"
      ]
     },
     "metadata": {},
     "output_type": "display_data"
    },
    {
     "data": {
      "application/vnd.jupyter.widget-view+json": {
       "model_id": "75ab2ddd5bf24c52bd899c56a877a2f9",
       "version_major": 2,
       "version_minor": 0
      },
      "text/plain": [
       "0it [00:00, ?it/s]"
      ]
     },
     "metadata": {},
     "output_type": "display_data"
    },
    {
     "data": {
      "application/vnd.jupyter.widget-view+json": {
       "model_id": "1d19601827cc4d3a88c21489af7121df",
       "version_major": 2,
       "version_minor": 0
      },
      "text/plain": [
       "0it [00:00, ?it/s]"
      ]
     },
     "metadata": {},
     "output_type": "display_data"
    },
    {
     "data": {
      "application/vnd.jupyter.widget-view+json": {
       "model_id": "64ad180380844dbfadb26d7a6b87c6da",
       "version_major": 2,
       "version_minor": 0
      },
      "text/plain": [
       "0it [00:00, ?it/s]"
      ]
     },
     "metadata": {},
     "output_type": "display_data"
    }
   ],
   "source": [
    "n_iterations = 50\n",
    "label_test = np.array(label_test)\n",
    "age_test = np.array(age_test)\n",
    "img_test = np.array(img_test)\n",
    "gender_test = np.array(gender_test)\n",
    "race_test = np.array(race_test)\n",
    "\n",
    "img_test_age = img_test[age_test != 0]\n",
    "label_test_age = label_test[age_test != 0]\n",
    "gender_test_age = gender_test[age_test != 0]\n",
    "race_test_age = race_test[age_test != 0]\n",
    "age_test_age = age_test[age_test != 0]\n",
    "# img_test_wo_age = img_test[(age_test == 0) & (label_test == 0)]\n",
    "\n",
    "for i in tqdm(range(n_iterations)):\n",
    "    # X_bs, y_bs, age_bs, gender_bs, race_bs = resample(img_test_age, label_test_age, age_test_age, gender_test_age, race_test_age, n_samples=1000, replace=True)\n",
    "    X_bs, y_bs, age_bs, gender_bs, race_bs = resample(img_test, label_test, age_test, gender_test, race_test, n_samples=1000, replace=True)\n",
    "    # X_bs = np.concatenate([X_bs, img_test[age_test == 0]], axis = 0)\n",
    "    # y_bs = np.concatenate([y_bs, label_test[age_test == 0]], axis = 0)\n",
    "    # age_bs = np.concatenate([age_bs, age_test[age_test == 0]], axis = 0)\n",
    "    # gender_bs = np.concatenate([gender_bs, gender_test[age_test == 0]], axis = 0)\n",
    "    # race_bs = np.concatenate([race_bs, race_test[age_test == 0]], axis = 0)\n",
    "    \n",
    "    y_pred = []\n",
    "    y_true = np.array(y_bs)\n",
    "    for img, label in tqdm(zip(X_bs, y_bs)):\n",
    "        img = tf.expand_dims(apply(img), axis = 0)\n",
    "        for each in full_model.predict(img):\n",
    "            y_pred.append(each)\n",
    "    y_pred_one_label = np.array([1 if each[0] >= 0.5 else 0 for each in y_pred])\n",
    "    cm = confusion_matrix(y_true, y_pred_one_label)\n",
    "    _tp = cm[0, 0]\n",
    "    _fn = cm[0, 1]\n",
    "    _fp = cm[1, 0]\n",
    "    _tn = cm[1, 1]\n",
    "    _tpr = _tp / (_tp + _fn)\n",
    "    _fpr = _fp / (_tn + _fp)\n",
    "    _fnr = _fn / (_fn + _tp)\n",
    "    \n",
    "    gender_bs = np.array(gender_bs)\n",
    "    age_bs = np.array(age_bs)\n",
    "    race_bs = np.array(race_bs)\n",
    "    y_pred = np.array(y_pred)\n",
    "    \n",
    "    total['acc'].append(accuracy_score(y_true, y_pred_one_label))\n",
    "    total['auc'].append(roc_auc_score(y_true, np.array(y_pred)))\n",
    "    total['tpr'].append(_tpr)\n",
    "    total['precision'].append(precision_score(y_true, y_pred_one_label))\n",
    "    total['error'].append((_fn+_fp)/(_tp+_fn+_fp+_tn))\n",
    "    total['fpr'].append(_fpr)\n",
    "    total['fnr'].append(_fnr)\n",
    "    total['ep'].append(abs(_fnr-_fpr))\n",
    "    \n",
    "    y_true_gender = y_true[gender_bs == 0]\n",
    "    y_pred_gender_one_label = y_pred_one_label[gender_bs == 0]\n",
    "    y_pred_gender = y_pred[gender_bs == 0]\n",
    "    \n",
    "    cm = confusion_matrix(y_true_gender, y_pred_gender_one_label)\n",
    "    _tp = cm[0, 0]\n",
    "    _fn = cm[0, 1]\n",
    "    _fp = cm[1, 0]\n",
    "    _tn = cm[1, 1]\n",
    "    _tpr = _tp / (_tp + _fn)\n",
    "    _fpr = _fp / (_tn + _fp)\n",
    "    _fnr = _fn / (_fn + _tp)\n",
    "    \n",
    "    male['acc'].append(accuracy_score(y_true_gender, y_pred_gender_one_label))\n",
    "    male['auc'].append(roc_auc_score(y_true_gender, np.array(y_pred_gender)))\n",
    "    male['tpr'].append(_tpr)\n",
    "    male['precision'].append(precision_score(y_true_gender, y_pred_gender_one_label))\n",
    "    male['error'].append((_fn+_fp)/(_tp+_fn+_fp+_tn))\n",
    "    male['fpr'].append(_fpr)\n",
    "    male['fnr'].append(_fnr)\n",
    "    male['ep'].append(abs(_fnr-_fpr))\n",
    "    \n",
    "    y_true_gender = y_true[gender_bs == 1]\n",
    "    y_pred_gender_one_label = y_pred_one_label[gender_bs == 1]\n",
    "    y_pred_gender = y_pred[gender_bs == 1]\n",
    "    \n",
    "    cm = confusion_matrix(y_true_gender, y_pred_gender_one_label)\n",
    "    _tp = cm[0, 0]\n",
    "    _fn = cm[0, 1]\n",
    "    _fp = cm[1, 0]\n",
    "    _tn = cm[1, 1]\n",
    "    _tpr = _tp / (_tp + _fn)\n",
    "    _fpr = _fp / (_tn + _fp)\n",
    "    _fnr = _fn / (_fn + _tp)\n",
    "    \n",
    "    female['acc'].append(accuracy_score(y_true_gender, y_pred_gender_one_label))\n",
    "    female['auc'].append(roc_auc_score(y_true_gender, np.array(y_pred_gender)))\n",
    "    female['tpr'].append(_tpr)\n",
    "    female['precision'].append(precision_score(y_true_gender, y_pred_gender_one_label))\n",
    "    female['error'].append((_fn+_fp)/(_tp+_fn+_fp+_tn))\n",
    "    female['fpr'].append(_fpr)\n",
    "    female['fnr'].append(_fnr)\n",
    "    female['ep'].append(abs(_fnr-_fpr))\n",
    "    \n",
    "#     y_true_gender = y_true[age_bs == 0]\n",
    "#     y_pred_gender_one_label = y_pred_one_label[age_bs == 0]\n",
    "#     y_pred_gender = y_pred[age_bs == 0]\n",
    "    \n",
    "#     cm = confusion_matrix(y_true_gender, y_pred_gender_one_label)\n",
    "#     _tp = cm[0, 0]\n",
    "#     _fn = cm[0, 1]\n",
    "#     _fp = cm[1, 0]\n",
    "#     _tn = cm[1, 1]\n",
    "#     _tpr = _tp / (_tp + _fn)\n",
    "#     _fpr = _fp / (_tn + _fp)\n",
    "#     _fnr = _fn / (_fn + _tp)\n",
    "#     age1['acc'].append(accuracy_score(y_true_gender, y_pred_gender_one_label))\n",
    "#     age1['auc'].append(roc_auc_score(y_true_gender, np.array(y_pred_gender)))\n",
    "#     age1['tpr'].append(_tpr)\n",
    "#     age1['precision'].append(precision_score(y_true_gender, y_pred_gender_one_label))\n",
    "#     age1['error'].append((_fn+_fp)/(_tp+_fn+_fp+_tn))\n",
    "#     age1['fpr'].append(_fpr)\n",
    "#     age1['fnr'].append(_fnr)\n",
    "#     age1['ep'].append(abs(_fnr-_fpr))\n",
    "    \n",
    "    y_true_gender = y_true[age_bs <= 1]\n",
    "    y_pred_gender_one_label = y_pred_one_label[age_bs <= 1]\n",
    "    y_pred_gender = y_pred[age_bs <= 1]\n",
    "    cm = confusion_matrix(y_true_gender, y_pred_gender_one_label)\n",
    "    _tp = cm[0, 0]\n",
    "    _fn = cm[0, 1]\n",
    "    _fp = cm[1, 0]\n",
    "    _tn = cm[1, 1]\n",
    "    _tpr = _tp / (_tp + _fn)\n",
    "    _fnr = _fn / (_fn + _tp)\n",
    "    _fpr = _fp / (_tn + _fp)\n",
    "    age2['acc'].append(accuracy_score(y_true_gender, y_pred_gender_one_label))\n",
    "    age2['auc'].append(roc_auc_score(y_true_gender, np.array(y_pred_gender)))\n",
    "    age2['tpr'].append(_tpr)\n",
    "    age2['precision'].append(precision_score(y_true_gender, y_pred_gender_one_label))\n",
    "    age2['error'].append((_fn+_fp)/(_tp+_fn+_fp+_tn))\n",
    "    age2['fpr'].append(_fpr)\n",
    "    age2['fnr'].append(_fnr)\n",
    "    age2['ep'].append(abs(_fnr-_fpr))\n",
    "    \n",
    "    y_true_gender = y_true[age_bs == 2]\n",
    "    y_pred_gender_one_label = y_pred_one_label[age_bs == 2]\n",
    "    y_pred_gender = y_pred[age_bs == 2]\n",
    "    cm = confusion_matrix(y_true_gender, y_pred_gender_one_label)\n",
    "    _tp = cm[0, 0]\n",
    "    _fn = cm[0, 1]\n",
    "    _fp = cm[1, 0]\n",
    "    _tn = cm[1, 1]\n",
    "    _tpr = _tp / (_tp + _fn)\n",
    "    _fpr = _fp / (_tn + _fp)\n",
    "    _fnr = _fn / (_fn + _tp)\n",
    "    age3['acc'].append(accuracy_score(y_true_gender, y_pred_gender_one_label))\n",
    "    age3['auc'].append(roc_auc_score(y_true_gender, np.array(y_pred_gender)))\n",
    "    age3['tpr'].append(_tpr)\n",
    "    age3['precision'].append(precision_score(y_true_gender, y_pred_gender_one_label))\n",
    "    age3['error'].append((_fn+_fp)/(_tp+_fn+_fp+_tn))\n",
    "    age3['fpr'].append(_fpr)\n",
    "    age3['fnr'].append(_fnr)\n",
    "    age3['ep'].append(abs(_fnr-_fpr))\n",
    "    \n",
    "    y_true_gender = y_true[age_bs == 3]\n",
    "    y_pred_gender_one_label = y_pred_one_label[age_bs == 3]\n",
    "    y_pred_gender = y_pred[age_bs == 3]\n",
    "    cm = confusion_matrix(y_true_gender, y_pred_gender_one_label)\n",
    "    _tp = cm[0, 0]\n",
    "    _fn = cm[0, 1]\n",
    "    _fp = cm[1, 0]\n",
    "    _tn = cm[1, 1]\n",
    "    _tpr = _tp / (_tp + _fn)\n",
    "    _fpr = _fp / (_tn + _fp)\n",
    "    _fnr = _fn / (_fn + _tp)\n",
    "    age4['acc'].append(accuracy_score(y_true_gender, y_pred_gender_one_label))\n",
    "    age4['auc'].append(roc_auc_score(y_true_gender, np.array(y_pred_gender)))\n",
    "    age4['tpr'].append(_tpr)\n",
    "    age4['precision'].append(precision_score(y_true_gender, y_pred_gender_one_label))\n",
    "    age4['error'].append((_fn+_fp)/(_tp+_fn+_fp+_tn))\n",
    "    age4['fpr'].append(_fpr)\n",
    "    age4['fnr'].append(_fnr)\n",
    "    age4['ep'].append(abs(_fnr-_fpr))\n",
    "    \n",
    "    y_true_gender = y_true[age_bs == 4]\n",
    "    y_pred_gender_one_label = y_pred_one_label[age_bs == 4]\n",
    "    y_pred_gender = y_pred[age_bs == 4]\n",
    "    cm = confusion_matrix(y_true_gender, y_pred_gender_one_label)\n",
    "    _tp = cm[0, 0]\n",
    "    _fn = cm[0, 1]\n",
    "    _fp = cm[1, 0]\n",
    "    _tn = cm[1, 1]\n",
    "    _tpr = _tp / (_tp + _fn)\n",
    "    _fpr = _fp / (_tn + _fp)\n",
    "    _fnr = _fn / (_fn + _tp)\n",
    "    \n",
    "    age5['acc'].append(accuracy_score(y_true_gender, y_pred_gender_one_label))\n",
    "    age5['auc'].append(roc_auc_score(y_true_gender, np.array(y_pred_gender)))\n",
    "    age5['tpr'].append(_tpr)\n",
    "    age5['precision'].append(precision_score(y_true_gender, y_pred_gender_one_label))\n",
    "    age5['error'].append((_fn+_fp)/(_tp+_fn+_fp+_tn))\n",
    "    age5['fpr'].append(_fpr)\n",
    "    age5['fnr'].append(_fnr)\n",
    "    age5['ep'].append(abs(_fnr-_fpr))\n",
    "    \n",
    "    #race\n",
    "    y_true_gender = y_true[race_bs == 0]\n",
    "    y_pred_gender_one_label = y_pred_one_label[race_bs == 0]\n",
    "    y_pred_gender = y_pred[race_bs == 0]\n",
    "    \n",
    "    cm = confusion_matrix(y_true_gender, y_pred_gender_one_label)\n",
    "    _tp = cm[0, 0]\n",
    "    _fn = cm[0, 1]\n",
    "    _fp = cm[1, 0]\n",
    "    _tn = cm[1, 1]\n",
    "    _tpr = _tp / (_tp + _fn)\n",
    "    _fpr = _fp / (_tn + _fp)\n",
    "    _fnr = _fn / (_fn + _tp)\n",
    "    race0['acc'].append(accuracy_score(y_true_gender, y_pred_gender_one_label))\n",
    "    race0['auc'].append(roc_auc_score(y_true_gender, np.array(y_pred_gender)))\n",
    "    race0['tpr'].append(_tpr)\n",
    "    race0['precision'].append(precision_score(y_true_gender, y_pred_gender_one_label))\n",
    "    race0['error'].append((_fn+_fp)/(_tp+_fn+_fp+_tn))\n",
    "    race0['fpr'].append(_fpr)\n",
    "    race0['fnr'].append(_fnr)\n",
    "    race0['ep'].append(abs(_fnr-_fpr))\n",
    "    \n",
    "    y_true_gender = y_true[race_bs == 1]\n",
    "    y_pred_gender_one_label = y_pred_one_label[race_bs == 1]\n",
    "    y_pred_gender = y_pred[race_bs == 1]\n",
    "    cm = confusion_matrix(y_true_gender, y_pred_gender_one_label)\n",
    "    _tp = cm[0, 0]\n",
    "    _fn = cm[0, 1]\n",
    "    _fp = cm[1, 0]\n",
    "    _tn = cm[1, 1]\n",
    "    _tpr = _tp / (_tp + _fn)\n",
    "    _fnr = _fn / (_fn + _tp)\n",
    "    _fpr = _fp / (_tn + _fp)\n",
    "    race1['acc'].append(accuracy_score(y_true_gender, y_pred_gender_one_label))\n",
    "    race1['auc'].append(roc_auc_score(y_true_gender, np.array(y_pred_gender)))\n",
    "    race1['tpr'].append(_tpr)\n",
    "    race1['precision'].append(precision_score(y_true_gender, y_pred_gender_one_label))\n",
    "    race1['error'].append((_fn+_fp)/(_tp+_fn+_fp+_tn))\n",
    "    race1['fpr'].append(_fpr)\n",
    "    race1['fnr'].append(_fnr)\n",
    "    race1['ep'].append(abs(_fnr-_fpr))\n",
    "    \n",
    "    y_true_gender = y_true[race_bs == 4]\n",
    "    y_pred_gender_one_label = y_pred_one_label[race_bs == 4]\n",
    "    y_pred_gender = y_pred[race_bs == 4]\n",
    "    cm = confusion_matrix(y_true_gender, y_pred_gender_one_label)\n",
    "    _tp = cm[0, 0]\n",
    "    _fn = cm[0, 1]\n",
    "    _fp = cm[1, 0]\n",
    "    _tn = cm[1, 1]\n",
    "    _tpr = _tp / (_tp + _fn)\n",
    "    _fpr = _fp / (_tn + _fp)\n",
    "    _fnr = _fn / (_fn + _tp)\n",
    "    race2['acc'].append(accuracy_score(y_true_gender, y_pred_gender_one_label))\n",
    "    race2['auc'].append(roc_auc_score(y_true_gender, np.array(y_pred_gender)))\n",
    "    race2['tpr'].append(_tpr)\n",
    "    race2['precision'].append(precision_score(y_true_gender, y_pred_gender_one_label))\n",
    "    race2['error'].append((_fn+_fp)/(_tp+_fn+_fp+_tn))\n",
    "    race2['fpr'].append(_fpr)\n",
    "    race2['fnr'].append(_fnr)\n",
    "    race2['ep'].append(abs(_fnr-_fpr))\n",
    "    \n",
    "    "
   ]
  },
  {
   "cell_type": "markdown",
   "id": "cfbfea7f-af36-4af6-9db6-de683676540b",
   "metadata": {},
   "source": [
    "# Gap"
   ]
  },
  {
   "cell_type": "code",
   "execution_count": 48,
   "id": "60fcb71f-b53f-4628-895c-a78ff479ef62",
   "metadata": {},
   "outputs": [],
   "source": [
    "for m in metrics:\n",
    "    age_gap[m] = np.ptp(np.vstack((age2[m], age3[m], age4[m], age5[m])).T, axis=1)\n",
    "    gender_gap[m] = np.ptp(np.vstack((male[m], female[m])).T, axis=1)\n",
    "    race_gap[m] = np.ptp(np.vstack((race0[m], race1[m], race2[m])).T, axis=1)\n",
    "    med = np.median(np.vstack((age2[m], age3[m], age4[m], age5[m])).T, axis = 1)\n",
    "    tmp2 = abs(age2[m] - med)\n",
    "    tmp3 = abs(age3[m] - med)\n",
    "    tmp4 = abs(age4[m] - med)\n",
    "    tmp5 = abs(age5[m] - med)\n",
    "    avg_age[m] = np.mean((tmp2, tmp3, tmp4, tmp5), axis = 0)\n",
    "    \n",
    "    med = np.median(np.vstack((race0[m], race1[m], race2[m])).T, axis = 1)\n",
    "    tmp1 = abs(race0[m] - med)\n",
    "    tmp2 = abs(race1[m] - med)\n",
    "    tmp3 = abs(race2[m] - med)\n",
    "    avg_race[m] = np.mean((tmp1, tmp2, tmp3), axis = 0)"
   ]
  },
  {
   "cell_type": "code",
   "execution_count": 49,
   "id": "629004cf-5f0c-452b-aedc-6414861c5850",
   "metadata": {},
   "outputs": [
    {
     "data": {
      "text/plain": [
       "([0.905,\n",
       "  0.893,\n",
       "  0.871,\n",
       "  0.881,\n",
       "  0.877,\n",
       "  0.894,\n",
       "  0.891,\n",
       "  0.886,\n",
       "  0.881,\n",
       "  0.897,\n",
       "  0.875,\n",
       "  0.873,\n",
       "  0.882,\n",
       "  0.869,\n",
       "  0.862,\n",
       "  0.884,\n",
       "  0.868,\n",
       "  0.89,\n",
       "  0.876,\n",
       "  0.883,\n",
       "  0.883,\n",
       "  0.892,\n",
       "  0.883,\n",
       "  0.87,\n",
       "  0.881,\n",
       "  0.882,\n",
       "  0.883,\n",
       "  0.882,\n",
       "  0.893,\n",
       "  0.874,\n",
       "  0.894,\n",
       "  0.874,\n",
       "  0.905,\n",
       "  0.877,\n",
       "  0.895,\n",
       "  0.883,\n",
       "  0.863,\n",
       "  0.868,\n",
       "  0.892,\n",
       "  0.868,\n",
       "  0.884,\n",
       "  0.879,\n",
       "  0.888,\n",
       "  0.877,\n",
       "  0.886,\n",
       "  0.876,\n",
       "  0.888,\n",
       "  0.865,\n",
       "  0.878,\n",
       "  0.881],\n",
       " array([0.03998813, 0.00756912, 0.00083748, 0.00419083, 0.01092437,\n",
       "        0.00491267, 0.04484702, 0.00105844, 0.01219624, 0.02406241,\n",
       "        0.02600666, 0.03349213, 0.02472989, 0.02147347, 0.042497  ,\n",
       "        0.00221228, 0.0189443 , 0.01324769, 0.02365915, 0.0270043 ,\n",
       "        0.03953301, 0.04594413, 0.01326256, 0.05379098, 0.0422977 ,\n",
       "        0.03397193, 0.00859631, 0.00254996, 0.03688525, 0.04207223,\n",
       "        0.0229252 , 0.02546521, 0.03846154, 0.02846285, 0.03848988,\n",
       "        0.00277439, 0.01005259, 0.02338187, 0.04450469, 0.03768571,\n",
       "        0.0403464 , 0.04839744, 0.0181883 , 0.04950089, 0.00304981,\n",
       "        0.01150405, 0.03376745, 0.04038145, 0.05259945, 0.01633882]),\n",
       " array([0.18602822, 0.06505634, 0.25099147, 0.13762524, 0.20250469,\n",
       "        0.23987147, 0.18263745, 0.0793667 , 0.15956851, 0.05562457,\n",
       "        0.15686152, 0.16956577, 0.06845029, 0.21323232, 0.1780218 ,\n",
       "        0.19863489, 0.22245976, 0.1499109 , 0.01899996, 0.12988111,\n",
       "        0.12661594, 0.13859527, 0.16856881, 0.12453792, 0.19024812,\n",
       "        0.15944399, 0.13546305, 0.16071057, 0.0252011 , 0.08640343,\n",
       "        0.11417233, 0.19225324, 0.0941829 , 0.18101662, 0.11867069,\n",
       "        0.24982257, 0.15634802, 0.20764614, 0.12150678, 0.19317622,\n",
       "        0.10732092, 0.23910781, 0.11313884, 0.22932952, 0.14230769,\n",
       "        0.23777705, 0.29489323, 0.26224451, 0.19244683, 0.12097089]),\n",
       " array([0.03051948, 0.02757764, 0.09143156, 0.13009809, 0.08869245,\n",
       "        0.15151515, 0.03107735, 0.00716846, 0.09601677, 0.0719697 ,\n",
       "        0.01630435, 0.08062371, 0.0714372 , 0.05497896, 0.01511444,\n",
       "        0.02934082, 0.02172884, 0.19636719, 0.11172498, 0.02717391,\n",
       "        0.0527916 , 0.04970139, 0.04295221, 0.03193702, 0.08577047,\n",
       "        0.09536407, 0.07372506, 0.17382125, 0.04816433, 0.07085828,\n",
       "        0.06593407, 0.03526384, 0.05667954, 0.05564784, 0.04871538,\n",
       "        0.03737444, 0.11451727, 0.01943857, 0.1875    , 0.12432432,\n",
       "        0.0170068 , 0.03075803, 0.03526221, 0.12301587, 0.09176282,\n",
       "        0.02198985, 0.02517703, 0.10670315, 0.09595376, 0.04913411]))"
      ]
     },
     "execution_count": 49,
     "metadata": {},
     "output_type": "execute_result"
    }
   ],
   "source": [
    "total['acc'], gender_gap['acc'], age_gap['ep'], race_gap['acc']"
   ]
  },
  {
   "cell_type": "markdown",
   "id": "43e0b7d4-6c81-404d-9412-e64f0bfc737c",
   "metadata": {},
   "source": [
    "# To_csv"
   ]
  },
  {
   "cell_type": "code",
   "execution_count": 25,
   "id": "c9a40f56-28ce-4971-b5c9-ed31a0a51c3f",
   "metadata": {},
   "outputs": [],
   "source": [
    "# model_name = 'siamese-proposed-race'\n",
    "# for m in metrics:\n",
    "#     df = pd.read_csv('D:\\\\Lab\\\\x-ray\\\\result_csv\\\\' + model_name + '-' + cur + '-' + m + '-2.csv')\n",
    "#     age1[m] = df['Age_0']\n",
    "#     age2[m] = df['Age_1']\n",
    "#     age3[m] = df['Age_2']\n",
    "#     age4[m] = df['Age_3']\n",
    "#     age5[m] = df['Age_4']\n",
    "#     race0[m] = df['Race_0']\n",
    "#     race1[m] = df['Race_1']\n",
    "#     race2[m] = df['Race_2']\n",
    "#     total[m] = df['Total']\n",
    "#     male[m] = df['Male']\n",
    "#     female[m] = df['Female']\n",
    "#     age_gap[m] = np.ptp(np.vstack((age1[m], age2[m], age3[m], age4[m], age5[m])).T, axis=1)\n",
    "#     gender_gap[m] = np.ptp(np.vstack((male[m], female[m])).T, axis=1)\n",
    "#     race_gap[m] = np.ptp(np.vstack((race0[m], race1[m], race2[m])).T, axis=1)\n",
    "#     med = np.median(np.vstack((age1[m], age2[m], age3[m], age4[m], age5[m])).T, axis = 1)\n",
    "#     tmp1 = abs(age1[m] - med)\n",
    "#     tmp2 = abs(age2[m] - med)\n",
    "#     tmp3 = abs(age3[m] - med)\n",
    "#     tmp4 = abs(age4[m] - med)\n",
    "#     tmp5 = abs(age5[m] - med)\n",
    "#     avg_age[m] = np.mean((tmp1, tmp2, tmp3, tmp4, tmp5), axis = 0)\n",
    "    \n",
    "#     med = np.median(np.vstack((race0[m], race1[m], race2[m])).T, axis = 1)\n",
    "#     tmp1 = abs(race0[m] - med)\n",
    "#     tmp2 = abs(race1[m] - med)\n",
    "#     tmp3 = abs(race2[m] - med)\n",
    "#     avg_race[m] = np.mean((tmp1, tmp2, tmp3), axis = 0)"
   ]
  },
  {
   "cell_type": "code",
   "execution_count": 50,
   "id": "2fe1da9d-2278-4a60-993f-2b06f092f268",
   "metadata": {},
   "outputs": [],
   "source": [
    "for m in metrics:\n",
    "    df_csv = pd.DataFrame({'Total':total[m], 'Male':male[m], 'Female':female[m], 'Age_1':age2[m], 'Age_2':age3[m], 'Age_3':age4[m], 'Age_4':age5[m], \n",
    "                           'Race_0':race0[m], 'Race_1':race1[m], 'Race_2':race2[m],\n",
    "                           'Age_Gap':age_gap[m], 'Gender_Gap':gender_gap[m], 'Race_Gap':race_gap[m], 'avg_age':avg_age[m], 'avg_race':avg_race[m]})\n",
    "    \n",
    "    df_csv.to_csv('D:\\\\Lab\\\\x-ray\\\\result_csv\\\\' + model_name + '-' + cur + '-' + m + '.csv', index=False)"
   ]
  },
  {
   "cell_type": "code",
   "execution_count": 37,
   "id": "229fb06c-bdb6-480c-80ac-d3ce7e79bbee",
   "metadata": {},
   "outputs": [],
   "source": [
    "# # df = [total,male,female,age1,age2,age3]\n",
    "# df_csv = pd.DataFrame({'Total':total, 'Male':male, 'Female':female, 'Age_51-70':age1, 'Age_71-80':age2, 'Age_81-100':age3, 'Age_Gap':age_gap, 'Gender_Gap':gender_gap})\n",
    "# # df_csv = pd.DataFrame(df, columns=['Total','Male','Female','Age_51-70', 'Age_71-80','Age_81-100'])\n",
    "# df_csv.to_csv('../result/' + model_name + '-' + cur + '-' + metrics + '.csv', index=False)"
   ]
  },
  {
   "cell_type": "code",
   "execution_count": null,
   "id": "ec880e86-6991-40f4-8b6d-77e0cd07a33d",
   "metadata": {},
   "outputs": [],
   "source": []
  }
 ],
 "metadata": {
  "kernelspec": {
   "display_name": "Python 3 (ipykernel)",
   "language": "python",
   "name": "python3"
  },
  "language_info": {
   "codemirror_mode": {
    "name": "ipython",
    "version": 3
   },
   "file_extension": ".py",
   "mimetype": "text/x-python",
   "name": "python",
   "nbconvert_exporter": "python",
   "pygments_lexer": "ipython3",
   "version": "3.9.13"
  }
 },
 "nbformat": 4,
 "nbformat_minor": 5
}
