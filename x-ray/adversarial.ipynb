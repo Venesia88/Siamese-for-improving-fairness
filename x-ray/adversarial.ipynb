{
 "cells": [
  {
   "cell_type": "markdown",
   "id": "54003230-7d78-4d2d-b126-7cc404cd37d9",
   "metadata": {},
   "source": [
    "# Import"
   ]
  },
  {
   "cell_type": "code",
   "execution_count": 24,
   "id": "2b5877b3-28cc-49f1-a55d-4e4b4022546e",
   "metadata": {},
   "outputs": [],
   "source": [
    "import tensorflow as tf\n",
    "import numpy as np\n",
    "import cv2 as cv\n",
    "from tqdm import tqdm\n",
    "import matplotlib.pyplot as plt\n",
    "from sklearn.metrics import confusion_matrix, f1_score, roc_curve, auc, roc_auc_score, classification_report, accuracy_score, silhouette_score"
   ]
  },
  {
   "cell_type": "code",
   "execution_count": 25,
   "id": "18bf2900-b8bc-421a-b00c-e318603f8c8a",
   "metadata": {},
   "outputs": [],
   "source": [
    "from tensorflow import keras\n",
    "from tensorflow.keras.applications.densenet import DenseNet121\n",
    "from tensorflow.keras.models import Model\n",
    "from tensorflow.keras.layers import Dense, Activation, Flatten, Dropout, BatchNormalization, GlobalAveragePooling2D, Input\n",
    "from tensorflow.keras.callbacks import ModelCheckpoint, CSVLogger, LearningRateScheduler, ReduceLROnPlateau, EarlyStopping, TensorBoard\n",
    "from tensorflow.keras.preprocessing import image\n",
    "from tensorflow.keras.optimizers import Adadelta, Adam, SGD, Adagrad"
   ]
  },
  {
   "cell_type": "code",
   "execution_count": 26,
   "id": "7393aeeb-3ad6-4459-9a6c-0d2d180b8a3c",
   "metadata": {},
   "outputs": [
    {
     "name": "stdout",
     "output_type": "stream",
     "text": [
      "1 Physical GPUs, 1 Logical GPUs\n"
     ]
    }
   ],
   "source": [
    "gpus = tf.config.experimental.list_physical_devices('GPU')\n",
    "if gpus:\n",
    "    try:\n",
    "    # Currently, memory growth needs to be the same across GPUs\n",
    "        tf.config.experimental.set_visible_devices(gpus[0], 'GPU')\n",
    "      #  for gpu in gpus:\n",
    "        tf.config.experimental.set_memory_growth(gpus[0], True)\n",
    "        logical_gpus = tf.config.experimental.list_logical_devices('GPU')\n",
    "        print(len(gpus), \"Physical GPUs,\", len(logical_gpus), \"Logical GPUs\")\n",
    "    except RuntimeError as e:\n",
    "    # Memory growth must be set before GPUs have been initialized\n",
    "        print(e)"
   ]
  },
  {
   "cell_type": "code",
   "execution_count": 27,
   "id": "26beccc7-cbca-438e-b050-8b4ab7c3f4eb",
   "metadata": {},
   "outputs": [],
   "source": [
    "train_filename = './data/new_mimic_train.tfrecords'\n",
    "val_filename = './data/new_mimic_val.tfrecords'\n",
    "test_filename = './data/new_mimic_test.tfrecords'\n",
    "IMAGE_WIDTH, IMAGE_HEIGHT = 256, 256\n",
    "BUFFER_SIZE = 1000\n",
    "BATCH_SIZE = 32\n",
    "current_group = 'race'\n",
    "\n",
    "if current_group == 'race':\n",
    "    group_class = 3\n",
    "elif current_group == 'age':\n",
    "    group_class = 4\n",
    "else:\n",
    "    group_class = 2"
   ]
  },
  {
   "cell_type": "code",
   "execution_count": 28,
   "id": "cbf5d70e-0cdc-4a66-b679-388b738e3b9f",
   "metadata": {},
   "outputs": [],
   "source": [
    "feature_description = {\n",
    "    'jpg_bytes': tf.io.FixedLenFeature([], tf.string),\n",
    "    'race': tf.io.FixedLenFeature([], tf.int64),\n",
    "    'age': tf.io.FixedLenFeature([], tf.int64),\n",
    "    'gender': tf.io.FixedLenFeature([], tf.int64),\n",
    "    'subject_id': tf.io.FixedLenFeature([], tf.int64),\n",
    "    'Cardiomegaly': tf.io.FixedLenFeature([], tf.float32),\n",
    "    'Consolidation': tf.io.FixedLenFeature([], tf.float32),\n",
    "    'Edema': tf.io.FixedLenFeature([], tf.float32),\n",
    "    'Enlarged Cardiomediastinum': tf.io.FixedLenFeature([], tf.float32),\n",
    "    'Lung Opacity': tf.io.FixedLenFeature([], tf.float32),\n",
    "    'Atelectasis': tf.io.FixedLenFeature([], tf.float32),\n",
    "    'No Finding': tf.io.FixedLenFeature([], tf.float32),\n",
    "    'Pleural Effusion': tf.io.FixedLenFeature([], tf.float32),\n",
    "    'Pneumonia': tf.io.FixedLenFeature([], tf.float32),\n",
    "    'Pneumothorax': tf.io.FixedLenFeature([], tf.float32)\n",
    "}\n",
    "\n",
    "label_list = ['Pneumothorax', 'Pneumonia', 'Pleural Effusion', 'No Finding', 'Atelectasis', 'Lung Opacity','Enlarged Cardiomediastinum', 'Edema', 'Consolidation', 'Cardiomegaly']"
   ]
  },
  {
   "cell_type": "markdown",
   "id": "7d0c7f06-7f0e-4cde-a2e2-6fd947a7b61a",
   "metadata": {},
   "source": [
    "# Preprocess"
   ]
  },
  {
   "cell_type": "code",
   "execution_count": 29,
   "id": "a00ac750-38ab-4dc6-aa9c-3965f8a19d3c",
   "metadata": {},
   "outputs": [],
   "source": [
    "def _parse(example):\n",
    "    return tf.io.parse_single_example(example, feature_description)\n",
    "\n",
    "def read_tfrecord(example):\n",
    "    example = tf.io.parse_single_example(example, feature_description)\n",
    "    img = tf.image.decode_jpeg(example['jpg_bytes'], channels=3)\n",
    "    img = tf.cast(img, tf.float32)\n",
    "    labels = [tf.cast(0, tf.int32) if example['No Finding'] == 1 else tf.cast(1, tf.int32)]\n",
    "    groups = [tf.cast(2, tf.int32) if example['race'] == 4 else tf.cast(example['race'], tf.int32)]\n",
    "    # groups = tf.expand_dims(groups, axis = 0)\n",
    "    \n",
    "    return img, labels, groups\n",
    "\n",
    "def _fixup_shape(images, labels, groups):\n",
    "    images.set_shape([IMAGE_HEIGHT,IMAGE_WIDTH, 3])\n",
    "    labels.set_shape([1])\n",
    "    groups.set_shape([1])\n",
    "    return images, labels, groups"
   ]
  },
  {
   "cell_type": "code",
   "execution_count": 30,
   "id": "e7d7628d-d252-4151-92ef-6bd24ca4fe11",
   "metadata": {},
   "outputs": [],
   "source": [
    "def load_dataset(filename):\n",
    "    dataset = tf.data.TFRecordDataset(filename)\n",
    "    dataset = dataset.map(read_tfrecord, num_parallel_calls = tf.data.experimental.AUTOTUNE).map(_fixup_shape)\n",
    "    dataset = dataset.shuffle(BUFFER_SIZE)\n",
    "    dataset = dataset.batch(BATCH_SIZE, drop_remainder=True)\n",
    "    dataset = dataset.prefetch(buffer_size=tf.data.experimental.AUTOTUNE)\n",
    "    return dataset\n"
   ]
  },
  {
   "cell_type": "code",
   "execution_count": 31,
   "id": "dc6a9766-06c3-45ea-93e5-30f777b38454",
   "metadata": {},
   "outputs": [],
   "source": [
    "dataset_train = load_dataset(train_filename)\n",
    "dataset_val = load_dataset(val_filename)\n",
    "dataset_test = load_dataset(test_filename)"
   ]
  },
  {
   "cell_type": "code",
   "execution_count": 32,
   "id": "c36d0e47-c5b2-40df-9d1e-b78d8479fed6",
   "metadata": {},
   "outputs": [
    {
     "name": "stderr",
     "output_type": "stream",
     "text": [
      "Clipping input data to the valid range for imshow with RGB data ([0..1] for floats or [0..255] for integers).\n",
      "Clipping input data to the valid range for imshow with RGB data ([0..1] for floats or [0..255] for integers).\n",
      "Clipping input data to the valid range for imshow with RGB data ([0..1] for floats or [0..255] for integers).\n",
      "Clipping input data to the valid range for imshow with RGB data ([0..1] for floats or [0..255] for integers).\n",
      "Clipping input data to the valid range for imshow with RGB data ([0..1] for floats or [0..255] for integers).\n",
      "Clipping input data to the valid range for imshow with RGB data ([0..1] for floats or [0..255] for integers).\n",
      "Clipping input data to the valid range for imshow with RGB data ([0..1] for floats or [0..255] for integers).\n",
      "Clipping input data to the valid range for imshow with RGB data ([0..1] for floats or [0..255] for integers).\n",
      "Clipping input data to the valid range for imshow with RGB data ([0..1] for floats or [0..255] for integers).\n",
      "Clipping input data to the valid range for imshow with RGB data ([0..1] for floats or [0..255] for integers).\n",
      "Clipping input data to the valid range for imshow with RGB data ([0..1] for floats or [0..255] for integers).\n",
      "Clipping input data to the valid range for imshow with RGB data ([0..1] for floats or [0..255] for integers).\n",
      "Clipping input data to the valid range for imshow with RGB data ([0..1] for floats or [0..255] for integers).\n",
      "Clipping input data to the valid range for imshow with RGB data ([0..1] for floats or [0..255] for integers).\n",
      "Clipping input data to the valid range for imshow with RGB data ([0..1] for floats or [0..255] for integers).\n",
      "Clipping input data to the valid range for imshow with RGB data ([0..1] for floats or [0..255] for integers).\n",
      "Clipping input data to the valid range for imshow with RGB data ([0..1] for floats or [0..255] for integers).\n",
      "Clipping input data to the valid range for imshow with RGB data ([0..1] for floats or [0..255] for integers).\n",
      "Clipping input data to the valid range for imshow with RGB data ([0..1] for floats or [0..255] for integers).\n",
      "Clipping input data to the valid range for imshow with RGB data ([0..1] for floats or [0..255] for integers).\n",
      "Clipping input data to the valid range for imshow with RGB data ([0..1] for floats or [0..255] for integers).\n",
      "Clipping input data to the valid range for imshow with RGB data ([0..1] for floats or [0..255] for integers).\n",
      "Clipping input data to the valid range for imshow with RGB data ([0..1] for floats or [0..255] for integers).\n",
      "Clipping input data to the valid range for imshow with RGB data ([0..1] for floats or [0..255] for integers).\n",
      "Clipping input data to the valid range for imshow with RGB data ([0..1] for floats or [0..255] for integers).\n",
      "Clipping input data to the valid range for imshow with RGB data ([0..1] for floats or [0..255] for integers).\n",
      "Clipping input data to the valid range for imshow with RGB data ([0..1] for floats or [0..255] for integers).\n",
      "Clipping input data to the valid range for imshow with RGB data ([0..1] for floats or [0..255] for integers).\n",
      "Clipping input data to the valid range for imshow with RGB data ([0..1] for floats or [0..255] for integers).\n",
      "Clipping input data to the valid range for imshow with RGB data ([0..1] for floats or [0..255] for integers).\n",
      "Clipping input data to the valid range for imshow with RGB data ([0..1] for floats or [0..255] for integers).\n",
      "Clipping input data to the valid range for imshow with RGB data ([0..1] for floats or [0..255] for integers).\n"
     ]
    },
    {
     "data": {
      "image/png": "[encoded data removed]",
      "text/plain": [
       "<Figure size 1000x1000 with 32 Axes>"
      ]
     },
     "metadata": {},
     "output_type": "display_data"
    }
   ],
   "source": [
    "plt.figure(figsize=(10, 10))\n",
    "for img, label, domain in dataset_val.take(1):\n",
    "    for n in range(32):\n",
    "        ax = plt.subplot(4, 8, n+1)\n",
    "        plt.imshow(img[n], cmap='gray')\n",
    "        plt.axis(\"off\")"
   ]
  },
  {
   "cell_type": "markdown",
   "id": "d5f519fa-c1e5-4c12-a5c2-b9dc9e70461a",
   "metadata": {},
   "source": [
    "# Classifier"
   ]
  },
  {
   "cell_type": "code",
   "execution_count": 33,
   "id": "727ad2a6-92f4-40ae-9556-d14a0670c0d5",
   "metadata": {},
   "outputs": [],
   "source": [
    "@tf.custom_gradient\n",
    "def gradient_reverse(x, lamda=1.0):\n",
    "    y = tf.identity(x)\n",
    "    \n",
    "    def grad(dy):\n",
    "        return lamda * -dy, None\n",
    "    \n",
    "    return y, grad\n",
    "\n",
    "\n",
    "class GradientReversalLayer(tf.keras.layers.Layer):\n",
    "    def __init__(self):\n",
    "        super().__init__()\n",
    "    \n",
    "    def call(self, x, lamda=1.0):\n",
    "        return gradient_reverse(x, lamda)"
   ]
  },
  {
   "cell_type": "code",
   "execution_count": 34,
   "id": "7f1bbe92-5502-4166-ae54-b2c25c4cb5b2",
   "metadata": {},
   "outputs": [],
   "source": [
    "class FeatureGenerator(Model):\n",
    "    def __init__(self):\n",
    "        super(FeatureGenerator, self).__init__() \n",
    "        self.base_model = DenseNet121(weights='imagenet', include_top=False, pooling='avg')\n",
    "        \n",
    "\n",
    "    def call(self, x):\n",
    "        x = tf.keras.applications.densenet.preprocess_input(x)\n",
    "        x = self.base_model(x)\n",
    "\n",
    "        return x\n",
    "\n",
    "feature_generator = FeatureGenerator()"
   ]
  },
  {
   "cell_type": "code",
   "execution_count": 35,
   "id": "a69fd6e9-0f31-4459-b753-341e51a042ff",
   "metadata": {},
   "outputs": [],
   "source": [
    "#for layer in feature_generator.base_model.layers:\n",
    " #   layer.trainable = False"
   ]
  },
  {
   "cell_type": "code",
   "execution_count": 36,
   "id": "360d1f94-99f6-463d-ac87-b3c2c1399c17",
   "metadata": {},
   "outputs": [],
   "source": [
    "class LabelPredictor(Model):\n",
    "    def __init__(self):\n",
    "        super(LabelPredictor, self).__init__() \n",
    "        self.label_predictor_layer4 = Dense(1, activation='sigmoid')\n",
    "\n",
    "\n",
    "    def call(self, feature):  \n",
    "        pred = self.label_predictor_layer4(feature)\n",
    "\n",
    "        return pred\n",
    "\n",
    "label_predictor = LabelPredictor()"
   ]
  },
  {
   "cell_type": "code",
   "execution_count": 37,
   "id": "117d1fe9-c0ed-474a-8b4f-8f67bd6f8c26",
   "metadata": {},
   "outputs": [],
   "source": [
    "class DomainPredictor(Model):\n",
    "    def __init__(self):\n",
    "        super(DomainPredictor, self).__init__()   \n",
    "        self.domain_predictor_layer0 = GradientReversalLayer()\n",
    "        self.domain_predictor_layer3 = Dense(group_class, activation='softmax')\n",
    "\n",
    "    def call(self, feature, lamda=1.0):\n",
    "        dp_x = self.domain_predictor_layer0(feature, lamda) \n",
    "        pred = self.domain_predictor_layer3(dp_x)\n",
    "        return pred\n",
    "\n",
    "domain_predictor = DomainPredictor()"
   ]
  },
  {
   "cell_type": "markdown",
   "id": "5ed0c808-5dc5-4ae6-86e1-7a057a24e37e",
   "metadata": {
    "tags": []
   },
   "source": [
    "# Train"
   ]
  },
  {
   "cell_type": "code",
   "execution_count": 18,
   "id": "fc85d386-a9d2-4789-9a0f-13b705174988",
   "metadata": {},
   "outputs": [],
   "source": [
    "loss_object = tf.keras.losses.BinaryCrossentropy()\n",
    "loss_domain = tf.keras.losses.SparseCategoricalCrossentropy()\n",
    "d_optimizer = tf.keras.optimizers.Adam(learning_rate=0.0001)\n",
    "f_optimizer = tf.keras.optimizers.Adam(learning_rate=0.0001)\n",
    "\n",
    "\n",
    "train_dc_accuracy = tf.keras.metrics.SparseCategoricalAccuracy(name='train_dc_accuracy')\n",
    "val_dc_accuracy = tf.keras.metrics.SparseCategoricalAccuracy(name='val_dc_accuracy')\n",
    "\n",
    "train_lp_accuracy = tf.keras.metrics.AUC(name='train_lp_accuracy')\n",
    "val_lp_accuracy = tf.keras.metrics.AUC(name='val_lp_accuracy')\n",
    "\n",
    "train_lp_loss = tf.keras.metrics.Mean(name='train_lp_loss')\n",
    "train_dc_loss = tf.keras.metrics.Mean(name='train_dc_loss')\n",
    "val_lp_loss = tf.keras.metrics.Mean(name='val_lp_loss')\n",
    "val_dc_loss = tf.keras.metrics.Mean(name='val_dc_loss')\n"
   ]
  },
  {
   "cell_type": "code",
   "execution_count": 19,
   "id": "9baf181f-438e-48b7-a44f-269a6affea08",
   "metadata": {},
   "outputs": [],
   "source": [
    "@tf.function\n",
    "def train_step(images, labels, domains, domain = True):\n",
    "    with tf.GradientTape(persistent=True) as tape:\n",
    "        logit = feature_generator(images)\n",
    "        l_predictions = label_predictor(logit)\n",
    "        lp_loss = loss_object(labels, l_predictions)  \n",
    "        \n",
    "    lp_grad = tape.gradient(lp_loss, label_predictor.trainable_variables)\n",
    "    fe_grad = tape.gradient(lp_loss, feature_generator.trainable_variables)\n",
    "    \n",
    "    if domain:\n",
    "        with tf.GradientTape(persistent=True) as tape:\n",
    "            logit = feature_generator(images)\n",
    "            d_predictions = domain_predictor(logit)\n",
    "            dc_loss = loss_domain(domains, d_predictions) \n",
    "\n",
    "        dc_grad = tape.gradient(dc_loss, domain_predictor.trainable_variables)\n",
    "        fe_grad += tape.gradient(dc_loss, feature_generator.trainable_variables)\n",
    "\n",
    "        d_optimizer.apply_gradients(zip(dc_grad, domain_predictor.trainable_variables))\n",
    "        \n",
    "    f_optimizer.apply_gradients(zip(fe_grad, feature_generator.trainable_variables))\n",
    "    \n",
    "    train_lp_loss(lp_loss)\n",
    "    train_lp_accuracy(labels, l_predictions)\n",
    "    \n",
    "    if domain:\n",
    "        train_dc_loss(dc_loss)\n",
    "        train_dc_accuracy(domains, d_predictions)\n",
    "    "
   ]
  },
  {
   "cell_type": "code",
   "execution_count": null,
   "id": "ed0268d8-b8f6-41c2-9127-af4852fc8cf8",
   "metadata": {},
   "outputs": [],
   "source": [
    "@tf.function\n",
    "def val_step(images, labels, domains, domain=True):\n",
    "    \n",
    "    if domain:\n",
    "        features = feature_generator(images, training=False)\n",
    "        l_predictions = label_predictor(features, training=False)\n",
    "        d_predictions = domain_predictor(features, training=False)\n",
    "        lp_loss = loss_object(labels, l_predictions)  \n",
    "        dc_loss = loss_domain(domains, d_predictions)  \n",
    "\n",
    "        val_lp_loss(lp_loss)\n",
    "        val_lp_accuracy(labels, l_predictions)\n",
    "        val_dc_loss(dc_loss)\n",
    "        val_dc_accuracy(domains, d_predictions)\n",
    "        \n",
    "    else:\n",
    "        features = feature_generator(images, training=False)\n",
    "        l_predictions = label_predictor(features, training=False)\n",
    "        val_lp_loss(lp_loss)\n",
    "        val_lp_accuracy(labels, l_predictions)\n",
    "    \n",
    "        "
   ]
  },
  {
   "cell_type": "code",
   "execution_count": null,
   "id": "4d2cbf32-db35-492f-a73a-a654410a905e",
   "metadata": {},
   "outputs": [],
   "source": [
    "def val(domain=True):\n",
    "    for batch in tqdm(dataset_val):\n",
    "        val_step(*batch)\n",
    "        \n",
    "def test(domain=True):\n",
    "    for batch in tqdm(dataset_test):\n",
    "        val_step(*batch)\n",
    "\n",
    "def reset_metrics(target):\n",
    "\n",
    "    if target == 'train':\n",
    "        train_lp_loss.reset_states()\n",
    "        train_lp_accuracy.reset_states()\n",
    "        train_dc_loss.reset_states()\n",
    "        train_dc_accuracy.reset_states()\n",
    "\n",
    "    if target == 'val':\n",
    "        val_lp_loss.reset_states()\n",
    "        val_lp_accuracy.reset_states()\n",
    "        val_dc_loss.reset_states()\n",
    "        val_dc_accuracy.reset_states()\n"
   ]
  },
  {
   "cell_type": "code",
   "execution_count": null,
   "id": "443aeddc-2f63-4e79-b899-4260abc9d828",
   "metadata": {
    "tags": []
   },
   "outputs": [],
   "source": [
    "epochs = 30\n",
    "prev = 0\n",
    "for epoch in range(epochs):\n",
    "    for batch in tqdm(dataset_train):\n",
    "        train_step(*batch, domain=True)\n",
    "\n",
    "    print(\"Training: Epoch {} :\\t Accuracy : {:.3%}, loss : {}, Group Accuracy : {:.3%}, GroupLoss: {}\"\n",
    "          .format(epoch, train_lp_accuracy.result(), train_lp_loss.result(), train_dc_accuracy.result(), train_dc_loss.result()))\n",
    "    \n",
    "    reset_metrics('train')\n",
    "    \n",
    "    val(domain=True)\n",
    "    val_acc = val_lp_accuracy.result()\n",
    "    print(\"Val: Accuracy : {:.3%}, loss : {}, Group Accuracy : {:.3%}, GroupLoss: {}\"\n",
    "          .format(val_lp_accuracy.result(), val_lp_loss.result(), val_dc_accuracy.result(), val_dc_loss.result()))\n",
    "    \n",
    "    if val_acc > prev:\n",
    "        prev = val_acc\n",
    "        print('save acc: {}'.format(val_acc))\n",
    "        feature_generator.save_weights(\"./model/baseline/feature_adversarial_\" current_group + \"_1\")\n",
    "        label_predictor.save_weights(\"./model/baseline/label_adversarial_\" current_group + \"_1\")\n",
    "        domain_predictor.save_weights(\"./model/baseline/domain_adversarial_\" current_group + \"_1\")\n",
    "        \n",
    "    reset_metrics('val')"
   ]
  }
 ],
 "metadata": {
  "kernelspec": {
   "display_name": "Python 3 (ipykernel)",
   "language": "python",
   "name": "python3"
  },
  "language_info": {
   "codemirror_mode": {
    "name": "ipython",
    "version": 3
   },
   "file_extension": ".py",
   "mimetype": "text/x-python",
   "name": "python",
   "nbconvert_exporter": "python",
   "pygments_lexer": "ipython3",
   "version": "3.9.13"
  }
 },
 "nbformat": 4,
 "nbformat_minor": 5
}
