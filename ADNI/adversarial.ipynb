{
 "cells": [
  {
   "cell_type": "markdown",
   "id": "7e9aaa35-6fff-4dae-bdc9-2b626e501acd",
   "metadata": {
    "tags": []
   },
   "source": [
    "# Import"
   ]
  },
  {
   "cell_type": "code",
   "execution_count": 5,
   "id": "4a850ab1-9a0c-4dd6-b4aa-9b89d98668e7",
   "metadata": {},
   "outputs": [],
   "source": [
    "import os\n",
    "import pandas as pd\n",
    "import nibabel as nib\n",
    "import numpy as np\n",
    "import nilearn as nil\n",
    "from sklearn.model_selection import train_test_split, GroupShuffleSplit\n",
    "from tqdm import tqdm\n",
    "from scipy import ndimage\n",
    "from sklearn.utils import class_weight\n",
    "from collections import Counter\n",
    "from sklearn.metrics import confusion_matrix, f1_score, roc_curve, auc, roc_auc_score, classification_report, accuracy_score\n",
    "import seaborn as sn\n",
    "from sklearn.preprocessing import LabelBinarizer\n",
    "from dltk.io.augmentation import *\n",
    "from dltk.io.preprocessing import *\n",
    "from numpy.random import seed\n",
    "import SimpleITK as sitk\n",
    "import warnings\n",
    "warnings.filterwarnings(\"ignore\")\n",
    "from sklearn import metrics\n",
    "import matplotlib.pyplot as plt"
   ]
  },
  {
   "cell_type": "code",
   "execution_count": 6,
   "id": "97785026-1ac2-4917-9d29-0d4c2c54fa39",
   "metadata": {},
   "outputs": [],
   "source": [
    "from __future__ import absolute_import, division, print_function, unicode_literals\n",
    "import six\n",
    "from math import ceil\n",
    "import tensorflow as tf\n",
    "from tensorflow import keras\n",
    "from tensorflow.keras.models import Model\n",
    "from tensorflow.keras.layers import Input, Activation, Dense, Flatten\n",
    "from tensorflow.keras.layers import Conv3D, AveragePooling3D, MaxPooling3D\n",
    "from tensorflow.keras.layers import add\n",
    "from tensorflow.keras.layers import BatchNormalization\n",
    "from tensorflow.keras.regularizers import l2\n",
    "from tensorflow.keras import backend as K\n",
    "from tensorflow.keras.optimizers import Adadelta, Adam, SGD, Adagrad"
   ]
  },
  {
   "cell_type": "code",
   "execution_count": 7,
   "id": "2aa2dd02-c955-406d-9f58-75bf3e89d64c",
   "metadata": {},
   "outputs": [
    {
     "name": "stdout",
     "output_type": "stream",
     "text": [
      "1 Physical GPUs, 1 Logical GPUs\n"
     ]
    }
   ],
   "source": [
    "gpus = tf.config.experimental.list_physical_devices('GPU')\n",
    "if gpus:\n",
    "    try:\n",
    "    # Currently, memory growth needs to be the same across GPUs\n",
    "        tf.config.experimental.set_visible_devices(gpus[0], 'GPU')\n",
    "      #  for gpu in gpus:\n",
    "        tf.config.experimental.set_memory_growth(gpus[0], True)\n",
    "        logical_gpus = tf.config.experimental.list_logical_devices('GPU')\n",
    "        print(len(gpus), \"Physical GPUs,\", len(logical_gpus), \"Logical GPUs\")\n",
    "    except RuntimeError as e:\n",
    "    # Memory growth must be set before GPUs have been initialized\n",
    "        print(e)"
   ]
  },
  {
   "cell_type": "code",
   "execution_count": 8,
   "id": "f5d401da-6194-4a9a-a2b7-17279bbf56d5",
   "metadata": {},
   "outputs": [],
   "source": [
    "ALPHA = 0.3\n",
    "IMAGE_HEIGHT, IMAGE_WIDTH, IMAGE_DEPTH, CHANNELS = (96, 96, 96, 1)\n",
    "BUFFER_SIZE = 1000\n",
    "BATCH_SIZE = 10"
   ]
  },
  {
   "cell_type": "markdown",
   "id": "fffe5ad8-04c7-4004-bf83-62aed1d98683",
   "metadata": {},
   "source": [
    "# Load Data"
   ]
  },
  {
   "cell_type": "code",
   "execution_count": 163,
   "id": "bf6a4f06-a69e-46eb-8429-d9dbe97d7c1c",
   "metadata": {},
   "outputs": [],
   "source": [
    "fold = \"5\"\n",
    "data = pd.read_csv('..\\\\..\\\\data\\\\combined_data.csv')\n",
    "data_train = pd.read_csv('..\\\\..\\\\data2/train_p0_fold_' + fold + '.csv')\n",
    "data_val = pd.read_csv('..\\\\..\\\\data2\\\\val_p0_fold_' + fold + '.csv')\n",
    "data_test = pd.read_csv('..\\\\..\\\\data2\\\\test_p0_fold_' + fold + '.csv')\n",
    "# data = data.drop(['Format'], axis=11"
   ]
  },
  {
   "cell_type": "code",
   "execution_count": 164,
   "id": "d3fb7802-8993-4b98-94f5-43df12c9ad60",
   "metadata": {},
   "outputs": [],
   "source": [
    "data_train = data_train[data_train.Group != 'MCI']\n",
    "data_val = data_val[data_val.Group != 'MCI']\n",
    "data_test = data_test[data_test.Group != 'MCI']"
   ]
  },
  {
   "cell_type": "code",
   "execution_count": 165,
   "id": "e5bac127-177b-4a15-b5d4-03c1a36bd650",
   "metadata": {},
   "outputs": [
    {
     "data": {
      "text/html": [
       "<div>\n",
       "<style scoped>\n",
       "    .dataframe tbody tr th:only-of-type {\n",
       "        vertical-align: middle;\n",
       "    }\n",
       "\n",
       "    .dataframe tbody tr th {\n",
       "        vertical-align: top;\n",
       "    }\n",
       "\n",
       "    .dataframe thead th {\n",
       "        text-align: right;\n",
       "    }\n",
       "</style>\n",
       "<table border=\"1\" class=\"dataframe\">\n",
       "  <thead>\n",
       "    <tr style=\"text-align: right;\">\n",
       "      <th></th>\n",
       "      <th>Links</th>\n",
       "      <th>Group</th>\n",
       "      <th>Sex</th>\n",
       "      <th>Age</th>\n",
       "      <th>ETH</th>\n",
       "      <th>RACE</th>\n",
       "    </tr>\n",
       "  </thead>\n",
       "  <tbody>\n",
       "    <tr>\n",
       "      <th>0</th>\n",
       "      <td>D:\\Lab\\ADNI\\067_S_1253\\MPR__GradWarp__B1_Corre...</td>\n",
       "      <td>AD</td>\n",
       "      <td>F</td>\n",
       "      <td>63</td>\n",
       "      <td>Not Hisp/Latino</td>\n",
       "      <td>White</td>\n",
       "    </tr>\n",
       "    <tr>\n",
       "      <th>1</th>\n",
       "      <td>D:\\Lab\\ADNI\\067_S_1253\\MPR__GradWarp__B1_Corre...</td>\n",
       "      <td>AD</td>\n",
       "      <td>F</td>\n",
       "      <td>63</td>\n",
       "      <td>Not Hisp/Latino</td>\n",
       "      <td>White</td>\n",
       "    </tr>\n",
       "    <tr>\n",
       "      <th>2</th>\n",
       "      <td>D:\\Lab\\ADNI\\067_S_1253\\MPR__GradWarp__B1_Corre...</td>\n",
       "      <td>AD</td>\n",
       "      <td>F</td>\n",
       "      <td>63</td>\n",
       "      <td>Not Hisp/Latino</td>\n",
       "      <td>White</td>\n",
       "    </tr>\n",
       "    <tr>\n",
       "      <th>3</th>\n",
       "      <td>D:\\Lab\\ADNI\\067_S_1253\\MPR__GradWarp__B1_Corre...</td>\n",
       "      <td>AD</td>\n",
       "      <td>F</td>\n",
       "      <td>63</td>\n",
       "      <td>Not Hisp/Latino</td>\n",
       "      <td>White</td>\n",
       "    </tr>\n",
       "    <tr>\n",
       "      <th>4</th>\n",
       "      <td>D:\\Lab\\ADNI\\067_S_1253\\MPR__GradWarp__B1_Corre...</td>\n",
       "      <td>AD</td>\n",
       "      <td>F</td>\n",
       "      <td>64</td>\n",
       "      <td>Not Hisp/Latino</td>\n",
       "      <td>White</td>\n",
       "    </tr>\n",
       "  </tbody>\n",
       "</table>\n",
       "</div>"
      ],
      "text/plain": [
       "                                               Links Group Sex  Age  \\\n",
       "0  D:\\Lab\\ADNI\\067_S_1253\\MPR__GradWarp__B1_Corre...    AD   F   63   \n",
       "1  D:\\Lab\\ADNI\\067_S_1253\\MPR__GradWarp__B1_Corre...    AD   F   63   \n",
       "2  D:\\Lab\\ADNI\\067_S_1253\\MPR__GradWarp__B1_Corre...    AD   F   63   \n",
       "3  D:\\Lab\\ADNI\\067_S_1253\\MPR__GradWarp__B1_Corre...    AD   F   63   \n",
       "4  D:\\Lab\\ADNI\\067_S_1253\\MPR__GradWarp__B1_Corre...    AD   F   64   \n",
       "\n",
       "               ETH   RACE  \n",
       "0  Not Hisp/Latino  White  \n",
       "1  Not Hisp/Latino  White  \n",
       "2  Not Hisp/Latino  White  \n",
       "3  Not Hisp/Latino  White  \n",
       "4  Not Hisp/Latino  White  "
      ]
     },
     "execution_count": 165,
     "metadata": {},
     "output_type": "execute_result"
    }
   ],
   "source": [
    "data_val.head()"
   ]
  },
  {
   "cell_type": "code",
   "execution_count": 166,
   "id": "9ba094c1-4dd0-45d5-a6c7-01051c711e82",
   "metadata": {},
   "outputs": [
    {
     "data": {
      "text/plain": [
       "((1040, 6), (240, 6), (214, 6))"
      ]
     },
     "execution_count": 166,
     "metadata": {},
     "output_type": "execute_result"
    }
   ],
   "source": [
    "data_train.shape, data_val.shape, data_test.shape"
   ]
  },
  {
   "cell_type": "code",
   "execution_count": 167,
   "id": "fa252aa0-2b8f-4e80-92e6-0d34208a480f",
   "metadata": {},
   "outputs": [],
   "source": [
    "seed(1)"
   ]
  },
  {
   "cell_type": "code",
   "execution_count": 168,
   "id": "51bc105f-ab0b-4782-9ac1-5d34fd4c0198",
   "metadata": {},
   "outputs": [],
   "source": [
    "c = set()\n",
    "for each in data_train['RACE'].to_numpy():\n",
    "    c.add(each)"
   ]
  },
  {
   "cell_type": "markdown",
   "id": "02021998-eb63-4f37-be74-c283d325890f",
   "metadata": {},
   "source": [
    "# Preprocess"
   ]
  },
  {
   "cell_type": "code",
   "execution_count": 169,
   "id": "2a4ce285-0410-4d9d-b130-40ec71386cb0",
   "metadata": {},
   "outputs": [],
   "source": [
    "def bbox(mask):\n",
    "    r = np.any(mask, axis=(1, 2))\n",
    "    c = np.any(mask, axis=(0, 2))\n",
    "    z = np.any(mask, axis=(0, 1))\n",
    "\n",
    "    rmin, rmax = np.where(r)[0][[0, -1]]\n",
    "    cmin, cmax = np.where(c)[0][[0, -1]]\n",
    "    zmin, zmax = np.where(z)[0][[0, -1]]\n",
    "    \n",
    "    return rmin, rmax, cmin, cmax, zmin, zmax"
   ]
  },
  {
   "cell_type": "code",
   "execution_count": 170,
   "id": "60066e69-5bb6-4406-95ec-2f55e7cb2d5a",
   "metadata": {},
   "outputs": [],
   "source": [
    "def resize_image_with_crop_or_pad(image, img_size=(64, 64, 64), **kwargs):\n",
    "    \"\"\"Image resizing. Resizes image by cropping or padding dimension\n",
    "     to fit specified size.\n",
    "\n",
    "    Args:\n",
    "        image (np.ndarray): image to be resized\n",
    "        img_size (list or tuple): new image size\n",
    "        kwargs (): additional arguments to be passed to np.pad\n",
    "\n",
    "    Returns:\n",
    "        np.ndarray: resized image\n",
    "    \"\"\"\n",
    "\n",
    "    assert isinstance(image, (np.ndarray, np.generic))\n",
    "    assert (image.ndim - 1 == len(img_size) or image.ndim == len(img_size)), \\\n",
    "        'Example size doesnt fit image size'\n",
    "\n",
    "    # Get the image dimensionality\n",
    "    rank = len(img_size)\n",
    "\n",
    "    # Create placeholders for the new shape\n",
    "    from_indices = [[0, image.shape[dim]] for dim in range(rank)]\n",
    "    to_padding = [[0, 0] for dim in range(rank)]\n",
    "\n",
    "    slicer = [slice(None)] * rank\n",
    "\n",
    "    # For each dimensions find whether it is supposed to be cropped or padded\n",
    "    for i in range(rank):\n",
    "        if image.shape[i] < img_size[i]:\n",
    "            to_padding[i][0] = (img_size[i] - image.shape[i]) // 2\n",
    "            to_padding[i][1] = img_size[i] - image.shape[i] - to_padding[i][0]\n",
    "        else:\n",
    "            from_indices[i][0] = int(np.floor((image.shape[i] - img_size[i]) / 2.))\n",
    "            from_indices[i][1] = from_indices[i][0] + img_size[i]\n",
    "\n",
    "        # Create slicer object to crop or leave each dimension\n",
    "        slicer[i] = slice(from_indices[i][0], from_indices[i][1])\n",
    "\n",
    "    # Pad the cropped image to extend the missing dimension\n",
    "    return np.pad(image[slicer[0],slicer[1],slicer[2]], to_padding, **kwargs)"
   ]
  },
  {
   "cell_type": "code",
   "execution_count": 171,
   "id": "da8f2d80-5def-4ce4-bb55-3a29b2bd37c7",
   "metadata": {},
   "outputs": [],
   "source": [
    "def apply_mask_train(filename, labels, groups):\n",
    "    # name = tf.strings.split(filename, sep= '\\\\')\n",
    "    # masked_filename = name[:-1]\n",
    "    # image_name = name[-1]\n",
    "    # masked_filename = '\\\\'.join(masked_filename) + '\\\\Masked.nii'\n",
    "    # masked_filename = tf.strings.join(masked_filename, separator='\\\\') +'\\\\c1' + image_name\n",
    "    # print(masked_filename)\n",
    "    img = nib.load(filename.numpy().decode()).get_fdata()\n",
    "    rmin, rmax, cmin, cmax, zmin, zmax = bbox(img)\n",
    "    img = img[rmin:rmax, cmin:cmax, zmin:zmax]\n",
    "    r,c,z = img.shape\n",
    "    diff_r, diff_c, diff_z = r-IMAGE_HEIGHT, c-IMAGE_WIDTH, z-IMAGE_DEPTH\n",
    "    # new_img = img\n",
    "    if diff_r > 0:\n",
    "        img = img[diff_r//2:r-diff_r//2,:,:]\n",
    "    if diff_c > 0:\n",
    "        img = img[:,diff_c//2:c-diff_c//2,:]\n",
    "    if diff_z > 0:\n",
    "        img = img[:,:,diff_z//2:z-diff_z//2]\n",
    "    img = resize_image_with_crop_or_pad(img, (IMAGE_HEIGHT, IMAGE_WIDTH, IMAGE_DEPTH))\n",
    "    img = tf.convert_to_tensor(img, dtype=tf.float32)\n",
    "    labels = tf.convert_to_tensor(labels, dtype=tf.int32)\n",
    "    groups = tf.convert_to_tensor(groups, dtype=tf.int32)\n",
    "    return img, labels, groups\n",
    "\n",
    "def wrapper_train(filename, labels, groups):\n",
    "    img, label, group = tf.py_function(apply_mask_train, [filename, labels, groups], [tf.float32, tf.int32, tf.int32])\n",
    "    return img, label, group"
   ]
  },
  {
   "cell_type": "code",
   "execution_count": 172,
   "id": "6d764443-5d14-4f8a-a6b5-0b3b7d24ee39",
   "metadata": {},
   "outputs": [],
   "source": [
    "def _fixup_shape(images, labels, groups):\n",
    "    images.set_shape([IMAGE_HEIGHT,IMAGE_WIDTH, IMAGE_DEPTH])\n",
    "    labels.set_shape([1])\n",
    "    groups.set_shape([1])\n",
    "    return images, labels, groups"
   ]
  },
  {
   "cell_type": "markdown",
   "id": "91ac0577-e11f-49f7-92d8-d16aeceab230",
   "metadata": {
    "tags": []
   },
   "source": [
    "# Dataset"
   ]
  },
  {
   "cell_type": "code",
   "execution_count": 173,
   "id": "a0b639cb-89b8-49d9-9b6a-712b4016c443",
   "metadata": {},
   "outputs": [],
   "source": [
    "img_path_train, img_path_val, img_path_test = data_train['Links'].to_numpy(), data_val['Links'].to_numpy(), data_test['Links'].to_numpy()\n",
    "label_train, label_val, label_test = data_train['Group'].to_numpy(), data_val['Group'].to_numpy(), data_test['Group'].to_numpy()\n",
    "sex_train, sex_val, sex_test = data_train['Sex'].to_numpy(), data_val['Sex'].to_numpy(), data_test['Sex'].to_numpy()\n",
    "group_train, group_val, group_test = data_train['Age'].to_numpy(), data_val['Age'].to_numpy(), data_test['Age'].to_numpy()\n",
    "label_to_index = dict((name, index) for index, name in enumerate(np.unique(label_train)))\n",
    "index_to_label = dict((index, name) for index, name in enumerate(np.unique(label_train)))\n",
    "\n",
    "sex_to_index = dict((name, index) for index, name in enumerate(np.unique(sex_train)))\n",
    "index_to_sex = dict((index, name) for index, name in enumerate(np.unique(sex_train)))"
   ]
  },
  {
   "cell_type": "code",
   "execution_count": 174,
   "id": "29ad54ed-1b5b-4a9a-a71a-6da1c51b550c",
   "metadata": {},
   "outputs": [
    {
     "data": {
      "text/plain": [
       "({'AD': 0, 'CN': 1}, {0: 'AD', 1: 'CN'})"
      ]
     },
     "execution_count": 174,
     "metadata": {},
     "output_type": "execute_result"
    }
   ],
   "source": [
    "label_to_index, index_to_label"
   ]
  },
  {
   "cell_type": "code",
   "execution_count": 175,
   "id": "ffde4a37-bb0b-4567-aaea-631b0464329d",
   "metadata": {},
   "outputs": [],
   "source": [
    "for idx, each in enumerate(group_train):\n",
    "    if each <= 70:\n",
    "        group_train[idx] = 0\n",
    "    elif each <= 80:\n",
    "        group_train[idx] = 1\n",
    "    else:\n",
    "        group_train[idx] = 2\n",
    "    \n",
    "for idx, each in enumerate(group_val):\n",
    "    if each <= 70:\n",
    "        group_val[idx] = 0\n",
    "    elif each <= 80:\n",
    "        group_val[idx] = 1\n",
    "    else:\n",
    "        group_val[idx] = 2\n",
    "\n",
    "for idx, each in enumerate(group_test):\n",
    "    if each <= 70:\n",
    "        group_test[idx] = 0\n",
    "    elif each <= 80:\n",
    "        group_test[idx] = 1\n",
    "    else:\n",
    "        group_test[idx] = 2"
   ]
  },
  {
   "cell_type": "code",
   "execution_count": 176,
   "id": "97b8fbf3-a0fc-4c08-b6b7-eb7689afb1b0",
   "metadata": {},
   "outputs": [],
   "source": [
    "# group_train = group_train.astype('int32')\n",
    "group_train = np.array(group_train).reshape((-1, 1))\n",
    "# group_val = group_val.astype('int32')\n",
    "group_val = np.array(group_val).reshape((-1, 1))\n",
    "# group_test = group_test.astype('int32')\n",
    "group_test = np.array(group_test).reshape((-1, 1))"
   ]
  },
  {
   "cell_type": "code",
   "execution_count": 177,
   "id": "1f84250d-9bdb-4fda-a6c4-2445ce79280e",
   "metadata": {},
   "outputs": [],
   "source": [
    "label_train = [label_to_index[l] for l in label_train]\n",
    "label_train = np.array(label_train).reshape((-1, 1))\n",
    "label_val = [label_to_index[l] for l in label_val]\n",
    "label_val = np.array(label_val).reshape((-1, 1))\n",
    "label_test = [label_to_index[l] for l in label_test]\n",
    "label_test = np.array(label_test).reshape((-1, 1))"
   ]
  },
  {
   "cell_type": "code",
   "execution_count": 178,
   "id": "e6c76667-d037-4dfa-88a7-10d1fba1465c",
   "metadata": {},
   "outputs": [],
   "source": [
    "sex_train = [sex_to_index[l] for l in sex_train]\n",
    "sex_train = np.array(sex_train).reshape((-1, 1))\n",
    "sex_val = [sex_to_index[l] for l in sex_val]\n",
    "sex_val = np.array(sex_val).reshape((-1, 1))\n",
    "sex_test = [sex_to_index[l] for l in sex_test]\n",
    "sex_test = np.array(sex_test).reshape((-1, 1))"
   ]
  },
  {
   "cell_type": "code",
   "execution_count": 179,
   "id": "2872a453-fbcf-491c-9b84-49a1eeffc500",
   "metadata": {},
   "outputs": [
    {
     "data": {
      "text/plain": [
       "{'<70': 98, '71-80': 651, '80+': 291}"
      ]
     },
     "execution_count": 179,
     "metadata": {},
     "output_type": "execute_result"
    }
   ],
   "source": [
    "unique, count = np.unique(group_train, return_counts=True)\n",
    "dict(zip(['<70','71-80','80+'], count))"
   ]
  },
  {
   "cell_type": "code",
   "execution_count": 180,
   "id": "c76a6b14-f630-425f-bd1b-8b9130f2c9aa",
   "metadata": {},
   "outputs": [
    {
     "data": {
      "text/plain": [
       "{'<70': 26, '71-80': 149, '80+': 65}"
      ]
     },
     "execution_count": 180,
     "metadata": {},
     "output_type": "execute_result"
    }
   ],
   "source": [
    "unique, count = np.unique(group_val, return_counts=True)\n",
    "dict(zip(['<70','71-80','80+'], count))"
   ]
  },
  {
   "cell_type": "code",
   "execution_count": 181,
   "id": "fcc54741-b16d-4674-8891-a8f0f467afe4",
   "metadata": {},
   "outputs": [
    {
     "data": {
      "text/plain": [
       "{'<70': 22, '71-80': 129, '80+': 63}"
      ]
     },
     "execution_count": 181,
     "metadata": {},
     "output_type": "execute_result"
    }
   ],
   "source": [
    "unique, count = np.unique(group_test, return_counts=True)\n",
    "dict(zip(['<70','71-80','80+'], count))"
   ]
  },
  {
   "cell_type": "code",
   "execution_count": 182,
   "id": "3602d749-a6a6-44d2-ab02-aff89d6f1f5b",
   "metadata": {},
   "outputs": [
    {
     "data": {
      "text/plain": [
       "{'AD': 388, 'CN': 652}"
      ]
     },
     "execution_count": 182,
     "metadata": {},
     "output_type": "execute_result"
    }
   ],
   "source": [
    "unique, count = np.unique(label_train, return_counts=True)\n",
    "dict(zip(['AD','CN','MCI'], count))"
   ]
  },
  {
   "cell_type": "code",
   "execution_count": 183,
   "id": "041563e7-6858-409c-9567-b23a80d42957",
   "metadata": {},
   "outputs": [
    {
     "data": {
      "text/plain": [
       "{'AD': 84, 'CN': 156}"
      ]
     },
     "execution_count": 183,
     "metadata": {},
     "output_type": "execute_result"
    }
   ],
   "source": [
    "unique, count = np.unique(label_val, return_counts=True)\n",
    "dict(zip(['AD','CN','MCI'], count))"
   ]
  },
  {
   "cell_type": "code",
   "execution_count": 184,
   "id": "e21f6dc6-6cb4-46d2-91b8-166112545262",
   "metadata": {},
   "outputs": [
    {
     "data": {
      "text/plain": [
       "{'AD': 86, 'CN': 128}"
      ]
     },
     "execution_count": 184,
     "metadata": {},
     "output_type": "execute_result"
    }
   ],
   "source": [
    "unique, count = np.unique(label_test, return_counts=True)\n",
    "dict(zip(['AD','CN','MCI'], count))"
   ]
  },
  {
   "cell_type": "code",
   "execution_count": 185,
   "id": "9abfb1f4-574a-499e-a446-485ea4fff2a0",
   "metadata": {},
   "outputs": [
    {
     "data": {
      "text/plain": [
       "{0: 1.3402061855670102, 1: 0.7975460122699386}"
      ]
     },
     "execution_count": 185,
     "metadata": {},
     "output_type": "execute_result"
    }
   ],
   "source": [
    "class_weights = class_weight.compute_class_weight(class_weight = 'balanced', classes = np.unique(data_train['Group']), y = data_train['Group'])\n",
    "class_weights = dict(enumerate(class_weights))\n",
    "class_weights"
   ]
  },
  {
   "cell_type": "code",
   "execution_count": 186,
   "id": "0201f4b2-7ee3-4a8e-a8b8-ebc83534081e",
   "metadata": {},
   "outputs": [],
   "source": [
    "# the dataset objects we prepared for you\n",
    "dataset_train = tf.data.Dataset.from_tensor_slices((np.array(img_path_train), label_train, sex_train))\n",
    "dataset_train = dataset_train.map(wrapper_train, \n",
    "                      num_parallel_calls = tf.data.experimental.AUTOTUNE).map(_fixup_shape)\n",
    "dataset_train = dataset_train.shuffle(BUFFER_SIZE)\n",
    "\n",
    "dataset_train = dataset_train.batch(BATCH_SIZE, drop_remainder=True)\n",
    "dataset_train = dataset_train.prefetch(buffer_size=tf.data.experimental.AUTOTUNE)\n",
    "\n",
    "\n",
    "dataset_val = tf.data.Dataset.from_tensor_slices((np.array(img_path_val), label_val, sex_val))\n",
    "dataset_val = dataset_val.map(wrapper_train, num_parallel_calls=tf.data.experimental.AUTOTUNE).map(_fixup_shape)\n",
    "dataset_val = dataset_val.batch(BATCH_SIZE, drop_remainder=True)\n",
    "\n",
    "dataset_test = tf.data.Dataset.from_tensor_slices((np.array(img_path_test), label_test, sex_test))\n",
    "dataset_test = dataset_test.map(wrapper_train, num_parallel_calls=tf.data.experimental.AUTOTUNE).map(_fixup_shape)\n",
    "dataset_test = dataset_test.batch(BATCH_SIZE, drop_remainder=True)"
   ]
  },
  {
   "cell_type": "code",
   "execution_count": 187,
   "id": "ab857204-407e-4c5e-9e57-39d1ca210a4f",
   "metadata": {},
   "outputs": [
    {
     "name": "stdout",
     "output_type": "stream",
     "text": [
      "tf.Tensor(\n",
      "[[0]\n",
      " [0]\n",
      " [0]\n",
      " [0]\n",
      " [0]\n",
      " [0]\n",
      " [0]\n",
      " [0]\n",
      " [0]\n",
      " [0]], shape=(10, 1), dtype=int32)\n",
      "tf.Tensor(\n",
      "[[0]\n",
      " [0]\n",
      " [0]\n",
      " [0]\n",
      " [0]\n",
      " [0]\n",
      " [0]\n",
      " [1]\n",
      " [0]\n",
      " [1]], shape=(10, 1), dtype=int32)\n"
     ]
    },
    {
     "data": {
      "image/png": "[encoded data removed]",
      "text/plain": [
       "<Figure size 1200x600 with 6 Axes>"
      ]
     },
     "metadata": {},
     "output_type": "display_data"
    }
   ],
   "source": [
    "for masked_img, label, group in dataset_val.take(1):\n",
    "    fig, ax = plt.subplots(2,3, figsize = (12, 6))\n",
    "    ax[0][0].imshow(masked_img[0][:,:,masked_img[0].shape[2]//2], cmap='gray')\n",
    "    ax[0][0].set_title('Image_0')\n",
    "    ax[0][1].imshow(masked_img[0][:,masked_img[0].shape[1]//2, :], cmap='gray')\n",
    "    ax[0][1].set_title('Image_0')\n",
    "    ax[0][2].imshow(masked_img[0][masked_img[0].shape[0]//2], cmap='gray')\n",
    "    ax[0][2].set_title('Image')\n",
    "    ax[1][0].imshow(masked_img[3][:,:,masked_img[1].shape[2]//2], cmap='gray')\n",
    "    ax[1][0].set_title('Image')\n",
    "    ax[1][1].imshow(masked_img[3][:,masked_img[1].shape[1]//2, :], cmap='gray')\n",
    "    ax[1][1].set_title('Image')\n",
    "    ax[1][2].imshow(masked_img[3][masked_img[1].shape[0]//2], cmap='gray')\n",
    "    ax[1][2].set_title('Image')\n",
    "    print(label)\n",
    "    print(group)"
   ]
  },
  {
   "cell_type": "markdown",
   "id": "fb4b2fea-90c0-4cfc-ae91-3dbb251a7bc8",
   "metadata": {},
   "source": [
    "# Classifier"
   ]
  },
  {
   "cell_type": "code",
   "execution_count": 188,
   "id": "2b69752b-7057-40dc-b9a7-3af3abd5e340",
   "metadata": {},
   "outputs": [],
   "source": [
    "def _bn_relu(input):\n",
    "    \"\"\"\n",
    "    Helper to build a BN -> relu block (by @raghakot).\n",
    "    \"\"\"\n",
    "    norm = BatchNormalization(axis=CHANNEL_AXIS)(input)\n",
    "    return Activation(\"relu\")(norm)\n",
    "\n",
    "def _conv_bn_relu3D(**conv_params):\n",
    "    filters = conv_params[\"filters\"]\n",
    "    kernel_size = conv_params[\"kernel_size\"]\n",
    "    strides = conv_params.setdefault(\"strides\", (1, 1, 1))\n",
    "    kernel_initializer = conv_params.setdefault(\"kernel_initializer\", \"he_normal\")\n",
    "    padding = conv_params.setdefault(\"padding\", \"same\")\n",
    "    kernel_regularizer = conv_params.setdefault(\"kernel_regularizer\", l2(1e-4))\n",
    "\n",
    "    def f(input):\n",
    "        conv = Conv3D(\n",
    "            filters=filters, \n",
    "            kernel_size=kernel_size,\n",
    "            strides=strides, \n",
    "            kernel_initializer=kernel_initializer,\n",
    "            padding=padding,\n",
    "            kernel_regularizer=kernel_regularizer\n",
    "            )(input)\n",
    "        return _bn_relu(conv)\n",
    "\n",
    "    return f\n",
    "\n",
    "\n",
    "def _bn_relu_conv3d(**conv_params):\n",
    "    \"\"\"\n",
    "    Helper to build a  BN -> relu -> conv3d block.\n",
    "    \"\"\"\n",
    "    filters = conv_params[\"filters\"]\n",
    "    kernel_size = conv_params[\"kernel_size\"]\n",
    "    strides = conv_params.setdefault(\"strides\", (1, 1, 1))\n",
    "    kernel_initializer = conv_params.setdefault(\"kernel_initializer\", \"he_normal\")\n",
    "    padding = conv_params.setdefault(\"padding\", \"same\")\n",
    "    kernel_regularizer = conv_params.setdefault(\"kernel_regularizer\", l2(1e-4))\n",
    "\n",
    "    def f(input):\n",
    "        activation = _bn_relu(input)\n",
    "        return Conv3D(\n",
    "                   filters=filters, \n",
    "                   kernel_size=kernel_size,\n",
    "                   strides=strides, \n",
    "                   kernel_initializer=kernel_initializer,\n",
    "                   padding=padding,\n",
    "                   kernel_regularizer=kernel_regularizer\n",
    "                   )(activation)\n",
    "    return f\n",
    "\n",
    "\n",
    "def _shortcut3d(input, residual):\n",
    "    \"\"\"\n",
    "    3D shortcut to match input and residual and merges them with \"sum\".\n",
    "    \"\"\"\n",
    "    stride_dim1 = ceil(input.shape[DIM1_AXIS] \\\n",
    "        / residual.shape[DIM1_AXIS])\n",
    "    stride_dim2 = ceil(input.shape[DIM2_AXIS] \\\n",
    "        / residual.shape[DIM2_AXIS])\n",
    "    stride_dim3 = ceil(input.shape[DIM3_AXIS] \\\n",
    "        / residual.shape[DIM3_AXIS])\n",
    "    equal_channels = residual.shape[CHANNEL_AXIS] \\\n",
    "        == input.shape[CHANNEL_AXIS]\n",
    "\n",
    "    shortcut = input\n",
    "    if stride_dim1 > 1 or stride_dim2 > 1 or stride_dim3 > 1 or not equal_channels:\n",
    "        shortcut = Conv3D(\n",
    "            filters=residual.shape[CHANNEL_AXIS],\n",
    "            kernel_size=(1, 1, 1),\n",
    "            strides=(stride_dim1, stride_dim2, stride_dim3),\n",
    "            kernel_initializer=\"he_normal\", \n",
    "            padding=\"valid\",\n",
    "            kernel_regularizer=l2(1e-4)\n",
    "            )(input)\n",
    "    return add([shortcut, residual])\n",
    "\n",
    "\n",
    "def _residual_block3d(block_function, filters, kernel_regularizer, repetitions,\n",
    "                      is_first_layer=False):\n",
    "    def f(input):\n",
    "        for i in range(repetitions):\n",
    "            strides = (1, 1, 1)\n",
    "            if i == 0 and not is_first_layer:\n",
    "                strides = (2, 2, 2)\n",
    "            input = block_function(\n",
    "                filters=filters, \n",
    "                strides=strides,\n",
    "                kernel_regularizer=kernel_regularizer,\n",
    "                is_first_block_of_first_layer=(is_first_layer and i == 0)\n",
    "                )(input)\n",
    "        return input\n",
    "\n",
    "    return f\n",
    "\n",
    "\n",
    "def basic_block(filters, strides=(1, 1, 1), kernel_regularizer=l2(1e-4),\n",
    "                is_first_block_of_first_layer=False):\n",
    "    \"\"\"\n",
    "    Basic 3 X 3 X 3 convolution blocks. \n",
    "    Extended from raghakot's 2D impl.\n",
    "    \"\"\"\n",
    "    def f(input):\n",
    "        if is_first_block_of_first_layer:\n",
    "            # don't repeat bn->relu since we just did bn->relu->maxpool\n",
    "            conv1 = Conv3D(\n",
    "                filters=filters, \n",
    "                kernel_size=(3, 3, 3),\n",
    "                strides=strides, \n",
    "                padding=\"same\",\n",
    "                kernel_initializer=\"he_normal\",\n",
    "                kernel_regularizer=kernel_regularizer\n",
    "                )(input)\n",
    "        else:\n",
    "            conv1 = _bn_relu_conv3d(\n",
    "                filters=filters,\n",
    "                kernel_size=(3, 3, 3),\n",
    "                strides=strides,\n",
    "                kernel_regularizer=kernel_regularizer\n",
    "                )(input)\n",
    "        residual = _bn_relu_conv3d(\n",
    "            filters=filters, \n",
    "            kernel_size=(3, 3, 3),\n",
    "            kernel_regularizer=kernel_regularizer\n",
    "            )(conv1)\n",
    "        return _shortcut3d(input, residual)\n",
    "\n",
    "    return f\n",
    "\n",
    "\n",
    "def bottleneck(filters, strides=(1, 1, 1), kernel_regularizer=l2(1e-4),\n",
    "               is_first_block_of_first_layer=False):\n",
    "    \"\"\"\n",
    "    Basic 3 X 3 X 3 convolution blocks. \n",
    "    Extended from raghakot's 2D impl.\n",
    "    \"\"\"\n",
    "    def f(input):\n",
    "        if is_first_block_of_first_layer:\n",
    "            # don't repeat bn->relu since we just did bn->relu->maxpool\n",
    "            conv_1_1 = Conv3D(\n",
    "                filters=filters, \n",
    "                kernel_size=(1, 1, 1),\n",
    "                strides=strides, \n",
    "                padding=\"same\",\n",
    "                kernel_initializer=\"he_normal\",\n",
    "                kernel_regularizer=kernel_regularizer\n",
    "                )(input)\n",
    "        else:\n",
    "            conv_1_1 = _bn_relu_conv3d(\n",
    "                filters=filters, \n",
    "                kernel_size=(1, 1, 1),\n",
    "                strides=strides,\n",
    "                kernel_regularizer=kernel_regularizer\n",
    "                )(input)\n",
    "        conv_3_3 = _bn_relu_conv3d(\n",
    "            filters=filters, \n",
    "            kernel_size=(3, 3, 3),\n",
    "            kernel_regularizer=kernel_regularizer\n",
    "            )(conv_1_1)\n",
    "        residual = _bn_relu_conv3d(\n",
    "            filters=filters * 4, \n",
    "            kernel_size=(1, 1, 1),\n",
    "            kernel_regularizer=kernel_regularizer\n",
    "            )(conv_3_3)\n",
    "        return _shortcut3d(input, residual)\n",
    "    return f\n",
    "\n",
    "def _handle_data_format():\n",
    "    global DIM1_AXIS\n",
    "    global DIM2_AXIS\n",
    "    global DIM3_AXIS\n",
    "    global CHANNEL_AXIS\n",
    "    if K.image_data_format() == 'channels_last':\n",
    "        DIM1_AXIS = 1\n",
    "        DIM2_AXIS = 2\n",
    "        DIM3_AXIS = 3\n",
    "        CHANNEL_AXIS = 4\n",
    "    else:\n",
    "        CHANNEL_AXIS = 1\n",
    "        DIM1_AXIS = 2\n",
    "        DIM2_AXIS = 3\n",
    "        DIM3_AXIS = 4\n",
    "\n",
    "def _get_block(identifier):\n",
    "    if isinstance(identifier, six.string_types):\n",
    "        res = globals().get(identifier)\n",
    "        if not res:\n",
    "            raise ValueError('Invalid {}'.format(identifier))\n",
    "        return res\n",
    "    return identifier"
   ]
  },
  {
   "cell_type": "code",
   "execution_count": 189,
   "id": "a2a50b60-1384-4266-8fd3-8b48cf697245",
   "metadata": {},
   "outputs": [],
   "source": [
    "class Resnet3DBuilder(object):\n",
    "    \"\"\"\n",
    "    ResNet3D.\n",
    "    \"\"\"\n",
    "\n",
    "    @staticmethod\n",
    "    def build(input_shape, num_outputs, block_fn, repetitions, reg_factor):\n",
    "        \"\"\"\n",
    "        Instantiate a vanilla ResNet3D keras model.\n",
    "        # Arguments\n",
    "            input_shape: Tuple of input shape in the format\n",
    "            (conv_dim1, conv_dim2, conv_dim3, channels) if dim_ordering='tf'\n",
    "            (filter, conv_dim1, conv_dim2, conv_dim3) if dim_ordering='th'\n",
    "            num_outputs: The number of outputs at the final softmax layer\n",
    "            block_fn: Unit block to use {'basic_block', 'bottlenack_block'}\n",
    "            repetitions: Repetitions of unit blocks\n",
    "        # Returns\n",
    "            model: a 3D ResNet model that takes a 5D tensor (volumetric images\n",
    "            in batch) as input and returns a 1D vector (prediction) as output.\n",
    "        \"\"\"\n",
    "        _handle_data_format()\n",
    "        if len(input_shape) != 4:\n",
    "            raise ValueError(\n",
    "                     \"Input shape should be a tuple \"\n",
    "                     \"(conv_dim1, conv_dim2, conv_dim3, channels) \"\n",
    "                     \"for tensorflow as backend or \"\n",
    "                     \"(channels, conv_dim1, conv_dim2, conv_dim3) \"\n",
    "                     \"for theano as backend\"\n",
    "                     )\n",
    "\n",
    "        block_fn = _get_block(block_fn)\n",
    "        input = Input(shape=input_shape)\n",
    "        # first conv\n",
    "        conv1 = _conv_bn_relu3D(\n",
    "            filters=64, \n",
    "            kernel_size=(7, 7, 7),\n",
    "            strides=(2, 2, 2),\n",
    "            kernel_regularizer=l2(reg_factor)\n",
    "            )(input)\n",
    "        pool1 = MaxPooling3D(\n",
    "            pool_size=(3, 3, 3), \n",
    "            strides=(2, 2, 2),\n",
    "            padding=\"same\")(conv1)\n",
    "\n",
    "        # repeat blocks\n",
    "        block = pool1\n",
    "        filters = 64\n",
    "        for i, r in enumerate(repetitions):\n",
    "            block = _residual_block3d(\n",
    "                block_fn, \n",
    "                filters=filters,\n",
    "                kernel_regularizer=l2(reg_factor),\n",
    "                repetitions=r, \n",
    "                is_first_layer=(i == 0)\n",
    "                )(block)\n",
    "            filters *= 2\n",
    "\n",
    "        # last activation\n",
    "        block_output = _bn_relu(block)\n",
    "\n",
    "        # average poll and classification\n",
    "        pool2 = AveragePooling3D(\n",
    "            pool_size=(block.shape[DIM1_AXIS],\n",
    "                       block.shape[DIM2_AXIS],\n",
    "                       block.shape[DIM3_AXIS]),\n",
    "            strides=(1, 1, 1)\n",
    "            )(block_output)\n",
    "        flatten1 = Flatten()(pool2)\n",
    "        if num_outputs > 1:\n",
    "            dense = Dense(\n",
    "                units=num_outputs,\n",
    "                kernel_initializer=\"he_normal\",\n",
    "                activation=\"relu\",\n",
    "                kernel_regularizer=l2(reg_factor)\n",
    "                )(flatten1)\n",
    "        else:\n",
    "            dense = Dense(\n",
    "                units=num_outputs,\n",
    "                kernel_initializer=\"he_normal\",\n",
    "                activation=\"sigmoid\",\n",
    "                kernel_regularizer=l2(reg_factor)\n",
    "                )(flatten1)\n",
    "\n",
    "        model = Model(inputs=input, outputs=dense)\n",
    "        return model\n",
    "\n",
    "    @staticmethod\n",
    "    def build_resnet_18(input_shape, num_outputs, reg_factor=1e-4):\n",
    "        \"\"\"\n",
    "        Build resnet 18.\n",
    "        \"\"\"\n",
    "        return Resnet3DBuilder.build(input_shape, num_outputs, basic_block,\n",
    "                                     [2, 2, 2, 2], reg_factor=reg_factor)"
   ]
  },
  {
   "cell_type": "code",
   "execution_count": 190,
   "id": "849b55b5-070e-4ac5-9c0d-91a60a7db809",
   "metadata": {},
   "outputs": [
    {
     "name": "stdout",
     "output_type": "stream",
     "text": [
      "Model: \"model_4\"\n",
      "__________________________________________________________________________________________________\n",
      "Layer (type)                    Output Shape         Param #     Connected to                     \n",
      "==================================================================================================\n",
      "input_5 (InputLayer)            [(None, 96, 96, 96,  0                                            \n",
      "__________________________________________________________________________________________________\n",
      "conv3d_80 (Conv3D)              (None, 48, 48, 48, 6 22016       input_5[0][0]                    \n",
      "__________________________________________________________________________________________________\n",
      "batch_normalization_68 (BatchNo (None, 48, 48, 48, 6 256         conv3d_80[0][0]                  \n",
      "__________________________________________________________________________________________________\n",
      "activation_68 (Activation)      (None, 48, 48, 48, 6 0           batch_normalization_68[0][0]     \n",
      "__________________________________________________________________________________________________\n",
      "max_pooling3d_4 (MaxPooling3D)  (None, 24, 24, 24, 6 0           activation_68[0][0]              \n",
      "__________________________________________________________________________________________________\n",
      "conv3d_81 (Conv3D)              (None, 24, 24, 24, 6 110656      max_pooling3d_4[0][0]            \n",
      "__________________________________________________________________________________________________\n",
      "batch_normalization_69 (BatchNo (None, 24, 24, 24, 6 256         conv3d_81[0][0]                  \n",
      "__________________________________________________________________________________________________\n",
      "activation_69 (Activation)      (None, 24, 24, 24, 6 0           batch_normalization_69[0][0]     \n",
      "__________________________________________________________________________________________________\n",
      "conv3d_82 (Conv3D)              (None, 24, 24, 24, 6 110656      activation_69[0][0]              \n",
      "__________________________________________________________________________________________________\n",
      "add_32 (Add)                    (None, 24, 24, 24, 6 0           max_pooling3d_4[0][0]            \n",
      "                                                                 conv3d_82[0][0]                  \n",
      "__________________________________________________________________________________________________\n",
      "batch_normalization_70 (BatchNo (None, 24, 24, 24, 6 256         add_32[0][0]                     \n",
      "__________________________________________________________________________________________________\n",
      "activation_70 (Activation)      (None, 24, 24, 24, 6 0           batch_normalization_70[0][0]     \n",
      "__________________________________________________________________________________________________\n",
      "conv3d_83 (Conv3D)              (None, 24, 24, 24, 6 110656      activation_70[0][0]              \n",
      "__________________________________________________________________________________________________\n",
      "batch_normalization_71 (BatchNo (None, 24, 24, 24, 6 256         conv3d_83[0][0]                  \n",
      "__________________________________________________________________________________________________\n",
      "activation_71 (Activation)      (None, 24, 24, 24, 6 0           batch_normalization_71[0][0]     \n",
      "__________________________________________________________________________________________________\n",
      "conv3d_84 (Conv3D)              (None, 24, 24, 24, 6 110656      activation_71[0][0]              \n",
      "__________________________________________________________________________________________________\n",
      "add_33 (Add)                    (None, 24, 24, 24, 6 0           add_32[0][0]                     \n",
      "                                                                 conv3d_84[0][0]                  \n",
      "__________________________________________________________________________________________________\n",
      "batch_normalization_72 (BatchNo (None, 24, 24, 24, 6 256         add_33[0][0]                     \n",
      "__________________________________________________________________________________________________\n",
      "activation_72 (Activation)      (None, 24, 24, 24, 6 0           batch_normalization_72[0][0]     \n",
      "__________________________________________________________________________________________________\n",
      "conv3d_85 (Conv3D)              (None, 12, 12, 12, 1 221312      activation_72[0][0]              \n",
      "__________________________________________________________________________________________________\n",
      "batch_normalization_73 (BatchNo (None, 12, 12, 12, 1 512         conv3d_85[0][0]                  \n",
      "__________________________________________________________________________________________________\n",
      "activation_73 (Activation)      (None, 12, 12, 12, 1 0           batch_normalization_73[0][0]     \n",
      "__________________________________________________________________________________________________\n",
      "conv3d_87 (Conv3D)              (None, 12, 12, 12, 1 8320        add_33[0][0]                     \n",
      "__________________________________________________________________________________________________\n",
      "conv3d_86 (Conv3D)              (None, 12, 12, 12, 1 442496      activation_73[0][0]              \n",
      "__________________________________________________________________________________________________\n",
      "add_34 (Add)                    (None, 12, 12, 12, 1 0           conv3d_87[0][0]                  \n",
      "                                                                 conv3d_86[0][0]                  \n",
      "__________________________________________________________________________________________________\n",
      "batch_normalization_74 (BatchNo (None, 12, 12, 12, 1 512         add_34[0][0]                     \n",
      "__________________________________________________________________________________________________\n",
      "activation_74 (Activation)      (None, 12, 12, 12, 1 0           batch_normalization_74[0][0]     \n",
      "__________________________________________________________________________________________________\n",
      "conv3d_88 (Conv3D)              (None, 12, 12, 12, 1 442496      activation_74[0][0]              \n",
      "__________________________________________________________________________________________________\n",
      "batch_normalization_75 (BatchNo (None, 12, 12, 12, 1 512         conv3d_88[0][0]                  \n",
      "__________________________________________________________________________________________________\n",
      "activation_75 (Activation)      (None, 12, 12, 12, 1 0           batch_normalization_75[0][0]     \n",
      "__________________________________________________________________________________________________\n",
      "conv3d_89 (Conv3D)              (None, 12, 12, 12, 1 442496      activation_75[0][0]              \n",
      "__________________________________________________________________________________________________\n",
      "add_35 (Add)                    (None, 12, 12, 12, 1 0           add_34[0][0]                     \n",
      "                                                                 conv3d_89[0][0]                  \n",
      "__________________________________________________________________________________________________\n",
      "batch_normalization_76 (BatchNo (None, 12, 12, 12, 1 512         add_35[0][0]                     \n",
      "__________________________________________________________________________________________________\n",
      "activation_76 (Activation)      (None, 12, 12, 12, 1 0           batch_normalization_76[0][0]     \n",
      "__________________________________________________________________________________________________\n",
      "conv3d_90 (Conv3D)              (None, 6, 6, 6, 256) 884992      activation_76[0][0]              \n",
      "__________________________________________________________________________________________________\n",
      "batch_normalization_77 (BatchNo (None, 6, 6, 6, 256) 1024        conv3d_90[0][0]                  \n",
      "__________________________________________________________________________________________________\n",
      "activation_77 (Activation)      (None, 6, 6, 6, 256) 0           batch_normalization_77[0][0]     \n",
      "__________________________________________________________________________________________________\n",
      "conv3d_92 (Conv3D)              (None, 6, 6, 6, 256) 33024       add_35[0][0]                     \n",
      "__________________________________________________________________________________________________\n",
      "conv3d_91 (Conv3D)              (None, 6, 6, 6, 256) 1769728     activation_77[0][0]              \n",
      "__________________________________________________________________________________________________\n",
      "add_36 (Add)                    (None, 6, 6, 6, 256) 0           conv3d_92[0][0]                  \n",
      "                                                                 conv3d_91[0][0]                  \n",
      "__________________________________________________________________________________________________\n",
      "batch_normalization_78 (BatchNo (None, 6, 6, 6, 256) 1024        add_36[0][0]                     \n",
      "__________________________________________________________________________________________________\n",
      "activation_78 (Activation)      (None, 6, 6, 6, 256) 0           batch_normalization_78[0][0]     \n",
      "__________________________________________________________________________________________________\n",
      "conv3d_93 (Conv3D)              (None, 6, 6, 6, 256) 1769728     activation_78[0][0]              \n",
      "__________________________________________________________________________________________________\n",
      "batch_normalization_79 (BatchNo (None, 6, 6, 6, 256) 1024        conv3d_93[0][0]                  \n",
      "__________________________________________________________________________________________________\n",
      "activation_79 (Activation)      (None, 6, 6, 6, 256) 0           batch_normalization_79[0][0]     \n",
      "__________________________________________________________________________________________________\n",
      "conv3d_94 (Conv3D)              (None, 6, 6, 6, 256) 1769728     activation_79[0][0]              \n",
      "__________________________________________________________________________________________________\n",
      "add_37 (Add)                    (None, 6, 6, 6, 256) 0           add_36[0][0]                     \n",
      "                                                                 conv3d_94[0][0]                  \n",
      "__________________________________________________________________________________________________\n",
      "batch_normalization_80 (BatchNo (None, 6, 6, 6, 256) 1024        add_37[0][0]                     \n",
      "__________________________________________________________________________________________________\n",
      "activation_80 (Activation)      (None, 6, 6, 6, 256) 0           batch_normalization_80[0][0]     \n",
      "__________________________________________________________________________________________________\n",
      "conv3d_95 (Conv3D)              (None, 3, 3, 3, 512) 3539456     activation_80[0][0]              \n",
      "__________________________________________________________________________________________________\n",
      "batch_normalization_81 (BatchNo (None, 3, 3, 3, 512) 2048        conv3d_95[0][0]                  \n",
      "__________________________________________________________________________________________________\n",
      "activation_81 (Activation)      (None, 3, 3, 3, 512) 0           batch_normalization_81[0][0]     \n",
      "__________________________________________________________________________________________________\n",
      "conv3d_97 (Conv3D)              (None, 3, 3, 3, 512) 131584      add_37[0][0]                     \n",
      "__________________________________________________________________________________________________\n",
      "conv3d_96 (Conv3D)              (None, 3, 3, 3, 512) 7078400     activation_81[0][0]              \n",
      "__________________________________________________________________________________________________\n",
      "add_38 (Add)                    (None, 3, 3, 3, 512) 0           conv3d_97[0][0]                  \n",
      "                                                                 conv3d_96[0][0]                  \n",
      "__________________________________________________________________________________________________\n",
      "batch_normalization_82 (BatchNo (None, 3, 3, 3, 512) 2048        add_38[0][0]                     \n",
      "__________________________________________________________________________________________________\n",
      "activation_82 (Activation)      (None, 3, 3, 3, 512) 0           batch_normalization_82[0][0]     \n",
      "__________________________________________________________________________________________________\n",
      "conv3d_98 (Conv3D)              (None, 3, 3, 3, 512) 7078400     activation_82[0][0]              \n",
      "__________________________________________________________________________________________________\n",
      "batch_normalization_83 (BatchNo (None, 3, 3, 3, 512) 2048        conv3d_98[0][0]                  \n",
      "__________________________________________________________________________________________________\n",
      "activation_83 (Activation)      (None, 3, 3, 3, 512) 0           batch_normalization_83[0][0]     \n",
      "__________________________________________________________________________________________________\n",
      "conv3d_99 (Conv3D)              (None, 3, 3, 3, 512) 7078400     activation_83[0][0]              \n",
      "__________________________________________________________________________________________________\n",
      "add_39 (Add)                    (None, 3, 3, 3, 512) 0           add_38[0][0]                     \n",
      "                                                                 conv3d_99[0][0]                  \n",
      "__________________________________________________________________________________________________\n",
      "batch_normalization_84 (BatchNo (None, 3, 3, 3, 512) 2048        add_39[0][0]                     \n",
      "__________________________________________________________________________________________________\n",
      "activation_84 (Activation)      (None, 3, 3, 3, 512) 0           batch_normalization_84[0][0]     \n",
      "__________________________________________________________________________________________________\n",
      "average_pooling3d_4 (AveragePoo (None, 1, 1, 1, 512) 0           activation_84[0][0]              \n",
      "__________________________________________________________________________________________________\n",
      "flatten_4 (Flatten)             (None, 512)          0           average_pooling3d_4[0][0]        \n",
      "__________________________________________________________________________________________________\n",
      "dense_12 (Dense)                (None, 64)           32832       flatten_4[0][0]                  \n",
      "==================================================================================================\n",
      "Total params: 33,203,648\n",
      "Trainable params: 33,195,840\n",
      "Non-trainable params: 7,808\n",
      "__________________________________________________________________________________________________\n"
     ]
    }
   ],
   "source": [
    "input_shape = (IMAGE_WIDTH, IMAGE_HEIGHT, IMAGE_DEPTH, CHANNELS)\n",
    "builder = Resnet3DBuilder()\n",
    "feature_generator = builder.build_resnet_18(input_shape, 64)\n",
    "feature_generator.summary()"
   ]
  },
  {
   "cell_type": "code",
   "execution_count": 191,
   "id": "fd808401-7e44-49bc-aa0c-026755afca20",
   "metadata": {},
   "outputs": [],
   "source": [
    "@tf.custom_gradient\n",
    "def gradient_reverse(x, lamda=1.0):\n",
    "    y = tf.identity(x)\n",
    "    \n",
    "    def grad(dy):\n",
    "        return lamda * -dy, None\n",
    "    \n",
    "    return y, grad\n",
    "\n",
    "\n",
    "class GradientReversalLayer(tf.keras.layers.Layer):\n",
    "    def __init__(self):\n",
    "        super().__init__()\n",
    "    \n",
    "    def call(self, x, lamda=1.0):\n",
    "        return gradient_reverse(x, lamda)"
   ]
  },
  {
   "cell_type": "code",
   "execution_count": 192,
   "id": "d39b04bb-053f-4452-a653-635ef7879b01",
   "metadata": {},
   "outputs": [],
   "source": [
    "class LabelPredictor(Model):\n",
    "    def __init__(self):\n",
    "        super(LabelPredictor, self).__init__() \n",
    "        # self.label_predictor_layer0 = Dense(512, activation='relu')\n",
    "        # self.label_predictor_layer1 = Dropout(0.4)\n",
    "        # self.label_predictor_layer2 = Dense(256, activation='relu')\n",
    "        # self.label_predictor_layer3 = Dropout(0.3)\n",
    "        self.label_predictor_layer4 = Dense(2, activation='softmax')\n",
    "        # self.activation = Activation('softmax')\n",
    "\n",
    "\n",
    "    def call(self, feature):  \n",
    "        # lp_x = self.label_predictor_layer0(feature)\n",
    "        # lp_x = self.label_predictor_layer1(lp_x)\n",
    "        # lp_x = self.label_predictor_layer2(lp_x)\n",
    "        # lp_x = self.label_predictor_layer3(lp_x)\n",
    "        pred = self.label_predictor_layer4(feature)\n",
    "\n",
    "        return pred\n",
    "\n",
    "label_predictor = LabelPredictor()"
   ]
  },
  {
   "cell_type": "code",
   "execution_count": 193,
   "id": "20571d89-4099-4a4f-9cb6-ce7fb993d017",
   "metadata": {},
   "outputs": [],
   "source": [
    "class DomainPredictor(Model):\n",
    "    def __init__(self):\n",
    "        super(DomainPredictor, self).__init__()   \n",
    "        self.domain_predictor_layer0 = GradientReversalLayer()\n",
    "        # self.domain_predictor_layer1 = Dense(512, activation='relu')\n",
    "        # self.domain_predictor_layer2 = Dense(256, activation='relu')\n",
    "        self.domain_predictor_layer3 = Dense(2, activation='softmax')\n",
    "        # self.activation = Activation('softmax')\n",
    "\n",
    "    def call(self, feature, lamda=1.0):\n",
    "        dp_x = self.domain_predictor_layer0(feature, lamda)    #GradientReversalLayer\n",
    "        # dp_x = self.domain_predictor_layer1(dp_x)\n",
    "        # dp_x = self.domain_predictor_layer2(dp_x)\n",
    "        pred = self.domain_predictor_layer3(dp_x)\n",
    "        return pred\n",
    "\n",
    "domain_predictor = DomainPredictor()"
   ]
  },
  {
   "cell_type": "markdown",
   "id": "bd4c4966-7453-428a-ae4d-69465f400d1c",
   "metadata": {},
   "source": [
    "# Train"
   ]
  },
  {
   "cell_type": "code",
   "execution_count": 194,
   "id": "e8c24313-6543-4b26-bfef-bce8ffe2b0bf",
   "metadata": {},
   "outputs": [],
   "source": [
    "loss_object = tf.keras.losses.SparseCategoricalCrossentropy()\n",
    "d_optimizer = tf.keras.optimizers.Adagrad(learning_rate=0.001)\n",
    "f_optimizer = tf.keras.optimizers.Adagrad(learning_rate=0.001)\n",
    "# l_optimizer = tf.keras.optimizers.Adagrad(learning_rate=0.001)\n",
    "\n",
    "\n",
    "train_lp_accuracy = tf.keras.metrics.SparseCategoricalAccuracy(name='train_lp_accuracy')\n",
    "train_dc_accuracy = tf.keras.metrics.SparseCategoricalAccuracy(name='train_dc_accuracy')\n",
    "val_lp_accuracy = tf.keras.metrics.SparseCategoricalAccuracy(name='val_lp_accuracy')\n",
    "val_dc_accuracy = tf.keras.metrics.SparseCategoricalAccuracy(name='val_dc_accuracy')\n",
    "\n",
    "train_lp_loss = tf.keras.metrics.Mean(name='train_lp_loss')\n",
    "train_dc_loss = tf.keras.metrics.Mean(name='train_dc_loss')\n",
    "val_lp_loss = tf.keras.metrics.Mean(name='val_lp_loss')\n",
    "val_dc_loss = tf.keras.metrics.Mean(name='val_dc_loss')"
   ]
  },
  {
   "cell_type": "code",
   "execution_count": 195,
   "id": "1c7b3d35-6d0d-46cd-8e79-340128043efc",
   "metadata": {},
   "outputs": [],
   "source": [
    "@tf.function\n",
    "def train_step(images, labels, domains, domain = True):\n",
    "   # labels = tf.cast(labels, tf.float32)\n",
    "    #domains = tf.cast(domains, tf.float32)\n",
    "    with tf.GradientTape(persistent=True) as tape:\n",
    "        logit = feature_generator(images)\n",
    "        # d_predictions = domain_predictor(logit)\n",
    "        l_predictions = label_predictor(logit)\n",
    "        #print(labels)\n",
    "        lp_loss = loss_object(labels, l_predictions)  \n",
    "        # dc_loss = loss_object(domains, d_predictions) \n",
    "        \n",
    "    lp_grad = tape.gradient(lp_loss, label_predictor.trainable_variables)\n",
    "    fe_grad = tape.gradient(lp_loss, feature_generator.trainable_variables)\n",
    "    \n",
    "    if domain:\n",
    "        with tf.GradientTape(persistent=True) as tape:\n",
    "            logit = feature_generator(images)\n",
    "            d_predictions = domain_predictor(logit)\n",
    "            #print(labels)\n",
    "            dc_loss = loss_object(domains, d_predictions) \n",
    "\n",
    "        dc_grad = tape.gradient(dc_loss, domain_predictor.trainable_variables)\n",
    "        fe_grad += tape.gradient(dc_loss, feature_generator.trainable_variables)\n",
    "\n",
    "        d_optimizer.apply_gradients(zip(dc_grad, domain_predictor.trainable_variables))\n",
    "        \n",
    "    f_optimizer.apply_gradients(zip(fe_grad, feature_generator.trainable_variables))\n",
    "    \n",
    "    train_lp_loss(lp_loss)\n",
    "    train_lp_accuracy(labels, l_predictions)\n",
    "    \n",
    "    if domain:\n",
    "        train_dc_loss(dc_loss)\n",
    "        train_dc_accuracy(domains, d_predictions)\n",
    "    "
   ]
  },
  {
   "cell_type": "code",
   "execution_count": 196,
   "id": "e08cd0df-3dc4-4908-ba98-91c2ed96cd4d",
   "metadata": {},
   "outputs": [],
   "source": [
    "@tf.function\n",
    "def val_step(images, labels, domains, domain=True):\n",
    "    #labels = tf.cast(labels, tf.float32)\n",
    "    #domains = tf.cast(domains, tf.float32)\n",
    "    \n",
    "    if domain:\n",
    "        features = feature_generator(images, training=False)\n",
    "        l_predictions = label_predictor(features, training=False)\n",
    "        d_predictions = domain_predictor(features, training=False)\n",
    "        lp_loss = loss_object(labels, l_predictions)  \n",
    "        dc_loss = loss_object(domains, d_predictions)  \n",
    "\n",
    "        val_lp_loss(lp_loss)\n",
    "        val_lp_accuracy(labels, l_predictions)\n",
    "        val_dc_loss(dc_loss)\n",
    "        val_dc_accuracy(domains, d_predictions)\n",
    "        \n",
    "    else:\n",
    "        features = feature_generator(images, training=False)\n",
    "        l_predictions = label_predictor(features, training=False)\n",
    "        val_lp_loss(lp_loss)\n",
    "        val_lp_accuracy(labels, l_predictions)\n",
    "    \n",
    "        "
   ]
  },
  {
   "cell_type": "code",
   "execution_count": 197,
   "id": "4a95d4d6-2c49-421a-a89f-0a1914251158",
   "metadata": {},
   "outputs": [],
   "source": [
    "def val(domain=True):\n",
    "    for batch in tqdm(dataset_val):\n",
    "        val_step(*batch)\n",
    "        \n",
    "def test(domain=True):\n",
    "    for batch in tqdm(dataset_test):\n",
    "        val_step(*batch)\n",
    "\n",
    "def reset_metrics(target):\n",
    "\n",
    "    if target == 'train':\n",
    "        train_lp_loss.reset_states()\n",
    "        train_lp_accuracy.reset_states()\n",
    "        train_dc_loss.reset_states()\n",
    "        train_dc_accuracy.reset_states()\n",
    "\n",
    "    if target == 'val':\n",
    "        val_lp_loss.reset_states()\n",
    "        val_lp_accuracy.reset_states()\n",
    "        val_dc_loss.reset_states()\n",
    "        val_dc_accuracy.reset_states()\n"
   ]
  },
  {
   "cell_type": "code",
   "execution_count": 198,
   "id": "c9e56cc7-bb15-4097-8823-e18c8850b88e",
   "metadata": {},
   "outputs": [
    {
     "name": "stderr",
     "output_type": "stream",
     "text": [
      "100%|████████████████████████████████████████████████████████████████████████████████| 104/104 [00:45<00:00,  2.29it/s]\n"
     ]
    },
    {
     "name": "stdout",
     "output_type": "stream",
     "text": [
      "Training: Epoch 0 :\t Accuracy : 57.788%, loss : 163.2220916748047, Group Accuracy : 49.231%, GroupLoss: 23.988941192626953\n"
     ]
    },
    {
     "name": "stderr",
     "output_type": "stream",
     "text": [
      "100%|██████████████████████████████████████████████████████████████████████████████████| 24/24 [00:04<00:00,  4.82it/s]\n"
     ]
    },
    {
     "name": "stdout",
     "output_type": "stream",
     "text": [
      "Val: Accuracy : 65.000%, loss : 0.7155551314353943, Group Accuracy : 48.750%, GroupLoss: 1.1382440328598022\n",
      "save acc: 0.6499999761581421\n"
     ]
    },
    {
     "name": "stderr",
     "output_type": "stream",
     "text": [
      "100%|████████████████████████████████████████████████████████████████████████████████| 104/104 [00:43<00:00,  2.40it/s]\n"
     ]
    },
    {
     "name": "stdout",
     "output_type": "stream",
     "text": [
      "Training: Epoch 1 :\t Accuracy : 64.231%, loss : 0.6299734115600586, Group Accuracy : 48.942%, GroupLoss: 0.9746501445770264\n"
     ]
    },
    {
     "name": "stderr",
     "output_type": "stream",
     "text": [
      "100%|██████████████████████████████████████████████████████████████████████████████████| 24/24 [00:04<00:00,  5.38it/s]\n"
     ]
    },
    {
     "name": "stdout",
     "output_type": "stream",
     "text": [
      "Val: Accuracy : 65.417%, loss : 0.6513186097145081, Group Accuracy : 48.333%, GroupLoss: 0.824472963809967\n",
      "save acc: 0.6541666388511658\n"
     ]
    },
    {
     "name": "stderr",
     "output_type": "stream",
     "text": [
      "100%|████████████████████████████████████████████████████████████████████████████████| 104/104 [00:43<00:00,  2.41it/s]\n"
     ]
    },
    {
     "name": "stdout",
     "output_type": "stream",
     "text": [
      "Training: Epoch 2 :\t Accuracy : 68.077%, loss : 0.5930981040000916, Group Accuracy : 48.846%, GroupLoss: 0.8533017039299011\n"
     ]
    },
    {
     "name": "stderr",
     "output_type": "stream",
     "text": [
      "100%|██████████████████████████████████████████████████████████████████████████████████| 24/24 [00:04<00:00,  5.47it/s]\n"
     ]
    },
    {
     "name": "stdout",
     "output_type": "stream",
     "text": [
      "Val: Accuracy : 66.250%, loss : 0.6301299929618835, Group Accuracy : 47.917%, GroupLoss: 0.8239068984985352\n",
      "save acc: 0.6625000238418579\n"
     ]
    },
    {
     "name": "stderr",
     "output_type": "stream",
     "text": [
      "100%|████████████████████████████████████████████████████████████████████████████████| 104/104 [00:43<00:00,  2.41it/s]\n"
     ]
    },
    {
     "name": "stdout",
     "output_type": "stream",
     "text": [
      "Training: Epoch 3 :\t Accuracy : 70.673%, loss : 0.5729454159736633, Group Accuracy : 45.673%, GroupLoss: 0.8102045655250549\n"
     ]
    },
    {
     "name": "stderr",
     "output_type": "stream",
     "text": [
      "100%|██████████████████████████████████████████████████████████████████████████████████| 24/24 [00:04<00:00,  5.65it/s]\n"
     ]
    },
    {
     "name": "stdout",
     "output_type": "stream",
     "text": [
      "Val: Accuracy : 67.917%, loss : 0.6156932711601257, Group Accuracy : 44.167%, GroupLoss: 0.7961681485176086\n",
      "save acc: 0.6791666746139526\n"
     ]
    },
    {
     "name": "stderr",
     "output_type": "stream",
     "text": [
      "100%|████████████████████████████████████████████████████████████████████████████████| 104/104 [00:43<00:00,  2.41it/s]\n"
     ]
    },
    {
     "name": "stdout",
     "output_type": "stream",
     "text": [
      "Training: Epoch 4 :\t Accuracy : 72.596%, loss : 0.5386135578155518, Group Accuracy : 41.827%, GroupLoss: 0.7800036072731018\n"
     ]
    },
    {
     "name": "stderr",
     "output_type": "stream",
     "text": [
      "100%|██████████████████████████████████████████████████████████████████████████████████| 24/24 [00:04<00:00,  5.50it/s]\n"
     ]
    },
    {
     "name": "stdout",
     "output_type": "stream",
     "text": [
      "Val: Accuracy : 69.583%, loss : 0.5897367000579834, Group Accuracy : 40.833%, GroupLoss: 0.7775567173957825\n",
      "save acc: 0.6958333253860474\n"
     ]
    },
    {
     "name": "stderr",
     "output_type": "stream",
     "text": [
      "100%|████████████████████████████████████████████████████████████████████████████████| 104/104 [00:43<00:00,  2.37it/s]\n"
     ]
    },
    {
     "name": "stdout",
     "output_type": "stream",
     "text": [
      "Training: Epoch 5 :\t Accuracy : 75.577%, loss : 0.516057550907135, Group Accuracy : 41.538%, GroupLoss: 0.7785842418670654\n"
     ]
    },
    {
     "name": "stderr",
     "output_type": "stream",
     "text": [
      "100%|██████████████████████████████████████████████████████████████████████████████████| 24/24 [00:04<00:00,  5.36it/s]\n"
     ]
    },
    {
     "name": "stdout",
     "output_type": "stream",
     "text": [
      "Val: Accuracy : 53.333%, loss : 0.6929647922515869, Group Accuracy : 40.000%, GroupLoss: 0.7629086971282959\n"
     ]
    },
    {
     "name": "stderr",
     "output_type": "stream",
     "text": [
      "100%|████████████████████████████████████████████████████████████████████████████████| 104/104 [00:45<00:00,  2.28it/s]\n"
     ]
    },
    {
     "name": "stdout",
     "output_type": "stream",
     "text": [
      "Training: Epoch 6 :\t Accuracy : 75.288%, loss : 0.520139217376709, Group Accuracy : 40.962%, GroupLoss: 0.7740339040756226\n"
     ]
    },
    {
     "name": "stderr",
     "output_type": "stream",
     "text": [
      "100%|██████████████████████████████████████████████████████████████████████████████████| 24/24 [00:04<00:00,  5.69it/s]\n"
     ]
    },
    {
     "name": "stdout",
     "output_type": "stream",
     "text": [
      "Val: Accuracy : 72.917%, loss : 0.5647097229957581, Group Accuracy : 40.833%, GroupLoss: 0.7612389922142029\n",
      "save acc: 0.7291666865348816\n"
     ]
    },
    {
     "name": "stderr",
     "output_type": "stream",
     "text": [
      "100%|████████████████████████████████████████████████████████████████████████████████| 104/104 [00:44<00:00,  2.36it/s]\n"
     ]
    },
    {
     "name": "stdout",
     "output_type": "stream",
     "text": [
      "Training: Epoch 7 :\t Accuracy : 76.058%, loss : 0.49331262707710266, Group Accuracy : 41.827%, GroupLoss: 0.7767872214317322\n"
     ]
    },
    {
     "name": "stderr",
     "output_type": "stream",
     "text": [
      "100%|██████████████████████████████████████████████████████████████████████████████████| 24/24 [00:04<00:00,  5.62it/s]\n"
     ]
    },
    {
     "name": "stdout",
     "output_type": "stream",
     "text": [
      "Val: Accuracy : 53.750%, loss : 0.6968927383422852, Group Accuracy : 47.083%, GroupLoss: 0.759850800037384\n"
     ]
    },
    {
     "name": "stderr",
     "output_type": "stream",
     "text": [
      "100%|████████████████████████████████████████████████████████████████████████████████| 104/104 [00:43<00:00,  2.39it/s]\n"
     ]
    },
    {
     "name": "stdout",
     "output_type": "stream",
     "text": [
      "Training: Epoch 8 :\t Accuracy : 78.173%, loss : 0.4746161103248596, Group Accuracy : 40.385%, GroupLoss: 0.7737087607383728\n"
     ]
    },
    {
     "name": "stderr",
     "output_type": "stream",
     "text": [
      "100%|██████████████████████████████████████████████████████████████████████████████████| 24/24 [00:04<00:00,  5.36it/s]\n"
     ]
    },
    {
     "name": "stdout",
     "output_type": "stream",
     "text": [
      "Val: Accuracy : 73.750%, loss : 0.5573598742485046, Group Accuracy : 42.083%, GroupLoss: 0.7613663077354431\n",
      "save acc: 0.737500011920929\n"
     ]
    },
    {
     "name": "stderr",
     "output_type": "stream",
     "text": [
      "100%|████████████████████████████████████████████████████████████████████████████████| 104/104 [00:43<00:00,  2.38it/s]\n"
     ]
    },
    {
     "name": "stdout",
     "output_type": "stream",
     "text": [
      "Training: Epoch 9 :\t Accuracy : 77.404%, loss : 0.4737545847892761, Group Accuracy : 40.096%, GroupLoss: 0.7726949453353882\n"
     ]
    },
    {
     "name": "stderr",
     "output_type": "stream",
     "text": [
      "100%|██████████████████████████████████████████████████████████████████████████████████| 24/24 [00:04<00:00,  5.52it/s]\n"
     ]
    },
    {
     "name": "stdout",
     "output_type": "stream",
     "text": [
      "Val: Accuracy : 71.250%, loss : 0.6386648416519165, Group Accuracy : 39.167%, GroupLoss: 0.7637507319450378\n"
     ]
    },
    {
     "name": "stderr",
     "output_type": "stream",
     "text": [
      "100%|████████████████████████████████████████████████████████████████████████████████| 104/104 [00:43<00:00,  2.39it/s]\n"
     ]
    },
    {
     "name": "stdout",
     "output_type": "stream",
     "text": [
      "Training: Epoch 10 :\t Accuracy : 80.385%, loss : 0.44742071628570557, Group Accuracy : 41.538%, GroupLoss: 0.7766202092170715\n"
     ]
    },
    {
     "name": "stderr",
     "output_type": "stream",
     "text": [
      "100%|██████████████████████████████████████████████████████████████████████████████████| 24/24 [00:04<00:00,  5.62it/s]\n"
     ]
    },
    {
     "name": "stdout",
     "output_type": "stream",
     "text": [
      "Val: Accuracy : 75.000%, loss : 0.5467480421066284, Group Accuracy : 45.000%, GroupLoss: 0.7589178085327148\n",
      "save acc: 0.75\n"
     ]
    },
    {
     "name": "stderr",
     "output_type": "stream",
     "text": [
      "100%|████████████████████████████████████████████████████████████████████████████████| 104/104 [00:43<00:00,  2.39it/s]\n"
     ]
    },
    {
     "name": "stdout",
     "output_type": "stream",
     "text": [
      "Training: Epoch 11 :\t Accuracy : 78.654%, loss : 0.44328972697257996, Group Accuracy : 41.058%, GroupLoss: 0.7740556001663208\n"
     ]
    },
    {
     "name": "stderr",
     "output_type": "stream",
     "text": [
      "100%|██████████████████████████████████████████████████████████████████████████████████| 24/24 [00:04<00:00,  5.50it/s]\n"
     ]
    },
    {
     "name": "stdout",
     "output_type": "stream",
     "text": [
      "Val: Accuracy : 73.750%, loss : 0.5633792281150818, Group Accuracy : 38.750%, GroupLoss: 0.7723322510719299\n"
     ]
    },
    {
     "name": "stderr",
     "output_type": "stream",
     "text": [
      "100%|████████████████████████████████████████████████████████████████████████████████| 104/104 [00:43<00:00,  2.39it/s]\n"
     ]
    },
    {
     "name": "stdout",
     "output_type": "stream",
     "text": [
      "Training: Epoch 12 :\t Accuracy : 81.346%, loss : 0.4208593964576721, Group Accuracy : 41.538%, GroupLoss: 0.7762784957885742\n"
     ]
    },
    {
     "name": "stderr",
     "output_type": "stream",
     "text": [
      "100%|██████████████████████████████████████████████████████████████████████████████████| 24/24 [00:04<00:00,  5.64it/s]\n"
     ]
    },
    {
     "name": "stdout",
     "output_type": "stream",
     "text": [
      "Val: Accuracy : 58.333%, loss : 0.6801941394805908, Group Accuracy : 47.500%, GroupLoss: 0.7542402148246765\n"
     ]
    },
    {
     "name": "stderr",
     "output_type": "stream",
     "text": [
      "100%|████████████████████████████████████████████████████████████████████████████████| 104/104 [00:43<00:00,  2.39it/s]\n"
     ]
    },
    {
     "name": "stdout",
     "output_type": "stream",
     "text": [
      "Training: Epoch 13 :\t Accuracy : 81.635%, loss : 0.41267091035842896, Group Accuracy : 41.442%, GroupLoss: 0.7790317535400391\n"
     ]
    },
    {
     "name": "stderr",
     "output_type": "stream",
     "text": [
      "100%|██████████████████████████████████████████████████████████████████████████████████| 24/24 [00:04<00:00,  5.54it/s]\n"
     ]
    },
    {
     "name": "stdout",
     "output_type": "stream",
     "text": [
      "Val: Accuracy : 65.833%, loss : 0.5955130457878113, Group Accuracy : 46.667%, GroupLoss: 0.7709379196166992\n"
     ]
    },
    {
     "name": "stderr",
     "output_type": "stream",
     "text": [
      "100%|████████████████████████████████████████████████████████████████████████████████| 104/104 [00:43<00:00,  2.39it/s]\n"
     ]
    },
    {
     "name": "stdout",
     "output_type": "stream",
     "text": [
      "Training: Epoch 14 :\t Accuracy : 81.250%, loss : 0.41144078969955444, Group Accuracy : 42.212%, GroupLoss: 0.7784997224807739\n"
     ]
    },
    {
     "name": "stderr",
     "output_type": "stream",
     "text": [
      "100%|██████████████████████████████████████████████████████████████████████████████████| 24/24 [00:04<00:00,  5.66it/s]\n"
     ]
    },
    {
     "name": "stdout",
     "output_type": "stream",
     "text": [
      "Val: Accuracy : 75.833%, loss : 0.5308986306190491, Group Accuracy : 47.500%, GroupLoss: 0.763845682144165\n",
      "save acc: 0.7583333253860474\n"
     ]
    },
    {
     "name": "stderr",
     "output_type": "stream",
     "text": [
      "100%|████████████████████████████████████████████████████████████████████████████████| 104/104 [00:43<00:00,  2.39it/s]\n"
     ]
    },
    {
     "name": "stdout",
     "output_type": "stream",
     "text": [
      "Training: Epoch 15 :\t Accuracy : 85.000%, loss : 0.380959153175354, Group Accuracy : 42.308%, GroupLoss: 0.7831705808639526\n"
     ]
    },
    {
     "name": "stderr",
     "output_type": "stream",
     "text": [
      "100%|██████████████████████████████████████████████████████████████████████████████████| 24/24 [00:04<00:00,  5.55it/s]\n"
     ]
    },
    {
     "name": "stdout",
     "output_type": "stream",
     "text": [
      "Val: Accuracy : 59.167%, loss : 0.6530479788780212, Group Accuracy : 46.250%, GroupLoss: 0.7836997509002686\n"
     ]
    },
    {
     "name": "stderr",
     "output_type": "stream",
     "text": [
      "100%|████████████████████████████████████████████████████████████████████████████████| 104/104 [00:43<00:00,  2.39it/s]\n"
     ]
    },
    {
     "name": "stdout",
     "output_type": "stream",
     "text": [
      "Training: Epoch 16 :\t Accuracy : 86.346%, loss : 0.35071104764938354, Group Accuracy : 41.250%, GroupLoss: 0.7845531702041626\n"
     ]
    },
    {
     "name": "stderr",
     "output_type": "stream",
     "text": [
      "100%|██████████████████████████████████████████████████████████████████████████████████| 24/24 [00:04<00:00,  5.79it/s]\n"
     ]
    },
    {
     "name": "stdout",
     "output_type": "stream",
     "text": [
      "Val: Accuracy : 75.833%, loss : 0.5219480395317078, Group Accuracy : 46.667%, GroupLoss: 0.7750241160392761\n"
     ]
    },
    {
     "name": "stderr",
     "output_type": "stream",
     "text": [
      "100%|████████████████████████████████████████████████████████████████████████████████| 104/104 [00:43<00:00,  2.40it/s]\n"
     ]
    },
    {
     "name": "stdout",
     "output_type": "stream",
     "text": [
      "Training: Epoch 17 :\t Accuracy : 86.538%, loss : 0.3537614643573761, Group Accuracy : 41.442%, GroupLoss: 0.7870126962661743\n"
     ]
    },
    {
     "name": "stderr",
     "output_type": "stream",
     "text": [
      "100%|██████████████████████████████████████████████████████████████████████████████████| 24/24 [00:04<00:00,  5.46it/s]\n"
     ]
    },
    {
     "name": "stdout",
     "output_type": "stream",
     "text": [
      "Val: Accuracy : 76.667%, loss : 0.5196537375450134, Group Accuracy : 46.667%, GroupLoss: 0.7719835638999939\n",
      "save acc: 0.7666666507720947\n"
     ]
    },
    {
     "name": "stderr",
     "output_type": "stream",
     "text": [
      "100%|████████████████████████████████████████████████████████████████████████████████| 104/104 [00:43<00:00,  2.39it/s]\n"
     ]
    },
    {
     "name": "stdout",
     "output_type": "stream",
     "text": [
      "Training: Epoch 18 :\t Accuracy : 85.673%, loss : 0.34691765904426575, Group Accuracy : 42.885%, GroupLoss: 0.7857784032821655\n"
     ]
    },
    {
     "name": "stderr",
     "output_type": "stream",
     "text": [
      "100%|██████████████████████████████████████████████████████████████████████████████████| 24/24 [00:04<00:00,  5.49it/s]\n"
     ]
    },
    {
     "name": "stdout",
     "output_type": "stream",
     "text": [
      "Val: Accuracy : 76.667%, loss : 0.5351170301437378, Group Accuracy : 46.250%, GroupLoss: 0.769826352596283\n"
     ]
    },
    {
     "name": "stderr",
     "output_type": "stream",
     "text": [
      "100%|████████████████████████████████████████████████████████████████████████████████| 104/104 [00:43<00:00,  2.39it/s]\n"
     ]
    },
    {
     "name": "stdout",
     "output_type": "stream",
     "text": [
      "Training: Epoch 19 :\t Accuracy : 86.250%, loss : 0.3411283791065216, Group Accuracy : 42.596%, GroupLoss: 0.7801342010498047\n"
     ]
    },
    {
     "name": "stderr",
     "output_type": "stream",
     "text": [
      "100%|██████████████████████████████████████████████████████████████████████████████████| 24/24 [00:04<00:00,  5.47it/s]\n"
     ]
    },
    {
     "name": "stdout",
     "output_type": "stream",
     "text": [
      "Val: Accuracy : 72.917%, loss : 0.6731734275817871, Group Accuracy : 43.333%, GroupLoss: 0.7688282132148743\n"
     ]
    },
    {
     "name": "stderr",
     "output_type": "stream",
     "text": [
      "100%|████████████████████████████████████████████████████████████████████████████████| 104/104 [00:43<00:00,  2.39it/s]\n"
     ]
    },
    {
     "name": "stdout",
     "output_type": "stream",
     "text": [
      "Training: Epoch 20 :\t Accuracy : 88.173%, loss : 0.3185100853443146, Group Accuracy : 42.404%, GroupLoss: 0.7817935347557068\n"
     ]
    },
    {
     "name": "stderr",
     "output_type": "stream",
     "text": [
      "100%|██████████████████████████████████████████████████████████████████████████████████| 24/24 [00:04<00:00,  5.43it/s]\n"
     ]
    },
    {
     "name": "stdout",
     "output_type": "stream",
     "text": [
      "Val: Accuracy : 79.167%, loss : 0.5102465748786926, Group Accuracy : 45.417%, GroupLoss: 0.7723821997642517\n",
      "save acc: 0.7916666865348816\n"
     ]
    },
    {
     "name": "stderr",
     "output_type": "stream",
     "text": [
      "100%|████████████████████████████████████████████████████████████████████████████████| 104/104 [00:43<00:00,  2.39it/s]\n"
     ]
    },
    {
     "name": "stdout",
     "output_type": "stream",
     "text": [
      "Training: Epoch 21 :\t Accuracy : 90.577%, loss : 0.29221299290657043, Group Accuracy : 41.923%, GroupLoss: 0.7866337299346924\n"
     ]
    },
    {
     "name": "stderr",
     "output_type": "stream",
     "text": [
      "100%|██████████████████████████████████████████████████████████████████████████████████| 24/24 [00:04<00:00,  5.58it/s]\n"
     ]
    },
    {
     "name": "stdout",
     "output_type": "stream",
     "text": [
      "Val: Accuracy : 75.000%, loss : 0.6058286428451538, Group Accuracy : 42.500%, GroupLoss: 0.7725722789764404\n"
     ]
    },
    {
     "name": "stderr",
     "output_type": "stream",
     "text": [
      "100%|████████████████████████████████████████████████████████████████████████████████| 104/104 [00:43<00:00,  2.39it/s]\n"
     ]
    },
    {
     "name": "stdout",
     "output_type": "stream",
     "text": [
      "Training: Epoch 22 :\t Accuracy : 89.904%, loss : 0.28006887435913086, Group Accuracy : 42.212%, GroupLoss: 0.7860667705535889\n"
     ]
    },
    {
     "name": "stderr",
     "output_type": "stream",
     "text": [
      "100%|██████████████████████████████████████████████████████████████████████████████████| 24/24 [00:04<00:00,  5.63it/s]\n"
     ]
    },
    {
     "name": "stdout",
     "output_type": "stream",
     "text": [
      "Val: Accuracy : 75.000%, loss : 0.6018007397651672, Group Accuracy : 38.333%, GroupLoss: 0.7804774641990662\n"
     ]
    },
    {
     "name": "stderr",
     "output_type": "stream",
     "text": [
      "100%|████████████████████████████████████████████████████████████████████████████████| 104/104 [00:43<00:00,  2.39it/s]\n"
     ]
    },
    {
     "name": "stdout",
     "output_type": "stream",
     "text": [
      "Training: Epoch 23 :\t Accuracy : 91.154%, loss : 0.2515009343624115, Group Accuracy : 42.981%, GroupLoss: 0.7857227325439453\n"
     ]
    },
    {
     "name": "stderr",
     "output_type": "stream",
     "text": [
      "100%|██████████████████████████████████████████████████████████████████████████████████| 24/24 [00:04<00:00,  5.59it/s]\n"
     ]
    },
    {
     "name": "stdout",
     "output_type": "stream",
     "text": [
      "Val: Accuracy : 80.417%, loss : 0.5134600400924683, Group Accuracy : 47.917%, GroupLoss: 0.7745857834815979\n",
      "save acc: 0.8041666746139526\n"
     ]
    },
    {
     "name": "stderr",
     "output_type": "stream",
     "text": [
      "100%|████████████████████████████████████████████████████████████████████████████████| 104/104 [00:43<00:00,  2.39it/s]\n"
     ]
    },
    {
     "name": "stdout",
     "output_type": "stream",
     "text": [
      "Training: Epoch 24 :\t Accuracy : 90.962%, loss : 0.24981950223445892, Group Accuracy : 42.692%, GroupLoss: 0.7875179648399353\n"
     ]
    },
    {
     "name": "stderr",
     "output_type": "stream",
     "text": [
      "100%|██████████████████████████████████████████████████████████████████████████████████| 24/24 [00:04<00:00,  5.49it/s]\n"
     ]
    },
    {
     "name": "stdout",
     "output_type": "stream",
     "text": [
      "Val: Accuracy : 79.583%, loss : 0.5129685997962952, Group Accuracy : 43.333%, GroupLoss: 0.7790527939796448\n"
     ]
    },
    {
     "name": "stderr",
     "output_type": "stream",
     "text": [
      "100%|████████████████████████████████████████████████████████████████████████████████| 104/104 [00:43<00:00,  2.39it/s]\n"
     ]
    },
    {
     "name": "stdout",
     "output_type": "stream",
     "text": [
      "Training: Epoch 25 :\t Accuracy : 91.731%, loss : 0.25264793634414673, Group Accuracy : 43.365%, GroupLoss: 0.7874047160148621\n"
     ]
    },
    {
     "name": "stderr",
     "output_type": "stream",
     "text": [
      "100%|██████████████████████████████████████████████████████████████████████████████████| 24/24 [00:04<00:00,  5.57it/s]\n"
     ]
    },
    {
     "name": "stdout",
     "output_type": "stream",
     "text": [
      "Val: Accuracy : 80.833%, loss : 0.4997589588165283, Group Accuracy : 46.250%, GroupLoss: 0.7766509056091309\n",
      "save acc: 0.8083333373069763\n"
     ]
    },
    {
     "name": "stderr",
     "output_type": "stream",
     "text": [
      "100%|████████████████████████████████████████████████████████████████████████████████| 104/104 [00:43<00:00,  2.39it/s]\n"
     ]
    },
    {
     "name": "stdout",
     "output_type": "stream",
     "text": [
      "Training: Epoch 26 :\t Accuracy : 93.173%, loss : 0.21350589394569397, Group Accuracy : 42.404%, GroupLoss: 0.7890380024909973\n"
     ]
    },
    {
     "name": "stderr",
     "output_type": "stream",
     "text": [
      "100%|██████████████████████████████████████████████████████████████████████████████████| 24/24 [00:04<00:00,  5.86it/s]\n"
     ]
    },
    {
     "name": "stdout",
     "output_type": "stream",
     "text": [
      "Val: Accuracy : 77.500%, loss : 0.5529460906982422, Group Accuracy : 39.583%, GroupLoss: 0.7735744118690491\n"
     ]
    },
    {
     "name": "stderr",
     "output_type": "stream",
     "text": [
      "100%|████████████████████████████████████████████████████████████████████████████████| 104/104 [00:43<00:00,  2.39it/s]\n"
     ]
    },
    {
     "name": "stdout",
     "output_type": "stream",
     "text": [
      "Training: Epoch 27 :\t Accuracy : 92.212%, loss : 0.2197594940662384, Group Accuracy : 41.731%, GroupLoss: 0.7924518585205078\n"
     ]
    },
    {
     "name": "stderr",
     "output_type": "stream",
     "text": [
      "100%|██████████████████████████████████████████████████████████████████████████████████| 24/24 [00:04<00:00,  5.60it/s]\n"
     ]
    },
    {
     "name": "stdout",
     "output_type": "stream",
     "text": [
      "Val: Accuracy : 79.583%, loss : 0.5372605919837952, Group Accuracy : 45.000%, GroupLoss: 0.7671211361885071\n"
     ]
    },
    {
     "name": "stderr",
     "output_type": "stream",
     "text": [
      "100%|████████████████████████████████████████████████████████████████████████████████| 104/104 [00:43<00:00,  2.38it/s]\n"
     ]
    },
    {
     "name": "stdout",
     "output_type": "stream",
     "text": [
      "Training: Epoch 28 :\t Accuracy : 94.712%, loss : 0.1825893223285675, Group Accuracy : 43.654%, GroupLoss: 0.7889651656150818\n"
     ]
    },
    {
     "name": "stderr",
     "output_type": "stream",
     "text": [
      "100%|██████████████████████████████████████████████████████████████████████████████████| 24/24 [00:04<00:00,  5.56it/s]\n"
     ]
    },
    {
     "name": "stdout",
     "output_type": "stream",
     "text": [
      "Val: Accuracy : 75.417%, loss : 0.6606377959251404, Group Accuracy : 41.250%, GroupLoss: 0.764983594417572\n"
     ]
    },
    {
     "name": "stderr",
     "output_type": "stream",
     "text": [
      "100%|████████████████████████████████████████████████████████████████████████████████| 104/104 [00:43<00:00,  2.38it/s]\n"
     ]
    },
    {
     "name": "stdout",
     "output_type": "stream",
     "text": [
      "Training: Epoch 29 :\t Accuracy : 95.096%, loss : 0.1781938225030899, Group Accuracy : 43.077%, GroupLoss: 0.7869763970375061\n"
     ]
    },
    {
     "name": "stderr",
     "output_type": "stream",
     "text": [
      "100%|██████████████████████████████████████████████████████████████████████████████████| 24/24 [00:04<00:00,  5.66it/s]\n"
     ]
    },
    {
     "name": "stdout",
     "output_type": "stream",
     "text": [
      "Val: Accuracy : 81.250%, loss : 0.5268298387527466, Group Accuracy : 43.750%, GroupLoss: 0.7683120369911194\n",
      "save acc: 0.8125\n"
     ]
    }
   ],
   "source": [
    "epochs = 30\n",
    "prev = 0\n",
    "for epoch in range(epochs):\n",
    "    for batch in tqdm(dataset_train):\n",
    "        train_step(*batch, domain=True)\n",
    "\n",
    "    print(\"Training: Epoch {} :\\t Accuracy : {:.3%}, loss : {}, Group Accuracy : {:.3%}, GroupLoss: {}\"\n",
    "          .format(epoch, train_lp_accuracy.result(), train_lp_loss.result(), train_dc_accuracy.result(), train_dc_loss.result()))\n",
    "    \n",
    "    reset_metrics('train')\n",
    "    \n",
    "    val(domain=True)\n",
    "    val_acc = val_lp_accuracy.result()\n",
    "    print(\"Val: Accuracy : {:.3%}, loss : {}, Group Accuracy : {:.3%}, GroupLoss: {}\"\n",
    "          .format(val_lp_accuracy.result(), val_lp_loss.result(), val_dc_accuracy.result(), val_dc_loss.result()))\n",
    "    \n",
    "    if val_acc > prev:\n",
    "        prev = val_acc\n",
    "        print('save acc: {}'.format(val_acc))\n",
    "        feature_generator.save_weights(\"./model/adversarial/feature_adversarial_gender_fold_\" + fold + \"_2\")\n",
    "        label_predictor.save_weights(\"./model/adversarial/label_adversarial_gender_fold_\" + fold + \"_2\")\n",
    "        domain_predictor.save_weights(\"./model/adversarial/domain_adversarial_gender_fold_\" + fold + \"_2\")\n",
    "        \n",
    "    reset_metrics('val')"
   ]
  },
  {
   "cell_type": "markdown",
   "id": "32a0e0de-56a5-4f21-8725-b2856be83dc7",
   "metadata": {},
   "source": [
    "# Test"
   ]
  },
  {
   "cell_type": "code",
   "execution_count": 224,
   "id": "727d3822-4931-461a-878d-c557f21c97bd",
   "metadata": {},
   "outputs": [
    {
     "data": {
      "text/plain": [
       "<tensorflow.python.checkpoint.checkpoint.CheckpointLoadStatus at 0x23109fac640>"
      ]
     },
     "execution_count": 224,
     "metadata": {},
     "output_type": "execute_result"
    }
   ],
   "source": [
    "feature_generator.load_weights(\"./model/adversarial/feature_adversarial_age_fold_\" + fold + \"_1\")\n",
    "label_predictor.load_weights(\"./model/adversarial/label_adversarial_age_fold_\" + fold + \"_1\")\n",
    "domain_predictor.load_weights(\"./model/adversarial/domain_adversarial_age_fold_\" + fold + \"_1\")"
   ]
  },
  {
   "cell_type": "code",
   "execution_count": 225,
   "id": "ab547fe0-dee2-45fd-ae67-30f9fad5548b",
   "metadata": {},
   "outputs": [],
   "source": [
    "feature_generator.save_weights(\"./model/adversarial/feature_adversarial_gender_fold_\" + fold + \"_1\")\n",
    "label_predictor.save_weights(\"./model/adversarial/label_adversarial_gender_fold_\" + fold + \"_1\")\n",
    "domain_predictor.save_weights(\"./model/adversarial/domain_adversarial_gender_fold_\" + fold + \"_1\")"
   ]
  },
  {
   "cell_type": "code",
   "execution_count": 293,
   "id": "c00aff7a-6204-4b2d-82b8-2e762d71f36a",
   "metadata": {},
   "outputs": [
    {
     "name": "stderr",
     "output_type": "stream",
     "text": [
      "100%|██████████████████████████████████████████████████████████████████████████████████| 38/38 [00:20<00:00,  1.84it/s]\n"
     ]
    }
   ],
   "source": [
    "reset_metrics('val')\n",
    "test(domain=True)"
   ]
  },
  {
   "cell_type": "code",
   "execution_count": 294,
   "id": "548a89df-151a-427f-ac17-45a13f9d8d0b",
   "metadata": {},
   "outputs": [
    {
     "data": {
      "text/plain": [
       "<tf.Tensor: shape=(), dtype=float32, numpy=0.8201754>"
      ]
     },
     "execution_count": 294,
     "metadata": {},
     "output_type": "execute_result"
    }
   ],
   "source": [
    "val_lp_accuracy.result()"
   ]
  },
  {
   "cell_type": "markdown",
   "id": "920ffbe4-ed71-46ab-9e4c-d423567bb264",
   "metadata": {},
   "source": [
    "# Evaluate"
   ]
  },
  {
   "cell_type": "code",
   "execution_count": 106,
   "id": "e55f2e3c-5c31-48e5-a7cc-c4326a9db103",
   "metadata": {},
   "outputs": [
    {
     "name": "stderr",
     "output_type": "stream",
     "text": [
      "100%|██████████████████████████████████████████████████████████████████████████████████| 35/35 [00:13<00:00,  2.64it/s]\n"
     ]
    }
   ],
   "source": [
    "y_pred = []\n",
    "y_true = []\n",
    "for img, label, group in tqdm(dataset_test):\n",
    "    feat = feature_generator.predict(img)\n",
    "    # pred = model.predict(masked_img)\n",
    "    # print(pred.shape)\n",
    "    # print(pred)\n",
    "    for each in label_predictor.predict(feat):\n",
    "        # print(prob.shape)\n",
    "        # each = [1-prob[0], prob[0]]\n",
    "        # print(each)\n",
    "        # for pred in each:\n",
    "        y_pred.append(each)\n",
    "    for each in label.numpy():\n",
    "        # print(each)\n",
    "        y_true.append(each[0])\n",
    "    # break"
   ]
  },
  {
   "cell_type": "code",
   "execution_count": 107,
   "id": "04db7927-fcfb-4fbb-9555-43d18f58a0ea",
   "metadata": {},
   "outputs": [
    {
     "data": {
      "text/plain": [
       "(210, 210)"
      ]
     },
     "execution_count": 107,
     "metadata": {},
     "output_type": "execute_result"
    }
   ],
   "source": [
    "len(y_pred), len(y_true)"
   ]
  },
  {
   "cell_type": "code",
   "execution_count": 108,
   "id": "c9c2c899-e490-4477-b7b8-bae9bff61351",
   "metadata": {},
   "outputs": [
    {
     "data": {
      "text/plain": [
       "array([0.02887605, 0.9711239 ], dtype=float32)"
      ]
     },
     "execution_count": 108,
     "metadata": {},
     "output_type": "execute_result"
    }
   ],
   "source": [
    "y_pred[0]"
   ]
  },
  {
   "cell_type": "code",
   "execution_count": 109,
   "id": "7e234407-d115-498e-a8f5-e3cf6c36e875",
   "metadata": {},
   "outputs": [],
   "source": [
    "y_pred_one_label = []\n",
    "for each in y_pred:\n",
    "    y_pred_one_label.append(np.argmax(each))"
   ]
  },
  {
   "cell_type": "markdown",
   "id": "f7d76f46-e1d7-4399-bf06-636adbcb1c0a",
   "metadata": {
    "tags": []
   },
   "source": [
    "## Confusion Matrix"
   ]
  },
  {
   "cell_type": "code",
   "execution_count": 110,
   "id": "c0b62099-8ede-439b-958d-bd1cecac5823",
   "metadata": {},
   "outputs": [
    {
     "data": {
      "text/plain": [
       "array([[ 57,  27],\n",
       "       [ 24, 102]], dtype=int64)"
      ]
     },
     "execution_count": 110,
     "metadata": {},
     "output_type": "execute_result"
    }
   ],
   "source": [
    "cm = confusion_matrix(y_true, y_pred_one_label)\n",
    "cm"
   ]
  },
  {
   "cell_type": "code",
   "execution_count": 111,
   "id": "d196b793-284d-466d-922f-b2386ccf50e7",
   "metadata": {},
   "outputs": [
    {
     "data": {
      "text/plain": [
       "<AxesSubplot:>"
      ]
     },
     "execution_count": 111,
     "metadata": {},
     "output_type": "execute_result"
    },
    {
     "data": {
      "image/png": "[encoded data removed]",
      "text/plain": [
       "<Figure size 500x300 with 2 Axes>"
      ]
     },
     "metadata": {},
     "output_type": "display_data"
    }
   ],
   "source": [
    "# df_cm = pd.DataFrame(cm, index = ['AD', 'CN', 'MCI'], columns = ['AD', 'CN', 'MCI'])\n",
    "df_cm = pd.DataFrame(cm, index = ['AD','CN'], columns = ['AD','CN'])\n",
    "plt.figure(figsize=(5,3))\n",
    "sn.heatmap(df_cm, annot=True)"
   ]
  },
  {
   "cell_type": "code",
   "execution_count": 112,
   "id": "ad25d606-404f-4f80-984e-723966b1485d",
   "metadata": {},
   "outputs": [
    {
     "name": "stdout",
     "output_type": "stream",
     "text": [
      "              precision    recall  f1-score   support\n",
      "\n",
      "           0      0.704     0.679     0.691        84\n",
      "           1      0.791     0.810     0.800       126\n",
      "\n",
      "    accuracy                          0.757       210\n",
      "   macro avg      0.747     0.744     0.745       210\n",
      "weighted avg      0.756     0.757     0.756       210\n",
      "\n"
     ]
    }
   ],
   "source": [
    "print(classification_report(y_true, y_pred_one_label, digits=3))"
   ]
  },
  {
   "cell_type": "markdown",
   "id": "7162f801-5d2d-47d4-8d0b-f4804caf354f",
   "metadata": {
    "tags": []
   },
   "source": [
    "# Age and Gender"
   ]
  },
  {
   "cell_type": "code",
   "execution_count": 239,
   "id": "b5cc1319-a95a-4451-a6d0-519b7fbe0820",
   "metadata": {},
   "outputs": [
    {
     "name": "stdout",
     "output_type": "stream",
     "text": [
      "(60, 6)\n"
     ]
    },
    {
     "data": {
      "text/html": [
       "<div>\n",
       "<style scoped>\n",
       "    .dataframe tbody tr th:only-of-type {\n",
       "        vertical-align: middle;\n",
       "    }\n",
       "\n",
       "    .dataframe tbody tr th {\n",
       "        vertical-align: top;\n",
       "    }\n",
       "\n",
       "    .dataframe thead th {\n",
       "        text-align: right;\n",
       "    }\n",
       "</style>\n",
       "<table border=\"1\" class=\"dataframe\">\n",
       "  <thead>\n",
       "    <tr style=\"text-align: right;\">\n",
       "      <th></th>\n",
       "      <th>Links</th>\n",
       "      <th>Group</th>\n",
       "      <th>Sex</th>\n",
       "      <th>Age</th>\n",
       "      <th>ETH</th>\n",
       "      <th>RACE</th>\n",
       "    </tr>\n",
       "  </thead>\n",
       "  <tbody>\n",
       "    <tr>\n",
       "      <th>173</th>\n",
       "      <td>D:\\Lab\\ADNI\\136_S_0426\\MPR__GradWarp__B1_Corre...</td>\n",
       "      <td>AD</td>\n",
       "      <td>M</td>\n",
       "      <td>2</td>\n",
       "      <td>Not Hisp/Latino</td>\n",
       "      <td>White</td>\n",
       "    </tr>\n",
       "    <tr>\n",
       "      <th>174</th>\n",
       "      <td>D:\\Lab\\ADNI\\002_S_0938\\MPR__GradWarp__B1_Corre...</td>\n",
       "      <td>AD</td>\n",
       "      <td>F</td>\n",
       "      <td>2</td>\n",
       "      <td>Not Hisp/Latino</td>\n",
       "      <td>White</td>\n",
       "    </tr>\n",
       "    <tr>\n",
       "      <th>175</th>\n",
       "      <td>D:\\Lab\\ADNI\\041_S_1435\\MPR__GradWarp__B1_Corre...</td>\n",
       "      <td>AD</td>\n",
       "      <td>M</td>\n",
       "      <td>2</td>\n",
       "      <td>Not Hisp/Latino</td>\n",
       "      <td>White</td>\n",
       "    </tr>\n",
       "    <tr>\n",
       "      <th>176</th>\n",
       "      <td>D:\\Lab\\ADNI\\136_S_0426\\MPR__GradWarp__B1_Corre...</td>\n",
       "      <td>AD</td>\n",
       "      <td>M</td>\n",
       "      <td>2</td>\n",
       "      <td>Not Hisp/Latino</td>\n",
       "      <td>White</td>\n",
       "    </tr>\n",
       "    <tr>\n",
       "      <th>177</th>\n",
       "      <td>D:\\Lab\\ADNI\\002_S_0938\\MPR__GradWarp__B1_Corre...</td>\n",
       "      <td>AD</td>\n",
       "      <td>F</td>\n",
       "      <td>2</td>\n",
       "      <td>Not Hisp/Latino</td>\n",
       "      <td>White</td>\n",
       "    </tr>\n",
       "  </tbody>\n",
       "</table>\n",
       "</div>"
      ],
      "text/plain": [
       "                                                 Links Group Sex  Age  \\\n",
       "173  D:\\Lab\\ADNI\\136_S_0426\\MPR__GradWarp__B1_Corre...    AD   M    2   \n",
       "174  D:\\Lab\\ADNI\\002_S_0938\\MPR__GradWarp__B1_Corre...    AD   F    2   \n",
       "175  D:\\Lab\\ADNI\\041_S_1435\\MPR__GradWarp__B1_Corre...    AD   M    2   \n",
       "176  D:\\Lab\\ADNI\\136_S_0426\\MPR__GradWarp__B1_Corre...    AD   M    2   \n",
       "177  D:\\Lab\\ADNI\\002_S_0938\\MPR__GradWarp__B1_Corre...    AD   F    2   \n",
       "\n",
       "                 ETH   RACE  \n",
       "173  Not Hisp/Latino  White  \n",
       "174  Not Hisp/Latino  White  \n",
       "175  Not Hisp/Latino  White  \n",
       "176  Not Hisp/Latino  White  \n",
       "177  Not Hisp/Latino  White  "
      ]
     },
     "execution_count": 239,
     "metadata": {},
     "output_type": "execute_result"
    }
   ],
   "source": [
    "gender_df = data_val\n",
    "# male_df = gender_dvalnder_df.Sex == 'M']\n",
    "# male_df = gender_df[(gender_df.Age > 50) & (gender_df.Age <= 70)]\n",
    "male_df = gender_df[(gender_df.Age == 2)]\n",
    "# male_df = gender_df\n",
    "print(male_df.shape)\n",
    "male_df.head()"
   ]
  },
  {
   "cell_type": "code",
   "execution_count": 240,
   "id": "e067ce2e-6a83-447a-a7c5-c800ff4b8909",
   "metadata": {},
   "outputs": [],
   "source": [
    "gender_path_val = male_df['Links'].to_numpy()\n",
    "gender_label_val = male_df['Group'].to_numpy()\n",
    "gender_path_val = male_df['Links'].to_numpy()\n",
    "gender_label_val = [label_to_index[l] for l in gender_label_val]\n",
    "gender_label_val = np.array(gender_label_val).reshape((-1, 1))\n",
    "group_val = male_df['Age'].to_numpy()\n",
    "group_val = np.array(group_val).reshape((-1, 1))\n",
    "\n",
    "gender_val = tf.data.Dataset.from_tensor_slices((np.array(gender_path_val), gender_label_val, group_val))\n",
    "gender_val = gender_val.map(wrapper_train, num_parallel_calls=tf.data.experimental.AUTOTUNE).map(_fixup_shape)\n",
    "gender_val = gender_val.batch(1, drop_remainder=True)"
   ]
  },
  {
   "cell_type": "code",
   "execution_count": 241,
   "id": "62cc3f4a-d405-41bb-8717-a4ae2976c1a0",
   "metadata": {},
   "outputs": [],
   "source": [
    "def get_id(l):\n",
    "    return l.split('\\\\')[3]"
   ]
  },
  {
   "cell_type": "code",
   "execution_count": 242,
   "id": "9a78172c-6a1e-499b-a434-22ee51d85510",
   "metadata": {},
   "outputs": [
    {
     "data": {
      "text/plain": [
       "{'AD': 19, 'CN': 41}"
      ]
     },
     "execution_count": 242,
     "metadata": {},
     "output_type": "execute_result"
    }
   ],
   "source": [
    "unique, count = np.unique(gender_label_val, return_counts=True)\n",
    "dict(zip(['AD','CN','MCI'], count))"
   ]
  },
  {
   "cell_type": "code",
   "execution_count": 243,
   "id": "3e513d82-bb84-41e8-bb8d-7f1c2f5bffb5",
   "metadata": {},
   "outputs": [
    {
     "name": "stderr",
     "output_type": "stream",
     "text": [
      "100%|██████████████████████████████████████████████████████████████████████████████████| 60/60 [00:10<00:00,  5.76it/s]\n"
     ]
    }
   ],
   "source": [
    "y_pred_gender = []\n",
    "y_true_gender = []\n",
    "for img, label, group in tqdm(gender_val):\n",
    "    feature = feature_generator.predict(img)\n",
    "    for each in label_predictor.predict(feature):\n",
    "        # for pred in each:\n",
    "        y_pred_gender.append(each)\n",
    "    for each in label.numpy():\n",
    "        y_true_gender.append(each[0])\n",
    "\n",
    "y_pred_gender_one_label = []\n",
    "for each in y_pred_gender:\n",
    "    y_pred_gender_one_label.append(np.argmax(each))"
   ]
  },
  {
   "cell_type": "markdown",
   "id": "2a822a12-10e0-47b4-9a76-7c6668adf73a",
   "metadata": {},
   "source": [
    "## Confusion Matrix"
   ]
  },
  {
   "cell_type": "code",
   "execution_count": 244,
   "id": "22d0bddb-d37b-4009-879b-431e807604db",
   "metadata": {},
   "outputs": [
    {
     "data": {
      "text/plain": [
       "array([[10,  9],\n",
       "       [ 4, 37]], dtype=int64)"
      ]
     },
     "execution_count": 244,
     "metadata": {},
     "output_type": "execute_result"
    }
   ],
   "source": [
    "cm = confusion_matrix(y_true_gender, y_pred_gender_one_label)\n",
    "cm"
   ]
  },
  {
   "cell_type": "code",
   "execution_count": 245,
   "id": "6b7a6ebc-6e78-44c3-833a-71835d4f6559",
   "metadata": {
    "tags": []
   },
   "outputs": [
    {
     "data": {
      "text/plain": [
       "<AxesSubplot:>"
      ]
     },
     "execution_count": 245,
     "metadata": {},
     "output_type": "execute_result"
    },
    {
     "data": {
      "image/png": "[encoded data removed]",
      "text/plain": [
       "<Figure size 500x300 with 2 Axes>"
      ]
     },
     "metadata": {},
     "output_type": "display_data"
    }
   ],
   "source": [
    "# df_cm = pd.DataFrame(cm, index = ['AD', 'CN', 'MCI'], columns = ['AD', 'CN', 'MCI'])\n",
    "df_cm = pd.DataFrame(cm, index = ['AD','CN'], columns = ['AD','CN'])\n",
    "plt.figure(figsize=(5,3))\n",
    "sn.heatmap(df_cm, annot=True)"
   ]
  },
  {
   "cell_type": "code",
   "execution_count": 246,
   "id": "a6a0ccff-c311-45b2-b65e-c14926c15b9e",
   "metadata": {},
   "outputs": [
    {
     "name": "stdout",
     "output_type": "stream",
     "text": [
      "              precision    recall  f1-score   support\n",
      "\n",
      "           0      0.714     0.526     0.606        19\n",
      "           1      0.804     0.902     0.851        41\n",
      "\n",
      "    accuracy                          0.783        60\n",
      "   macro avg      0.759     0.714     0.728        60\n",
      "weighted avg      0.776     0.783     0.773        60\n",
      "\n"
     ]
    }
   ],
   "source": [
    "print(classification_report(y_true_gender, y_pred_gender_one_label, digits=3))"
   ]
  },
  {
   "cell_type": "code",
   "execution_count": null,
   "id": "7c478a6c-5b2b-4439-8d57-8c8bbca1c631",
   "metadata": {},
   "outputs": [],
   "source": []
  },
  {
   "cell_type": "code",
   "execution_count": null,
   "id": "914ced5e-0752-43a9-a3c7-785ce5e749d7",
   "metadata": {},
   "outputs": [],
   "source": []
  },
  {
   "cell_type": "code",
   "execution_count": null,
   "id": "d085d843-967f-4307-a464-a25b2ecf6651",
   "metadata": {},
   "outputs": [],
   "source": []
  }
 ],
 "metadata": {
  "kernelspec": {
   "display_name": "Python 3 (ipykernel)",
   "language": "python",
   "name": "python3"
  },
  "language_info": {
   "codemirror_mode": {
    "name": "ipython",
    "version": 3
   },
   "file_extension": ".py",
   "mimetype": "text/x-python",
   "name": "python",
   "nbconvert_exporter": "python",
   "pygments_lexer": "ipython3",
   "version": "3.9.13"
  }
 },
 "nbformat": 4,
 "nbformat_minor": 5
}
