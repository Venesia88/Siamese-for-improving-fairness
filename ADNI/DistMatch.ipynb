{
 "cells": [
  {
   "cell_type": "markdown",
   "id": "7e9aaa35-6fff-4dae-bdc9-2b626e501acd",
   "metadata": {
    "tags": []
   },
   "source": [
    "# Import"
   ]
  },
  {
   "cell_type": "code",
   "execution_count": 63,
   "id": "59a2b55e-1b7f-4051-a124-640c33cce471",
   "metadata": {
    "tags": []
   },
   "outputs": [],
   "source": [
    "import os\n",
    "import pandas as pd\n",
    "import nibabel as nib\n",
    "import numpy as np\n",
    "import nilearn as nil\n",
    "from sklearn.model_selection import train_test_split, GroupShuffleSplit\n",
    "from tqdm import tqdm\n",
    "from scipy import ndimage\n",
    "from sklearn.utils import class_weight\n",
    "from sklearn.manifold import TSNE\n",
    "from collections import Counter\n",
    "from sklearn.metrics import confusion_matrix, silhouette_score, f1_score, roc_curve, auc, roc_auc_score, classification_report, accuracy_score, log_loss\n",
    "import seaborn as sn\n",
    "from sklearn.preprocessing import LabelBinarizer\n",
    "from dltk.io.augmentation import *\n",
    "from dltk.io.preprocessing import *\n",
    "from numpy.random import seed\n",
    "import SimpleITK as sitk\n",
    "import warnings\n",
    "warnings.filterwarnings(\"ignore\")\n",
    "from sklearn import metrics\n",
    "import math\n",
    "import random\n",
    "import matplotlib.patheffects as PathEffects\n",
    "from sklearn.ensemble import RandomForestClassifier\n",
    "from sklearn.linear_model import LogisticRegression\n",
    "import matplotlib.pyplot as plt"
   ]
  },
  {
   "cell_type": "code",
   "execution_count": 64,
   "id": "627c91f9-9c0b-479b-a08e-610b8d275a4e",
   "metadata": {},
   "outputs": [],
   "source": [
    "from __future__ import absolute_import, division, print_function, unicode_literals\n",
    "import six\n",
    "from math import ceil\n",
    "import tensorflow as tf\n",
    "from tensorflow import keras\n",
    "from tensorflow.keras.models import Model\n",
    "from tensorflow.keras.layers import Input, Activation, Dense, Flatten, Lambda, Dropout\n",
    "from tensorflow.keras.layers import Conv3D, AveragePooling3D, MaxPooling3D\n",
    "from tensorflow.keras.layers import add\n",
    "from tensorflow.keras.layers import BatchNormalization\n",
    "from tensorflow.keras.regularizers import l2\n",
    "import tensorflow.keras.backend as K\n",
    "from tensorflow.keras.optimizers import Adadelta, Adam, SGD, Adagrad"
   ]
  },
  {
   "cell_type": "code",
   "execution_count": 65,
   "id": "ade8e548-7c16-46da-91e3-f36633c3ed7b",
   "metadata": {},
   "outputs": [
    {
     "name": "stdout",
     "output_type": "stream",
     "text": [
      "1 Physical GPUs, 1 Logical GPUs\n"
     ]
    }
   ],
   "source": [
    "gpus = tf.config.experimental.list_physical_devices('GPU')\n",
    "if gpus:\n",
    "    try:\n",
    "    # Currently, memory growth needs to be the same across GPUs\n",
    "        tf.config.experimental.set_visible_devices(gpus[0], 'GPU')\n",
    "      #  for gpu in gpus:\n",
    "        tf.config.experimental.set_memory_growth(gpus[0], True)\n",
    "        logical_gpus = tf.config.experimental.list_logical_devices('GPU')\n",
    "        print(len(gpus), \"Physical GPUs,\", len(logical_gpus), \"Logical GPUs\")\n",
    "    except RuntimeError as e:\n",
    "    # Memory growth must be set before GPUs have been initialized\n",
    "        print(e)"
   ]
  },
  {
   "cell_type": "code",
   "execution_count": 66,
   "id": "d310c262-b80d-4756-b766-2b11b65feb66",
   "metadata": {},
   "outputs": [],
   "source": [
    "ALPHA = 0.3\n",
    "IMAGE_HEIGHT, IMAGE_WIDTH, IMAGE_DEPTH, CHANNELS = (96, 96, 96, 1)\n",
    "BUFFER_SIZE = 1000\n",
    "BATCH_SIZE = 10\n",
    "current_group = 'gender'\n",
    "current_mode = 'mmd'\n",
    "\n",
    "if current_group == 'age':\n",
    "    group_class = 3"
   ]
  },
  {
   "cell_type": "markdown",
   "id": "07fc3a15-514c-4711-948e-fc570b94f0a5",
   "metadata": {
    "tags": []
   },
   "source": [
    "# Load Data"
   ]
  },
  {
   "cell_type": "code",
   "execution_count": 67,
   "id": "9a070050-4da7-4cd4-b30f-67e05e9f3eaa",
   "metadata": {},
   "outputs": [],
   "source": [
    "fold = \"1\"\n",
    "data = pd.read_csv('.\\\\data\\\\combined_data.csv')\n",
    "data_train = pd.read_csv('.\\\\data/train_p0_fold_' + fold + '.csv')\n",
    "data_val = pd.read_csv('.\\\\data\\\\val_p0_fold_' + fold + '.csv')\n",
    "data_test = pd.read_csv('.\\\\data\\\\test_p0_fold_' + fold + '.csv')"
   ]
  },
  {
   "cell_type": "code",
   "execution_count": 68,
   "id": "1444bbfe-52ea-43d1-93e5-b2603b5b7f7d",
   "metadata": {},
   "outputs": [],
   "source": [
    "data_train = data_train[data_train.Group != 'MCI']\n",
    "data_val = data_val[data_val.Group != 'MCI']\n",
    "data_test = data_test[data_test.Group != 'MCI']"
   ]
  },
  {
   "cell_type": "code",
   "execution_count": 69,
   "id": "38729fb9-76dd-49fa-9215-65f220fc6597",
   "metadata": {},
   "outputs": [
    {
     "data": {
      "text/html": [
       "<div>\n",
       "<style scoped>\n",
       "    .dataframe tbody tr th:only-of-type {\n",
       "        vertical-align: middle;\n",
       "    }\n",
       "\n",
       "    .dataframe tbody tr th {\n",
       "        vertical-align: top;\n",
       "    }\n",
       "\n",
       "    .dataframe thead th {\n",
       "        text-align: right;\n",
       "    }\n",
       "</style>\n",
       "<table border=\"1\" class=\"dataframe\">\n",
       "  <thead>\n",
       "    <tr style=\"text-align: right;\">\n",
       "      <th></th>\n",
       "      <th>Links</th>\n",
       "      <th>Group</th>\n",
       "      <th>Sex</th>\n",
       "      <th>Age</th>\n",
       "      <th>ETH</th>\n",
       "      <th>RACE</th>\n",
       "    </tr>\n",
       "  </thead>\n",
       "  <tbody>\n",
       "    <tr>\n",
       "      <th>0</th>\n",
       "      <td>D:\\Lab\\ADNI\\094_S_1397\\MPR__GradWarp__B1_Corre...</td>\n",
       "      <td>AD</td>\n",
       "      <td>F</td>\n",
       "      <td>55</td>\n",
       "      <td>Not Hisp/Latino</td>\n",
       "      <td>White</td>\n",
       "    </tr>\n",
       "    <tr>\n",
       "      <th>1</th>\n",
       "      <td>D:\\Lab\\ADNI\\094_S_1397\\MPR__GradWarp__B1_Corre...</td>\n",
       "      <td>AD</td>\n",
       "      <td>F</td>\n",
       "      <td>56</td>\n",
       "      <td>Not Hisp/Latino</td>\n",
       "      <td>White</td>\n",
       "    </tr>\n",
       "    <tr>\n",
       "      <th>2</th>\n",
       "      <td>D:\\Lab\\ADNI\\094_S_1397\\MPR__GradWarp__B1_Corre...</td>\n",
       "      <td>AD</td>\n",
       "      <td>F</td>\n",
       "      <td>56</td>\n",
       "      <td>Not Hisp/Latino</td>\n",
       "      <td>White</td>\n",
       "    </tr>\n",
       "    <tr>\n",
       "      <th>3</th>\n",
       "      <td>D:\\Lab\\ADNI\\094_S_1397\\MPR__GradWarp__B1_Corre...</td>\n",
       "      <td>AD</td>\n",
       "      <td>F</td>\n",
       "      <td>56</td>\n",
       "      <td>Not Hisp/Latino</td>\n",
       "      <td>White</td>\n",
       "    </tr>\n",
       "    <tr>\n",
       "      <th>4</th>\n",
       "      <td>D:\\Lab\\ADNI\\020_S_0213\\MPR__GradWarp__B1_Corre...</td>\n",
       "      <td>AD</td>\n",
       "      <td>M</td>\n",
       "      <td>63</td>\n",
       "      <td>Not Hisp/Latino</td>\n",
       "      <td>Black</td>\n",
       "    </tr>\n",
       "  </tbody>\n",
       "</table>\n",
       "</div>"
      ],
      "text/plain": [
       "                                               Links Group Sex  Age  \\\n",
       "0  D:\\Lab\\ADNI\\094_S_1397\\MPR__GradWarp__B1_Corre...    AD   F   55   \n",
       "1  D:\\Lab\\ADNI\\094_S_1397\\MPR__GradWarp__B1_Corre...    AD   F   56   \n",
       "2  D:\\Lab\\ADNI\\094_S_1397\\MPR__GradWarp__B1_Corre...    AD   F   56   \n",
       "3  D:\\Lab\\ADNI\\094_S_1397\\MPR__GradWarp__B1_Corre...    AD   F   56   \n",
       "4  D:\\Lab\\ADNI\\020_S_0213\\MPR__GradWarp__B1_Corre...    AD   M   63   \n",
       "\n",
       "               ETH   RACE  \n",
       "0  Not Hisp/Latino  White  \n",
       "1  Not Hisp/Latino  White  \n",
       "2  Not Hisp/Latino  White  \n",
       "3  Not Hisp/Latino  White  \n",
       "4  Not Hisp/Latino  Black  "
      ]
     },
     "execution_count": 69,
     "metadata": {},
     "output_type": "execute_result"
    }
   ],
   "source": [
    "data_val.head()"
   ]
  },
  {
   "cell_type": "code",
   "execution_count": 70,
   "id": "dcb33419-c656-4ee3-9ae0-6603af7d0313",
   "metadata": {},
   "outputs": [],
   "source": [
    "seed(1)"
   ]
  },
  {
   "cell_type": "code",
   "execution_count": 71,
   "id": "e645669a-0bb1-4007-a69b-4d348c2ddcad",
   "metadata": {},
   "outputs": [
    {
     "data": {
      "text/plain": [
       "'033_S_0733'"
      ]
     },
     "execution_count": 71,
     "metadata": {},
     "output_type": "execute_result"
    }
   ],
   "source": [
    "def get_id(l):\n",
    "    return l.split('\\\\')[3]\n",
    "\n",
    "get_id(data_train['Links'][0])"
   ]
  },
  {
   "cell_type": "code",
   "execution_count": 72,
   "id": "afa2877f-ceb5-483e-a398-79048383cb98",
   "metadata": {},
   "outputs": [
    {
     "name": "stderr",
     "output_type": "stream",
     "text": [
      "100%|█████████████████████████████████████████████████████████████████████████| 1041/1041 [00:00<00:00, 1040827.29it/s]\n"
     ]
    }
   ],
   "source": [
    "sid_ad = set()\n",
    "sid_cn = set()\n",
    "for path in tqdm(data_train.to_numpy()):\n",
    "    # print(idx)\n",
    "    if path[1] == 'AD':\n",
    "        sid_ad.add(get_id(path[0]))\n",
    "    else:\n",
    "        sid_cn.add(get_id(path[0]))"
   ]
  },
  {
   "cell_type": "code",
   "execution_count": 73,
   "id": "2d1d13da-9be6-4fd5-a1bf-aa16c82aceb7",
   "metadata": {},
   "outputs": [
    {
     "data": {
      "text/plain": [
       "(115, 140)"
      ]
     },
     "execution_count": 73,
     "metadata": {},
     "output_type": "execute_result"
    }
   ],
   "source": [
    "len(sid_ad), len(sid_cn)"
   ]
  },
  {
   "cell_type": "code",
   "execution_count": 74,
   "id": "ff3dd752-051d-4006-88ee-55e923b44dcf",
   "metadata": {},
   "outputs": [
    {
     "data": {
      "text/plain": [
       "0"
      ]
     },
     "execution_count": 74,
     "metadata": {},
     "output_type": "execute_result"
    }
   ],
   "source": [
    "count = 0\n",
    "for each in sid_ad:\n",
    "    if each in sid_cn:\n",
    "        count += 1\n",
    "count"
   ]
  },
  {
   "cell_type": "markdown",
   "id": "59ef90fa-76a8-4213-a797-d675be3662fa",
   "metadata": {},
   "source": [
    "# Preprocess"
   ]
  },
  {
   "cell_type": "code",
   "execution_count": 75,
   "id": "e61945eb-b9fe-4a7c-a6b0-2c387e5b60d7",
   "metadata": {},
   "outputs": [],
   "source": [
    "def bbox(mask):\n",
    "    r = np.any(mask, axis=(1, 2))\n",
    "    c = np.any(mask, axis=(0, 2))\n",
    "    z = np.any(mask, axis=(0, 1))\n",
    "\n",
    "    rmin, rmax = np.where(r)[0][[0, -1]]\n",
    "    cmin, cmax = np.where(c)[0][[0, -1]]\n",
    "    zmin, zmax = np.where(z)[0][[0, -1]]\n",
    "    \n",
    "    return rmin, rmax, cmin, cmax, zmin, zmax"
   ]
  },
  {
   "cell_type": "code",
   "execution_count": 76,
   "id": "0fa51090-8654-4432-9830-655d8433df73",
   "metadata": {},
   "outputs": [],
   "source": [
    "def resize_image_with_crop_or_pad(image, img_size=(64, 64, 64), **kwargs):\n",
    "    \"\"\"Image resizing. Resizes image by cropping or padding dimension\n",
    "     to fit specified size.\n",
    "\n",
    "    Args:\n",
    "        image (np.ndarray): image to be resized\n",
    "        img_size (list or tuple): new image size\n",
    "        kwargs (): additional arguments to be passed to np.pad\n",
    "\n",
    "    Returns:\n",
    "        np.ndarray: resized image\n",
    "    \"\"\"\n",
    "\n",
    "    assert isinstance(image, (np.ndarray, np.generic))\n",
    "    assert (image.ndim - 1 == len(img_size) or image.ndim == len(img_size)), \\\n",
    "        'Example size doesnt fit image size'\n",
    "\n",
    "    # Get the image dimensionality\n",
    "    rank = len(img_size)\n",
    "\n",
    "    # Create placeholders for the new shape\n",
    "    from_indices = [[0, image.shape[dim]] for dim in range(rank)]\n",
    "    to_padding = [[0, 0] for dim in range(rank)]\n",
    "\n",
    "    slicer = [slice(None)] * rank\n",
    "\n",
    "    # For each dimensions find whether it is supposed to be cropped or padded\n",
    "    for i in range(rank):\n",
    "        if image.shape[i] < img_size[i]:\n",
    "            to_padding[i][0] = (img_size[i] - image.shape[i]) // 2\n",
    "            to_padding[i][1] = img_size[i] - image.shape[i] - to_padding[i][0]\n",
    "        else:\n",
    "            from_indices[i][0] = int(np.floor((image.shape[i] - img_size[i]) / 2.))\n",
    "            from_indices[i][1] = from_indices[i][0] + img_size[i]\n",
    "\n",
    "        # Create slicer object to crop or leave each dimension\n",
    "        slicer[i] = slice(from_indices[i][0], from_indices[i][1])\n",
    "\n",
    "    # Pad the cropped image to extend the missing dimension\n",
    "    return np.pad(image[slicer[0],slicer[1],slicer[2]], to_padding, **kwargs)"
   ]
  },
  {
   "cell_type": "code",
   "execution_count": 96,
   "id": "da8f2d80-5def-4ce4-bb55-3a29b2bd37c7",
   "metadata": {},
   "outputs": [],
   "source": [
    "def apply_mask_train(filename, labels, groups):\n",
    "    # name = tf.strings.split(filename, sep= '\\\\')\n",
    "    # masked_filename = name[:-1]\n",
    "    # image_name = name[-1]\n",
    "    # masked_filename = '\\\\'.join(masked_filename) + '\\\\Masked.nii'\n",
    "    # masked_filename = tf.strings.join(masked_filename, separator='\\\\') +'\\\\c1' + image_name\n",
    "    # print(masked_filename)\n",
    "    img = nib.load(filename.numpy().decode()).get_fdata()\n",
    "    rmin, rmax, cmin, cmax, zmin, zmax = bbox(img)\n",
    "    img = img[rmin:rmax, cmin:cmax, zmin:zmax]\n",
    "    r,c,z = img.shape\n",
    "    diff_r, diff_c, diff_z = r-IMAGE_HEIGHT, c-IMAGE_WIDTH, z-IMAGE_DEPTH\n",
    "    # new_img = img\n",
    "    if diff_r > 0:\n",
    "        img = img[diff_r//2:r-diff_r//2,:,:]\n",
    "    if diff_c > 0:\n",
    "        img = img[:,diff_c//2:c-diff_c//2,:]\n",
    "    if diff_z > 0:\n",
    "        img = img[:,:,diff_z//2:z-diff_z//2]\n",
    "    img = resize_image_with_crop_or_pad(img, (IMAGE_HEIGHT, IMAGE_WIDTH, IMAGE_DEPTH))\n",
    "    img = tf.convert_to_tensor(img, dtype=tf.float32)\n",
    "    labels = tf.convert_to_tensor(labels, dtype=tf.int32)\n",
    "    groups = tf.convert_to_tensor(groups, dtype=tf.int32)\n",
    "    return img, labels, groups\n",
    "\n",
    "def wrapper_train(filename, labels, groups):\n",
    "    img, label, group = tf.py_function(apply_mask_train, [filename, labels, groups], [tf.float32, tf.int32, tf.int32])\n",
    "    return img, label, group"
   ]
  },
  {
   "cell_type": "code",
   "execution_count": 78,
   "id": "6d764443-5d14-4f8a-a6b5-0b3b7d24ee39",
   "metadata": {},
   "outputs": [],
   "source": [
    "def _fixup_shape(images, labels, groups):\n",
    "    images.set_shape([IMAGE_HEIGHT,IMAGE_WIDTH, IMAGE_DEPTH])\n",
    "    labels.set_shape([1])\n",
    "    groups.set_shape([1])\n",
    "    return images, labels, groups"
   ]
  },
  {
   "cell_type": "markdown",
   "id": "91ac0577-e11f-49f7-92d8-d16aeceab230",
   "metadata": {
    "tags": []
   },
   "source": [
    "# Dataset"
   ]
  },
  {
   "cell_type": "code",
   "execution_count": 97,
   "id": "762e3b2b-e1b2-4d4b-b947-3e005128fc17",
   "metadata": {},
   "outputs": [],
   "source": [
    "img_path_train, img_path_val, img_path_test = data_train['Links'].to_numpy(), data_val['Links'].to_numpy(), data_test['Links'].to_numpy()\n",
    "label_train, label_val, label_test = data_train['Group'].to_numpy(), data_val['Group'].to_numpy(), data_test['Group'].to_numpy()\n",
    "sex_train, sex_val, sex_test = data_train['Sex'].to_numpy(), data_val['Sex'].to_numpy(), data_test['Sex'].to_numpy()\n",
    "age_train, age_val, age_test = data_train['Age'].to_numpy(), data_val['Age'].to_numpy(), data_test['Age'].to_numpy()\n",
    "label_to_index = dict((name, index) for index, name in enumerate(np.unique(label_train)))\n",
    "index_to_label = dict((index, name) for index, name in enumerate(np.unique(label_train)))\n",
    "\n",
    "sex_to_index = dict((name, index) for index, name in enumerate(np.unique(sex_train)))\n",
    "index_to_sex = dict((index, name) for index, name in enumerate(np.unique(sex_train)))"
   ]
  },
  {
   "cell_type": "code",
   "execution_count": 98,
   "id": "f4ef5858-0d5e-48b6-a222-12ab1673f9d0",
   "metadata": {},
   "outputs": [
    {
     "data": {
      "text/plain": [
       "({'AD': 0, 'CN': 1}, {0: 'AD', 1: 'CN'})"
      ]
     },
     "execution_count": 98,
     "metadata": {},
     "output_type": "execute_result"
    }
   ],
   "source": [
    "label_to_index, index_to_label"
   ]
  },
  {
   "cell_type": "code",
   "execution_count": 99,
   "id": "1bf6a362-ce4a-41cb-bc96-4d6804dbb871",
   "metadata": {},
   "outputs": [],
   "source": [
    "for idx, each in enumerate(age_train):\n",
    "    if each <= 70:\n",
    "        age_train[idx] = 0\n",
    "    elif each <= 80:\n",
    "        age_train[idx] = 1\n",
    "    else:\n",
    "        age_train[idx] = 2\n",
    "    \n",
    "for idx, each in enumerate(age_val):\n",
    "    if each <= 70:\n",
    "        age_val[idx] = 0\n",
    "    elif each <= 80:\n",
    "        age_val[idx] = 1\n",
    "    else:\n",
    "        age_val[idx] = 2\n",
    "\n",
    "for idx, each in enumerate(age_test):\n",
    "    if each <= 70:\n",
    "        age_test[idx] = 0\n",
    "    elif each <= 80:\n",
    "        age_test[idx] = 1\n",
    "    else:\n",
    "        age_test[idx] = 2"
   ]
  },
  {
   "cell_type": "code",
   "execution_count": 100,
   "id": "92649d4e-3f82-4a90-abbd-c32f2241400b",
   "metadata": {},
   "outputs": [],
   "source": [
    "age_train = np.array(age_train).reshape((-1, 1))\n",
    "age_val = np.array(age_val).reshape((-1, 1))\n",
    "age_test = np.array(age_test).reshape((-1, 1))"
   ]
  },
  {
   "cell_type": "code",
   "execution_count": 101,
   "id": "bd1072a8-edb3-4e5d-b231-5eb7c6738797",
   "metadata": {},
   "outputs": [],
   "source": [
    "label_train = [label_to_index[l] for l in label_train]\n",
    "label_train = np.array(label_train).reshape((-1, 1))\n",
    "label_val = [label_to_index[l] for l in label_val]\n",
    "label_val = np.array(label_val).reshape((-1, 1))\n",
    "label_test = [label_to_index[l] for l in label_test]\n",
    "label_test = np.array(label_test).reshape((-1, 1))"
   ]
  },
  {
   "cell_type": "code",
   "execution_count": 102,
   "id": "c4608733-e175-46e9-be3a-2be873d22529",
   "metadata": {},
   "outputs": [],
   "source": [
    "sex_train = [sex_to_index[l] for l in sex_train]\n",
    "sex_train = np.array(sex_train).reshape((-1, 1))\n",
    "sex_val = [sex_to_index[l] for l in sex_val]\n",
    "sex_val = np.array(sex_val).reshape((-1, 1))\n",
    "sex_test = [sex_to_index[l] for l in sex_test]\n",
    "sex_test = np.array(sex_test).reshape((-1, 1))"
   ]
  },
  {
   "cell_type": "code",
   "execution_count": 103,
   "id": "0201f4b2-7ee3-4a8e-a8b8-ebc83534081e",
   "metadata": {},
   "outputs": [],
   "source": [
    "if current_group == 'age':\n",
    "    target_group_train, target_group_val, target_group_test = age_train, age_val, age_test\n",
    "else:\n",
    "    target_group_train, target_group_val, target_group_test = sex_train, sex_val, sex_test\n",
    "    \n",
    "dataset_train = tf.data.Dataset.from_tensor_slices((np.array(img_path_train), label_train, target_group_train))\n",
    "dataset_train = dataset_train.map(wrapper_train, \n",
    "                      num_parallel_calls = tf.data.experimental.AUTOTUNE).map(_fixup_shape)\n",
    "dataset_train = dataset_train.shuffle(BUFFER_SIZE)\n",
    "\n",
    "dataset_train = dataset_train.batch(BATCH_SIZE, drop_remainder=True)\n",
    "dataset_train = dataset_train.prefetch(buffer_size=tf.data.experimental.AUTOTUNE)\n",
    "\n",
    "\n",
    "dataset_val = tf.data.Dataset.from_tensor_slices((np.array(img_path_val), label_val, target_group_val))\n",
    "dataset_val = dataset_val.map(wrapper_train, num_parallel_calls=tf.data.experimental.AUTOTUNE).map(_fixup_shape)\n",
    "dataset_val = dataset_val.batch(BATCH_SIZE, drop_remainder=True)\n",
    "\n",
    "dataset_test = tf.data.Dataset.from_tensor_slices((np.array(img_path_test), label_test, target_group_test))\n",
    "dataset_test = dataset_test.map(wrapper_train, num_parallel_calls=tf.data.experimental.AUTOTUNE).map(_fixup_shape)\n",
    "dataset_test = dataset_test.batch(BATCH_SIZE, drop_remainder=True)"
   ]
  },
  {
   "cell_type": "code",
   "execution_count": 104,
   "id": "ab857204-407e-4c5e-9e57-39d1ca210a4f",
   "metadata": {},
   "outputs": [
    {
     "data": {
      "image/png": "[encoded data removed]",
      "text/plain": [
       "<Figure size 1200x600 with 6 Axes>"
      ]
     },
     "metadata": {},
     "output_type": "display_data"
    }
   ],
   "source": [
    "for img, label, group in dataset_val.take(1):\n",
    "    fig, ax = plt.subplots(2,3, figsize = (12, 6))\n",
    "    ax[0][0].imshow(img[0][:,:,img[0].shape[2]//2], cmap='gray')\n",
    "    ax[0][1].imshow(img[0][:,img[0].shape[1]//2, :], cmap='gray')\n",
    "    ax[0][2].imshow(img[0][img[0].shape[0]//2], cmap='gray')\n",
    "    ax[1][0].imshow(img[3][:,:,img[1].shape[2]//2], cmap='gray')\n",
    "    ax[1][1].imshow(img[3][:,img[1].shape[1]//2, :], cmap='gray')\n",
    "    ax[1][2].imshow(img[3][img[1].shape[0]//2], cmap='gray')"
   ]
  },
  {
   "cell_type": "markdown",
   "id": "fb4b2fea-90c0-4cfc-ae91-3dbb251a7bc8",
   "metadata": {},
   "source": [
    "# Classifier"
   ]
  },
  {
   "cell_type": "code",
   "execution_count": 105,
   "id": "4ce8812b-b147-45cb-9c15-35fd59ad72ae",
   "metadata": {
    "tags": []
   },
   "outputs": [],
   "source": [
    "# from github: https://github.com/JihongJu/keras-resnet3d/blob/master/resnet3d/resnet3d.py\n",
    "def _bn_relu(input):\n",
    "    \"\"\"\n",
    "    Helper to build a BN -> relu block (by @raghakot).\n",
    "    \"\"\"\n",
    "    norm = BatchNormalization(axis=CHANNEL_AXIS)(input)\n",
    "    return Activation(\"relu\")(norm)\n",
    "\n",
    "def _conv_bn_relu3D(**conv_params):\n",
    "    filters = conv_params[\"filters\"]\n",
    "    kernel_size = conv_params[\"kernel_size\"]\n",
    "    strides = conv_params.setdefault(\"strides\", (1, 1, 1))\n",
    "    kernel_initializer = conv_params.setdefault(\"kernel_initializer\", \"he_normal\")\n",
    "    padding = conv_params.setdefault(\"padding\", \"same\")\n",
    "    kernel_regularizer = conv_params.setdefault(\"kernel_regularizer\", l2(1e-4))\n",
    "\n",
    "    def f(input):\n",
    "        conv = Conv3D(\n",
    "            filters=filters, \n",
    "            kernel_size=kernel_size,\n",
    "            strides=strides, \n",
    "            kernel_initializer=kernel_initializer,\n",
    "            padding=padding,\n",
    "            kernel_regularizer=kernel_regularizer\n",
    "            )(input)\n",
    "        return _bn_relu(conv)\n",
    "\n",
    "    return f\n",
    "\n",
    "\n",
    "def _bn_relu_conv3d(**conv_params):\n",
    "    \"\"\"\n",
    "    Helper to build a  BN -> relu -> conv3d block.\n",
    "    \"\"\"\n",
    "    filters = conv_params[\"filters\"]\n",
    "    kernel_size = conv_params[\"kernel_size\"]\n",
    "    strides = conv_params.setdefault(\"strides\", (1, 1, 1))\n",
    "    kernel_initializer = conv_params.setdefault(\"kernel_initializer\", \"he_normal\")\n",
    "    padding = conv_params.setdefault(\"padding\", \"same\")\n",
    "    kernel_regularizer = conv_params.setdefault(\"kernel_regularizer\", l2(1e-4))\n",
    "\n",
    "    def f(input):\n",
    "        activation = _bn_relu(input)\n",
    "        return Conv3D(\n",
    "                   filters=filters, \n",
    "                   kernel_size=kernel_size,\n",
    "                   strides=strides, \n",
    "                   kernel_initializer=kernel_initializer,\n",
    "                   padding=padding,\n",
    "                   kernel_regularizer=kernel_regularizer\n",
    "                   )(activation)\n",
    "    return f\n",
    "\n",
    "\n",
    "def _shortcut3d(input, residual):\n",
    "    \"\"\"\n",
    "    3D shortcut to match input and residual and merges them with \"sum\".\n",
    "    \"\"\"\n",
    "    stride_dim1 = ceil(input.shape[DIM1_AXIS] \\\n",
    "        / residual.shape[DIM1_AXIS])\n",
    "    stride_dim2 = ceil(input.shape[DIM2_AXIS] \\\n",
    "        / residual.shape[DIM2_AXIS])\n",
    "    stride_dim3 = ceil(input.shape[DIM3_AXIS] \\\n",
    "        / residual.shape[DIM3_AXIS])\n",
    "    equal_channels = residual.shape[CHANNEL_AXIS] \\\n",
    "        == input.shape[CHANNEL_AXIS]\n",
    "\n",
    "    shortcut = input\n",
    "    if stride_dim1 > 1 or stride_dim2 > 1 or stride_dim3 > 1 or not equal_channels:\n",
    "        shortcut = Conv3D(\n",
    "            filters=residual.shape[CHANNEL_AXIS],\n",
    "            kernel_size=(1, 1, 1),\n",
    "            strides=(stride_dim1, stride_dim2, stride_dim3),\n",
    "            kernel_initializer=\"he_normal\", \n",
    "            padding=\"valid\",\n",
    "            kernel_regularizer=l2(1e-4)\n",
    "            )(input)\n",
    "    return add([shortcut, residual])\n",
    "\n",
    "\n",
    "def _residual_block3d(block_function, filters, kernel_regularizer, repetitions,\n",
    "                      is_first_layer=False):\n",
    "    def f(input):\n",
    "        for i in range(repetitions):\n",
    "            strides = (1, 1, 1)\n",
    "            if i == 0 and not is_first_layer:\n",
    "                strides = (2, 2, 2)\n",
    "            input = block_function(\n",
    "                filters=filters, \n",
    "                strides=strides,\n",
    "                kernel_regularizer=kernel_regularizer,\n",
    "                is_first_block_of_first_layer=(is_first_layer and i == 0)\n",
    "                )(input)\n",
    "        return input\n",
    "\n",
    "    return f\n",
    "\n",
    "\n",
    "def basic_block(filters, strides=(1, 1, 1), kernel_regularizer=l2(1e-4),\n",
    "                is_first_block_of_first_layer=False):\n",
    "    \"\"\"\n",
    "    Basic 3 X 3 X 3 convolution blocks. \n",
    "    Extended from raghakot's 2D impl.\n",
    "    \"\"\"\n",
    "    def f(input):\n",
    "        if is_first_block_of_first_layer:\n",
    "            # don't repeat bn->relu since we just did bn->relu->maxpool\n",
    "            conv1 = Conv3D(\n",
    "                filters=filters, \n",
    "                kernel_size=(3, 3, 3),\n",
    "                strides=strides, \n",
    "                padding=\"same\",\n",
    "                kernel_initializer=\"he_normal\",\n",
    "                kernel_regularizer=kernel_regularizer\n",
    "                )(input)\n",
    "        else:\n",
    "            conv1 = _bn_relu_conv3d(\n",
    "                filters=filters,\n",
    "                kernel_size=(3, 3, 3),\n",
    "                strides=strides,\n",
    "                kernel_regularizer=kernel_regularizer\n",
    "                )(input)\n",
    "        residual = _bn_relu_conv3d(\n",
    "            filters=filters, \n",
    "            kernel_size=(3, 3, 3),\n",
    "            kernel_regularizer=kernel_regularizer\n",
    "            )(conv1)\n",
    "        return _shortcut3d(input, residual)\n",
    "\n",
    "    return f\n",
    "\n",
    "\n",
    "def bottleneck(filters, strides=(1, 1, 1), kernel_regularizer=l2(1e-4),\n",
    "               is_first_block_of_first_layer=False):\n",
    "    \"\"\"\n",
    "    Basic 3 X 3 X 3 convolution blocks. \n",
    "    Extended from raghakot's 2D impl.\n",
    "    \"\"\"\n",
    "    def f(input):\n",
    "        if is_first_block_of_first_layer:\n",
    "            # don't repeat bn->relu since we just did bn->relu->maxpool\n",
    "            conv_1_1 = Conv3D(\n",
    "                filters=filters, \n",
    "                kernel_size=(1, 1, 1),\n",
    "                strides=strides, \n",
    "                padding=\"same\",\n",
    "                kernel_initializer=\"he_normal\",\n",
    "                kernel_regularizer=kernel_regularizer\n",
    "                )(input)\n",
    "        else:\n",
    "            conv_1_1 = _bn_relu_conv3d(\n",
    "                filters=filters, \n",
    "                kernel_size=(1, 1, 1),\n",
    "                strides=strides,\n",
    "                kernel_regularizer=kernel_regularizer\n",
    "                )(input)\n",
    "        conv_3_3 = _bn_relu_conv3d(\n",
    "            filters=filters, \n",
    "            kernel_size=(3, 3, 3),\n",
    "            kernel_regularizer=kernel_regularizer\n",
    "            )(conv_1_1)\n",
    "        residual = _bn_relu_conv3d(\n",
    "            filters=filters * 4, \n",
    "            kernel_size=(1, 1, 1),\n",
    "            kernel_regularizer=kernel_regularizer\n",
    "            )(conv_3_3)\n",
    "        return _shortcut3d(input, residual)\n",
    "    return f\n",
    "\n",
    "def _handle_data_format():\n",
    "    global DIM1_AXIS\n",
    "    global DIM2_AXIS\n",
    "    global DIM3_AXIS\n",
    "    global CHANNEL_AXIS\n",
    "    if K.image_data_format() == 'channels_last':\n",
    "        DIM1_AXIS = 1\n",
    "        DIM2_AXIS = 2\n",
    "        DIM3_AXIS = 3\n",
    "        CHANNEL_AXIS = 4\n",
    "    else:\n",
    "        CHANNEL_AXIS = 1\n",
    "        DIM1_AXIS = 2\n",
    "        DIM2_AXIS = 3\n",
    "        DIM3_AXIS = 4\n",
    "\n",
    "def _get_block(identifier):\n",
    "    if isinstance(identifier, six.string_types):\n",
    "        res = globals().get(identifier)\n",
    "        if not res:\n",
    "            raise ValueError('Invalid {}'.format(identifier))\n",
    "        return res\n",
    "    return identifier"
   ]
  },
  {
   "cell_type": "code",
   "execution_count": 106,
   "id": "935aa4bb-a030-436e-b5ff-1a70de84c88e",
   "metadata": {
    "tags": []
   },
   "outputs": [],
   "source": [
    "class Resnet3DBuilder(object):\n",
    "    \"\"\"\n",
    "    ResNet3D.\n",
    "    \"\"\"\n",
    "\n",
    "    @staticmethod\n",
    "    def build(input_shape, num_outputs, block_fn, repetitions, reg_factor):\n",
    "        \"\"\"\n",
    "        Instantiate a vanilla ResNet3D keras model.\n",
    "        # Arguments\n",
    "            input_shape: Tuple of input shape in the format\n",
    "            (conv_dim1, conv_dim2, conv_dim3, channels) if dim_ordering='tf'\n",
    "            (filter, conv_dim1, conv_dim2, conv_dim3) if dim_ordering='th'\n",
    "            num_outputs: The number of outputs at the final softmax layer\n",
    "            block_fn: Unit block to use {'basic_block', 'bottlenack_block'}\n",
    "            repetitions: Repetitions of unit blocks\n",
    "        # Returns\n",
    "            model: a 3D ResNet model that takes a 5D tensor (volumetric images\n",
    "            in batch) as input and returns a 1D vector (prediction) as output.\n",
    "        \"\"\"\n",
    "        _handle_data_format()\n",
    "        if len(input_shape) != 4:\n",
    "            raise ValueError(\n",
    "                     \"Input shape should be a tuple \"\n",
    "                     \"(conv_dim1, conv_dim2, conv_dim3, channels) \"\n",
    "                     \"for tensorflow as backend or \"\n",
    "                     \"(channels, conv_dim1, conv_dim2, conv_dim3) \"\n",
    "                     \"for theano as backend\"\n",
    "                     )\n",
    "\n",
    "        block_fn = _get_block(block_fn)\n",
    "        input = Input(shape=input_shape)\n",
    "        # first conv\n",
    "        conv1 = _conv_bn_relu3D(\n",
    "            filters=64, \n",
    "            kernel_size=(7, 7, 7),\n",
    "            strides=(2, 2, 2),\n",
    "            kernel_regularizer=l2(reg_factor)\n",
    "            )(input)\n",
    "        pool1 = MaxPooling3D(\n",
    "            pool_size=(3, 3, 3), \n",
    "            strides=(2, 2, 2),\n",
    "            padding=\"same\")(conv1)\n",
    "\n",
    "        # repeat blocks\n",
    "        block = pool1\n",
    "        filters = 64\n",
    "        for i, r in enumerate(repetitions):\n",
    "            block = _residual_block3d(\n",
    "                block_fn, \n",
    "                filters=filters,\n",
    "                kernel_regularizer=l2(reg_factor),\n",
    "                repetitions=r, \n",
    "                is_first_layer=(i == 0)\n",
    "                )(block)\n",
    "            filters *= 2\n",
    "\n",
    "        # last activation\n",
    "        block_output = _bn_relu(block)\n",
    "\n",
    "        # average poll and classification\n",
    "        pool2 = AveragePooling3D(\n",
    "            pool_size=(block.shape[DIM1_AXIS],\n",
    "                       block.shape[DIM2_AXIS],\n",
    "                       block.shape[DIM3_AXIS]),\n",
    "            strides=(1, 1, 1)\n",
    "            )(block_output)\n",
    "        flatten1 = Flatten()(pool2)\n",
    "        if num_outputs > 1:\n",
    "            dense = Dense(\n",
    "                units=num_outputs,\n",
    "                kernel_initializer=\"he_normal\",\n",
    "                activation=\"softmax\",\n",
    "                kernel_regularizer=l2(reg_factor)\n",
    "                )(flatten1)\n",
    "        else:\n",
    "            dense = Dense(\n",
    "                units=num_outputs,\n",
    "                kernel_initializer=\"he_normal\",\n",
    "                activation=\"sigmoid\",\n",
    "                kernel_regularizer=l2(reg_factor)\n",
    "                )(flatten1)\n",
    "\n",
    "        model = Model(inputs=input, outputs=dense)\n",
    "        return model\n",
    "\n",
    "    @staticmethod\n",
    "    def build_resnet_18(input_shape, num_outputs, reg_factor=1e-4):\n",
    "        \"\"\"\n",
    "        Build resnet 18.\n",
    "        \"\"\"\n",
    "        return Resnet3DBuilder.build(input_shape, num_outputs, basic_block,\n",
    "                                     [2, 2, 2, 2], reg_factor=reg_factor)"
   ]
  },
  {
   "cell_type": "code",
   "execution_count": 107,
   "id": "66d19854-8491-446a-b0c7-bbe26a4eacb6",
   "metadata": {},
   "outputs": [
    {
     "name": "stdout",
     "output_type": "stream",
     "text": [
      "Model: \"model_3\"\n",
      "__________________________________________________________________________________________________\n",
      "Layer (type)                    Output Shape         Param #     Connected to                     \n",
      "==================================================================================================\n",
      "input_4 (InputLayer)            [(None, 96, 96, 96,  0                                            \n",
      "__________________________________________________________________________________________________\n",
      "conv3d_60 (Conv3D)              (None, 48, 48, 48, 6 22016       input_4[0][0]                    \n",
      "__________________________________________________________________________________________________\n",
      "batch_normalization_51 (BatchNo (None, 48, 48, 48, 6 256         conv3d_60[0][0]                  \n",
      "__________________________________________________________________________________________________\n",
      "activation_51 (Activation)      (None, 48, 48, 48, 6 0           batch_normalization_51[0][0]     \n",
      "__________________________________________________________________________________________________\n",
      "max_pooling3d_3 (MaxPooling3D)  (None, 24, 24, 24, 6 0           activation_51[0][0]              \n",
      "__________________________________________________________________________________________________\n",
      "conv3d_61 (Conv3D)              (None, 24, 24, 24, 6 110656      max_pooling3d_3[0][0]            \n",
      "__________________________________________________________________________________________________\n",
      "batch_normalization_52 (BatchNo (None, 24, 24, 24, 6 256         conv3d_61[0][0]                  \n",
      "__________________________________________________________________________________________________\n",
      "activation_52 (Activation)      (None, 24, 24, 24, 6 0           batch_normalization_52[0][0]     \n",
      "__________________________________________________________________________________________________\n",
      "conv3d_62 (Conv3D)              (None, 24, 24, 24, 6 110656      activation_52[0][0]              \n",
      "__________________________________________________________________________________________________\n",
      "add_24 (Add)                    (None, 24, 24, 24, 6 0           max_pooling3d_3[0][0]            \n",
      "                                                                 conv3d_62[0][0]                  \n",
      "__________________________________________________________________________________________________\n",
      "batch_normalization_53 (BatchNo (None, 24, 24, 24, 6 256         add_24[0][0]                     \n",
      "__________________________________________________________________________________________________\n",
      "activation_53 (Activation)      (None, 24, 24, 24, 6 0           batch_normalization_53[0][0]     \n",
      "__________________________________________________________________________________________________\n",
      "conv3d_63 (Conv3D)              (None, 24, 24, 24, 6 110656      activation_53[0][0]              \n",
      "__________________________________________________________________________________________________\n",
      "batch_normalization_54 (BatchNo (None, 24, 24, 24, 6 256         conv3d_63[0][0]                  \n",
      "__________________________________________________________________________________________________\n",
      "activation_54 (Activation)      (None, 24, 24, 24, 6 0           batch_normalization_54[0][0]     \n",
      "__________________________________________________________________________________________________\n",
      "conv3d_64 (Conv3D)              (None, 24, 24, 24, 6 110656      activation_54[0][0]              \n",
      "__________________________________________________________________________________________________\n",
      "add_25 (Add)                    (None, 24, 24, 24, 6 0           add_24[0][0]                     \n",
      "                                                                 conv3d_64[0][0]                  \n",
      "__________________________________________________________________________________________________\n",
      "batch_normalization_55 (BatchNo (None, 24, 24, 24, 6 256         add_25[0][0]                     \n",
      "__________________________________________________________________________________________________\n",
      "activation_55 (Activation)      (None, 24, 24, 24, 6 0           batch_normalization_55[0][0]     \n",
      "__________________________________________________________________________________________________\n",
      "conv3d_65 (Conv3D)              (None, 12, 12, 12, 1 221312      activation_55[0][0]              \n",
      "__________________________________________________________________________________________________\n",
      "batch_normalization_56 (BatchNo (None, 12, 12, 12, 1 512         conv3d_65[0][0]                  \n",
      "__________________________________________________________________________________________________\n",
      "activation_56 (Activation)      (None, 12, 12, 12, 1 0           batch_normalization_56[0][0]     \n",
      "__________________________________________________________________________________________________\n",
      "conv3d_67 (Conv3D)              (None, 12, 12, 12, 1 8320        add_25[0][0]                     \n",
      "__________________________________________________________________________________________________\n",
      "conv3d_66 (Conv3D)              (None, 12, 12, 12, 1 442496      activation_56[0][0]              \n",
      "__________________________________________________________________________________________________\n",
      "add_26 (Add)                    (None, 12, 12, 12, 1 0           conv3d_67[0][0]                  \n",
      "                                                                 conv3d_66[0][0]                  \n",
      "__________________________________________________________________________________________________\n",
      "batch_normalization_57 (BatchNo (None, 12, 12, 12, 1 512         add_26[0][0]                     \n",
      "__________________________________________________________________________________________________\n",
      "activation_57 (Activation)      (None, 12, 12, 12, 1 0           batch_normalization_57[0][0]     \n",
      "__________________________________________________________________________________________________\n",
      "conv3d_68 (Conv3D)              (None, 12, 12, 12, 1 442496      activation_57[0][0]              \n",
      "__________________________________________________________________________________________________\n",
      "batch_normalization_58 (BatchNo (None, 12, 12, 12, 1 512         conv3d_68[0][0]                  \n",
      "__________________________________________________________________________________________________\n",
      "activation_58 (Activation)      (None, 12, 12, 12, 1 0           batch_normalization_58[0][0]     \n",
      "__________________________________________________________________________________________________\n",
      "conv3d_69 (Conv3D)              (None, 12, 12, 12, 1 442496      activation_58[0][0]              \n",
      "__________________________________________________________________________________________________\n",
      "add_27 (Add)                    (None, 12, 12, 12, 1 0           add_26[0][0]                     \n",
      "                                                                 conv3d_69[0][0]                  \n",
      "__________________________________________________________________________________________________\n",
      "batch_normalization_59 (BatchNo (None, 12, 12, 12, 1 512         add_27[0][0]                     \n",
      "__________________________________________________________________________________________________\n",
      "activation_59 (Activation)      (None, 12, 12, 12, 1 0           batch_normalization_59[0][0]     \n",
      "__________________________________________________________________________________________________\n",
      "conv3d_70 (Conv3D)              (None, 6, 6, 6, 256) 884992      activation_59[0][0]              \n",
      "__________________________________________________________________________________________________\n",
      "batch_normalization_60 (BatchNo (None, 6, 6, 6, 256) 1024        conv3d_70[0][0]                  \n",
      "__________________________________________________________________________________________________\n",
      "activation_60 (Activation)      (None, 6, 6, 6, 256) 0           batch_normalization_60[0][0]     \n",
      "__________________________________________________________________________________________________\n",
      "conv3d_72 (Conv3D)              (None, 6, 6, 6, 256) 33024       add_27[0][0]                     \n",
      "__________________________________________________________________________________________________\n",
      "conv3d_71 (Conv3D)              (None, 6, 6, 6, 256) 1769728     activation_60[0][0]              \n",
      "__________________________________________________________________________________________________\n",
      "add_28 (Add)                    (None, 6, 6, 6, 256) 0           conv3d_72[0][0]                  \n",
      "                                                                 conv3d_71[0][0]                  \n",
      "__________________________________________________________________________________________________\n",
      "batch_normalization_61 (BatchNo (None, 6, 6, 6, 256) 1024        add_28[0][0]                     \n",
      "__________________________________________________________________________________________________\n",
      "activation_61 (Activation)      (None, 6, 6, 6, 256) 0           batch_normalization_61[0][0]     \n",
      "__________________________________________________________________________________________________\n",
      "conv3d_73 (Conv3D)              (None, 6, 6, 6, 256) 1769728     activation_61[0][0]              \n",
      "__________________________________________________________________________________________________\n",
      "batch_normalization_62 (BatchNo (None, 6, 6, 6, 256) 1024        conv3d_73[0][0]                  \n",
      "__________________________________________________________________________________________________\n",
      "activation_62 (Activation)      (None, 6, 6, 6, 256) 0           batch_normalization_62[0][0]     \n",
      "__________________________________________________________________________________________________\n",
      "conv3d_74 (Conv3D)              (None, 6, 6, 6, 256) 1769728     activation_62[0][0]              \n",
      "__________________________________________________________________________________________________\n",
      "add_29 (Add)                    (None, 6, 6, 6, 256) 0           add_28[0][0]                     \n",
      "                                                                 conv3d_74[0][0]                  \n",
      "__________________________________________________________________________________________________\n",
      "batch_normalization_63 (BatchNo (None, 6, 6, 6, 256) 1024        add_29[0][0]                     \n",
      "__________________________________________________________________________________________________\n",
      "activation_63 (Activation)      (None, 6, 6, 6, 256) 0           batch_normalization_63[0][0]     \n",
      "__________________________________________________________________________________________________\n",
      "conv3d_75 (Conv3D)              (None, 3, 3, 3, 512) 3539456     activation_63[0][0]              \n",
      "__________________________________________________________________________________________________\n",
      "batch_normalization_64 (BatchNo (None, 3, 3, 3, 512) 2048        conv3d_75[0][0]                  \n",
      "__________________________________________________________________________________________________\n",
      "activation_64 (Activation)      (None, 3, 3, 3, 512) 0           batch_normalization_64[0][0]     \n",
      "__________________________________________________________________________________________________\n",
      "conv3d_77 (Conv3D)              (None, 3, 3, 3, 512) 131584      add_29[0][0]                     \n",
      "__________________________________________________________________________________________________\n",
      "conv3d_76 (Conv3D)              (None, 3, 3, 3, 512) 7078400     activation_64[0][0]              \n",
      "__________________________________________________________________________________________________\n",
      "add_30 (Add)                    (None, 3, 3, 3, 512) 0           conv3d_77[0][0]                  \n",
      "                                                                 conv3d_76[0][0]                  \n",
      "__________________________________________________________________________________________________\n",
      "batch_normalization_65 (BatchNo (None, 3, 3, 3, 512) 2048        add_30[0][0]                     \n",
      "__________________________________________________________________________________________________\n",
      "activation_65 (Activation)      (None, 3, 3, 3, 512) 0           batch_normalization_65[0][0]     \n",
      "__________________________________________________________________________________________________\n",
      "conv3d_78 (Conv3D)              (None, 3, 3, 3, 512) 7078400     activation_65[0][0]              \n",
      "__________________________________________________________________________________________________\n",
      "batch_normalization_66 (BatchNo (None, 3, 3, 3, 512) 2048        conv3d_78[0][0]                  \n",
      "__________________________________________________________________________________________________\n",
      "activation_66 (Activation)      (None, 3, 3, 3, 512) 0           batch_normalization_66[0][0]     \n",
      "__________________________________________________________________________________________________\n",
      "conv3d_79 (Conv3D)              (None, 3, 3, 3, 512) 7078400     activation_66[0][0]              \n",
      "__________________________________________________________________________________________________\n",
      "add_31 (Add)                    (None, 3, 3, 3, 512) 0           add_30[0][0]                     \n",
      "                                                                 conv3d_79[0][0]                  \n",
      "__________________________________________________________________________________________________\n",
      "batch_normalization_67 (BatchNo (None, 3, 3, 3, 512) 2048        add_31[0][0]                     \n",
      "__________________________________________________________________________________________________\n",
      "activation_67 (Activation)      (None, 3, 3, 3, 512) 0           batch_normalization_67[0][0]     \n",
      "__________________________________________________________________________________________________\n",
      "average_pooling3d_3 (AveragePoo (None, 1, 1, 1, 512) 0           activation_67[0][0]              \n",
      "__________________________________________________________________________________________________\n",
      "flatten_3 (Flatten)             (None, 512)          0           average_pooling3d_3[0][0]        \n",
      "__________________________________________________________________________________________________\n",
      "dense_3 (Dense)                 (None, 2)            1026        flatten_3[0][0]                  \n",
      "==================================================================================================\n",
      "Total params: 33,171,842\n",
      "Trainable params: 33,164,034\n",
      "Non-trainable params: 7,808\n",
      "__________________________________________________________________________________________________\n"
     ]
    }
   ],
   "source": [
    "input_shape = (IMAGE_WIDTH, IMAGE_HEIGHT, IMAGE_DEPTH, CHANNELS)\n",
    "builder = Resnet3DBuilder()\n",
    "model = builder.build_resnet_18(input_shape, 2)\n",
    "model.summary()"
   ]
  },
  {
   "cell_type": "markdown",
   "id": "bd4c4966-7453-428a-ae4d-69465f400d1c",
   "metadata": {},
   "source": [
    "# Train"
   ]
  },
  {
   "cell_type": "code",
   "execution_count": 108,
   "id": "e8c24313-6543-4b26-bfef-bce8ffe2b0bf",
   "metadata": {},
   "outputs": [],
   "source": [
    "loss_object = tf.keras.losses.SparseCategoricalCrossentropy()\n",
    "optimizer = tf.keras.optimizers.Adagrad(learning_rate=0.001)\n",
    "# l_optimizer = tf.keras.optimizers.Adagrad(learning_rate=0.001)\n",
    "\n",
    "\n",
    "train_accuracy = tf.keras.metrics.SparseCategoricalAccuracy(name='train_accuracy')\n",
    "val_accuracy = tf.keras.metrics.SparseCategoricalAccuracy(name='val_accuracy')\n",
    "\n",
    "train_loss = tf.keras.metrics.Mean(name='train_lp_loss')\n",
    "val_loss = tf.keras.metrics.Mean(name='val_lp_loss')"
   ]
  },
  {
   "cell_type": "code",
   "execution_count": 109,
   "id": "05f69386-eeec-4948-bfbf-730310fc9202",
   "metadata": {},
   "outputs": [],
   "source": [
    "# from github: https://github.com/MLforHealth/CXR_Fairness/blob/master/cxr_fairness/algorithms.py\n",
    "def my_cdist(x1, x2):\n",
    "    x1_norm = tf.reduce_sum(tf.math.pow(x1, 2), axis=-1, keepdims=True)\n",
    "    x2_norm = tf.reduce_sum(tf.math.pow(x2, 2), axis=-1, keepdims=True)\n",
    "    \n",
    "    mm = -2*tf.linalg.matmul(x1, tf.transpose(x2, perm=[1, 0]))\n",
    "\n",
    "    madd = tf.math.add(tf.transpose(x2_norm, perm=[1, 0]), mm)\n",
    "\n",
    "    res = tf.math.add(madd, x1_norm)\n",
    "\n",
    "    return tf.clip_by_value(res, clip_value_min=1e-30, clip_value_max=1e30)\n",
    "\n",
    "def gaussian_kernel(x, y, gamma=[0.001, 0.01, 0.1, 1, 10, 100,\n",
    "                                       1000]):\n",
    "    D = my_cdist(x, y)\n",
    "    \n",
    "    K = tf.zeros_like(D)\n",
    "\n",
    "    for g in gamma:\n",
    "        K = tf.math.add(K, tf.math.exp(tf.math.multiply(D, -g)))\n",
    "\n",
    "    return K/len(gamma)\n",
    "\n",
    "def mmd(x, y):\n",
    "    # https://stats.stackexchange.com/questions/276497/maximum-mean-discrepancy-distance-distribution\n",
    "    Kxx = tf.reduce_mean(gaussian_kernel(x, x))\n",
    "    Kyy = tf.reduce_mean(gaussian_kernel(y, y))\n",
    "    Kxy = tf.reduce_mean(gaussian_kernel(x, y))\n",
    "    return Kxx + Kyy - 2 * Kxy"
   ]
  },
  {
   "cell_type": "code",
   "execution_count": 110,
   "id": "fcdeb7d6-da8b-41b7-8c71-4fb78578f30e",
   "metadata": {},
   "outputs": [],
   "source": [
    "for images, label, groups in dataset_val.take(1):\n",
    "    pred = model(images)\n",
    "    loss = loss_object(label, pred) "
   ]
  },
  {
   "cell_type": "code",
   "execution_count": 111,
   "id": "1c7b3d35-6d0d-46cd-8e79-340128043efc",
   "metadata": {},
   "outputs": [],
   "source": [
    "if current_group == 'age':\n",
    "    group = [0,1,2]\n",
    "else:\n",
    "    group = [0,1]\n",
    "    \n",
    "@tf.function\n",
    "def train_step(images, labels, groups, mode='mean'):\n",
    "    penalty = 0.0\n",
    "    with tf.GradientTape() as tape:\n",
    "        pred = model(images)\n",
    "        loss = loss_object(labels, pred)  \n",
    "        for target in group:\n",
    "            mask = groups == target\n",
    "            grp_trg = pred[tf.squeeze(mask)][:,-1]\n",
    "            all_trg = pred[:,-1]\n",
    "            if len(grp_trg) > 0:\n",
    "                if mode == 'mmd':\n",
    "                    penalty +=  mmd(tf.expand_dims(grp_trg, -1), tf.expand_dims(all_trg,-1))\n",
    "                else:\n",
    "                    penalty += tf.math.abs(tf.reduce_mean(grp_trg) -  tf.reduce_mean(pred))\n",
    "        if mode == 'mean':\n",
    "            total_loss = loss + 1*penalty\n",
    "        else:\n",
    "            total_loss = loss + 1*penalty\n",
    "        \n",
    "    grads = tape.gradient(total_loss, model.trainable_variables)\n",
    "    optimizer.apply_gradients(zip(grads, model.trainable_weights))\n",
    "    \n",
    "    train_loss(total_loss)\n",
    "    train_accuracy(labels, pred)\n",
    "    "
   ]
  },
  {
   "cell_type": "code",
   "execution_count": 112,
   "id": "e08cd0df-3dc4-4908-ba98-91c2ed96cd4d",
   "metadata": {},
   "outputs": [],
   "source": [
    "@tf.function\n",
    "def val_step(images, labels, domains):\n",
    "    pred = model(images)\n",
    "    loss = loss_object(labels, pred)  \n",
    "    val_loss(loss)\n",
    "    val_accuracy(labels, pred)\n",
    "    \n",
    "        "
   ]
  },
  {
   "cell_type": "code",
   "execution_count": 113,
   "id": "4a95d4d6-2c49-421a-a89f-0a1914251158",
   "metadata": {},
   "outputs": [],
   "source": [
    "def val(domain=True):\n",
    "    for batch in tqdm(dataset_val):\n",
    "        val_step(*batch)\n",
    "        \n",
    "def test(domain=True):\n",
    "    for batch in tqdm(dataset_test):\n",
    "        val_step(*batch)\n",
    "\n",
    "def reset_metrics(target):\n",
    "\n",
    "    if target == 'train':\n",
    "        train_loss.reset_states()\n",
    "        train_accuracy.reset_states()\n",
    "\n",
    "    if target == 'val':\n",
    "        val_loss.reset_states()\n",
    "        val_accuracy.reset_states()\n"
   ]
  },
  {
   "cell_type": "code",
   "execution_count": null,
   "id": "c9e56cc7-bb15-4097-8823-e18c8850b88e",
   "metadata": {},
   "outputs": [
    {
     "name": "stderr",
     "output_type": "stream",
     "text": [
      "100%|████████████████████████████████████████████████████████████████████████████████| 104/104 [01:35<00:00,  1.09it/s]\n"
     ]
    },
    {
     "name": "stdout",
     "output_type": "stream",
     "text": [
      "Training: Epoch 0 :\t Accuracy : 58.173%, loss : 413.8250427246094\n"
     ]
    },
    {
     "name": "stderr",
     "output_type": "stream",
     "text": [
      "100%|██████████████████████████████████████████████████████████████████████████████████| 24/24 [00:12<00:00,  1.98it/s]\n"
     ]
    },
    {
     "name": "stdout",
     "output_type": "stream",
     "text": [
      "Val: Accuracy : 39.167%, loss : 0.9754269123077393\n",
      "save acc: 0.3916666805744171\n"
     ]
    },
    {
     "name": "stderr",
     "output_type": "stream",
     "text": [
      "100%|████████████████████████████████████████████████████████████████████████████████| 104/104 [01:31<00:00,  1.14it/s]\n"
     ]
    },
    {
     "name": "stdout",
     "output_type": "stream",
     "text": [
      "Training: Epoch 1 :\t Accuracy : 67.019%, loss : 0.6848640441894531\n"
     ]
    },
    {
     "name": "stderr",
     "output_type": "stream",
     "text": [
      "100%|██████████████████████████████████████████████████████████████████████████████████| 24/24 [00:10<00:00,  2.33it/s]\n"
     ]
    },
    {
     "name": "stdout",
     "output_type": "stream",
     "text": [
      "Val: Accuracy : 60.417%, loss : 0.8295881748199463\n",
      "save acc: 0.6041666865348816\n"
     ]
    },
    {
     "name": "stderr",
     "output_type": "stream",
     "text": [
      "100%|████████████████████████████████████████████████████████████████████████████████| 104/104 [01:29<00:00,  1.17it/s]\n"
     ]
    },
    {
     "name": "stdout",
     "output_type": "stream",
     "text": [
      "Training: Epoch 2 :\t Accuracy : 73.846%, loss : 0.5965968370437622\n"
     ]
    },
    {
     "name": "stderr",
     "output_type": "stream",
     "text": [
      "100%|██████████████████████████████████████████████████████████████████████████████████| 24/24 [00:10<00:00,  2.29it/s]\n"
     ]
    },
    {
     "name": "stdout",
     "output_type": "stream",
     "text": [
      "Val: Accuracy : 68.750%, loss : 0.6079336404800415\n",
      "save acc: 0.6875\n"
     ]
    },
    {
     "name": "stderr",
     "output_type": "stream",
     "text": [
      "100%|████████████████████████████████████████████████████████████████████████████████| 104/104 [01:30<00:00,  1.14it/s]\n"
     ]
    },
    {
     "name": "stdout",
     "output_type": "stream",
     "text": [
      "Training: Epoch 3 :\t Accuracy : 76.058%, loss : 0.5641739368438721\n"
     ]
    },
    {
     "name": "stderr",
     "output_type": "stream",
     "text": [
      "100%|██████████████████████████████████████████████████████████████████████████████████| 24/24 [00:11<00:00,  2.02it/s]\n"
     ]
    },
    {
     "name": "stdout",
     "output_type": "stream",
     "text": [
      "Val: Accuracy : 70.417%, loss : 0.569084882736206\n",
      "save acc: 0.7041666507720947\n"
     ]
    },
    {
     "name": "stderr",
     "output_type": "stream",
     "text": [
      "100%|████████████████████████████████████████████████████████████████████████████████| 104/104 [01:31<00:00,  1.14it/s]\n"
     ]
    },
    {
     "name": "stdout",
     "output_type": "stream",
     "text": [
      "Training: Epoch 4 :\t Accuracy : 81.058%, loss : 0.4735860824584961\n"
     ]
    },
    {
     "name": "stderr",
     "output_type": "stream",
     "text": [
      "100%|██████████████████████████████████████████████████████████████████████████████████| 24/24 [00:11<00:00,  2.03it/s]\n"
     ]
    },
    {
     "name": "stdout",
     "output_type": "stream",
     "text": [
      "Val: Accuracy : 68.750%, loss : 0.6690600514411926\n"
     ]
    },
    {
     "name": "stderr",
     "output_type": "stream",
     "text": [
      "100%|████████████████████████████████████████████████████████████████████████████████| 104/104 [01:31<00:00,  1.14it/s]\n"
     ]
    },
    {
     "name": "stdout",
     "output_type": "stream",
     "text": [
      "Training: Epoch 5 :\t Accuracy : 85.096%, loss : 0.472631573677063\n"
     ]
    },
    {
     "name": "stderr",
     "output_type": "stream",
     "text": [
      "100%|██████████████████████████████████████████████████████████████████████████████████| 24/24 [00:11<00:00,  2.00it/s]\n"
     ]
    },
    {
     "name": "stdout",
     "output_type": "stream",
     "text": [
      "Val: Accuracy : 68.333%, loss : 0.6440604329109192\n"
     ]
    },
    {
     "name": "stderr",
     "output_type": "stream",
     "text": [
      "100%|████████████████████████████████████████████████████████████████████████████████| 104/104 [01:31<00:00,  1.14it/s]\n"
     ]
    },
    {
     "name": "stdout",
     "output_type": "stream",
     "text": [
      "Training: Epoch 6 :\t Accuracy : 85.769%, loss : 0.4494217336177826\n"
     ]
    },
    {
     "name": "stderr",
     "output_type": "stream",
     "text": [
      "100%|██████████████████████████████████████████████████████████████████████████████████| 24/24 [00:11<00:00,  2.01it/s]\n"
     ]
    },
    {
     "name": "stdout",
     "output_type": "stream",
     "text": [
      "Val: Accuracy : 67.083%, loss : 0.7044596076011658\n"
     ]
    },
    {
     "name": "stderr",
     "output_type": "stream",
     "text": [
      "100%|████████████████████████████████████████████████████████████████████████████████| 104/104 [01:31<00:00,  1.14it/s]\n"
     ]
    },
    {
     "name": "stdout",
     "output_type": "stream",
     "text": [
      "Training: Epoch 7 :\t Accuracy : 87.885%, loss : 0.42003872990608215\n"
     ]
    },
    {
     "name": "stderr",
     "output_type": "stream",
     "text": [
      "100%|██████████████████████████████████████████████████████████████████████████████████| 24/24 [00:10<00:00,  2.24it/s]\n"
     ]
    },
    {
     "name": "stdout",
     "output_type": "stream",
     "text": [
      "Val: Accuracy : 71.250%, loss : 0.570638120174408\n",
      "save acc: 0.7124999761581421\n"
     ]
    },
    {
     "name": "stderr",
     "output_type": "stream",
     "text": [
      "100%|████████████████████████████████████████████████████████████████████████████████| 104/104 [01:35<00:00,  1.09it/s]\n"
     ]
    },
    {
     "name": "stdout",
     "output_type": "stream",
     "text": [
      "Training: Epoch 8 :\t Accuracy : 88.462%, loss : 0.38543906807899475\n"
     ]
    },
    {
     "name": "stderr",
     "output_type": "stream",
     "text": [
      "100%|██████████████████████████████████████████████████████████████████████████████████| 24/24 [00:10<00:00,  2.35it/s]\n"
     ]
    },
    {
     "name": "stdout",
     "output_type": "stream",
     "text": [
      "Val: Accuracy : 68.750%, loss : 0.5929383039474487\n"
     ]
    },
    {
     "name": "stderr",
     "output_type": "stream",
     "text": [
      "100%|████████████████████████████████████████████████████████████████████████████████| 104/104 [01:31<00:00,  1.14it/s]\n"
     ]
    },
    {
     "name": "stdout",
     "output_type": "stream",
     "text": [
      "Training: Epoch 9 :\t Accuracy : 88.846%, loss : 0.3874979019165039\n"
     ]
    },
    {
     "name": "stderr",
     "output_type": "stream",
     "text": [
      "100%|██████████████████████████████████████████████████████████████████████████████████| 24/24 [00:11<00:00,  2.01it/s]\n"
     ]
    },
    {
     "name": "stdout",
     "output_type": "stream",
     "text": [
      "Val: Accuracy : 71.667%, loss : 0.5614094138145447\n",
      "save acc: 0.7166666388511658\n"
     ]
    },
    {
     "name": "stderr",
     "output_type": "stream",
     "text": [
      "100%|████████████████████████████████████████████████████████████████████████████████| 104/104 [01:31<00:00,  1.14it/s]\n"
     ]
    },
    {
     "name": "stdout",
     "output_type": "stream",
     "text": [
      "Training: Epoch 10 :\t Accuracy : 90.865%, loss : 0.34519195556640625\n"
     ]
    },
    {
     "name": "stderr",
     "output_type": "stream",
     "text": [
      "100%|██████████████████████████████████████████████████████████████████████████████████| 24/24 [00:12<00:00,  1.99it/s]\n"
     ]
    },
    {
     "name": "stdout",
     "output_type": "stream",
     "text": [
      "Val: Accuracy : 70.833%, loss : 0.6761320233345032\n"
     ]
    },
    {
     "name": "stderr",
     "output_type": "stream",
     "text": [
      "100%|████████████████████████████████████████████████████████████████████████████████| 104/104 [01:30<00:00,  1.14it/s]\n"
     ]
    },
    {
     "name": "stdout",
     "output_type": "stream",
     "text": [
      "Training: Epoch 11 :\t Accuracy : 92.981%, loss : 0.32762807607650757\n"
     ]
    },
    {
     "name": "stderr",
     "output_type": "stream",
     "text": [
      "100%|██████████████████████████████████████████████████████████████████████████████████| 24/24 [00:12<00:00,  1.99it/s]\n"
     ]
    },
    {
     "name": "stdout",
     "output_type": "stream",
     "text": [
      "Val: Accuracy : 72.500%, loss : 0.6235603094100952\n",
      "save acc: 0.7250000238418579\n"
     ]
    },
    {
     "name": "stderr",
     "output_type": "stream",
     "text": [
      "100%|████████████████████████████████████████████████████████████████████████████████| 104/104 [01:33<00:00,  1.11it/s]\n"
     ]
    },
    {
     "name": "stdout",
     "output_type": "stream",
     "text": [
      "Training: Epoch 12 :\t Accuracy : 94.615%, loss : 0.28854840993881226\n"
     ]
    },
    {
     "name": "stderr",
     "output_type": "stream",
     "text": [
      "100%|██████████████████████████████████████████████████████████████████████████████████| 24/24 [00:11<00:00,  2.01it/s]\n"
     ]
    },
    {
     "name": "stdout",
     "output_type": "stream",
     "text": [
      "Val: Accuracy : 73.333%, loss : 0.5535591244697571\n",
      "save acc: 0.7333333492279053\n"
     ]
    },
    {
     "name": "stderr",
     "output_type": "stream",
     "text": [
      "100%|████████████████████████████████████████████████████████████████████████████████| 104/104 [01:30<00:00,  1.14it/s]\n"
     ]
    },
    {
     "name": "stdout",
     "output_type": "stream",
     "text": [
      "Training: Epoch 13 :\t Accuracy : 94.327%, loss : 0.2949943244457245\n"
     ]
    },
    {
     "name": "stderr",
     "output_type": "stream",
     "text": [
      "100%|██████████████████████████████████████████████████████████████████████████████████| 24/24 [00:10<00:00,  2.33it/s]\n"
     ]
    },
    {
     "name": "stdout",
     "output_type": "stream",
     "text": [
      "Val: Accuracy : 72.083%, loss : 0.6222385168075562\n"
     ]
    },
    {
     "name": "stderr",
     "output_type": "stream",
     "text": [
      "100%|████████████████████████████████████████████████████████████████████████████████| 104/104 [01:33<00:00,  1.11it/s]\n"
     ]
    },
    {
     "name": "stdout",
     "output_type": "stream",
     "text": [
      "Training: Epoch 14 :\t Accuracy : 95.096%, loss : 0.26665404438972473\n"
     ]
    },
    {
     "name": "stderr",
     "output_type": "stream",
     "text": [
      "100%|██████████████████████████████████████████████████████████████████████████████████| 24/24 [00:11<00:00,  2.01it/s]\n"
     ]
    },
    {
     "name": "stdout",
     "output_type": "stream",
     "text": [
      "Val: Accuracy : 74.167%, loss : 0.5533102750778198\n",
      "save acc: 0.7416666746139526\n"
     ]
    },
    {
     "name": "stderr",
     "output_type": "stream",
     "text": [
      "100%|████████████████████████████████████████████████████████████████████████████████| 104/104 [01:31<00:00,  1.14it/s]\n"
     ]
    },
    {
     "name": "stdout",
     "output_type": "stream",
     "text": [
      "Training: Epoch 15 :\t Accuracy : 95.962%, loss : 0.2436055988073349\n"
     ]
    },
    {
     "name": "stderr",
     "output_type": "stream",
     "text": [
      "100%|██████████████████████████████████████████████████████████████████████████████████| 24/24 [00:11<00:00,  2.04it/s]\n"
     ]
    },
    {
     "name": "stdout",
     "output_type": "stream",
     "text": [
      "Val: Accuracy : 76.250%, loss : 0.5221887230873108\n",
      "save acc: 0.762499988079071\n"
     ]
    },
    {
     "name": "stderr",
     "output_type": "stream",
     "text": [
      " 86%|█████████████████████████████████████████████████████████████████████▎           | 89/104 [01:22<00:05,  2.78it/s]"
     ]
    }
   ],
   "source": [
    "epochs = 30\n",
    "prev = 0\n",
    "for epoch in range(epochs):\n",
    "    for batch in tqdm(dataset_train):\n",
    "        train_step(*batch, mode = current_mode)\n",
    "\n",
    "    print(\"Training: Epoch {} :\\t Accuracy : {:.3%}, loss : {}\"\n",
    "          .format(epoch, train_accuracy.result(), train_loss.result()))\n",
    "    \n",
    "    reset_metrics('train')\n",
    "    \n",
    "    val()\n",
    "    val_acc = val_accuracy.result()\n",
    "    print(\"Val: Accuracy : {:.3%}, loss : {}\"\n",
    "          .format(val_accuracy.result(), val_loss.result()))\n",
    "    \n",
    "    if val_acc > prev:\n",
    "        prev = val_acc\n",
    "        print('save acc: {}'.format(val_acc))\n",
    "        model.save_weights(\"./model/\" + current_mode + \"/distmatch_\" + current_group)\n",
    "        \n",
    "    reset_metrics('val')"
   ]
  }
 ],
 "metadata": {
  "kernelspec": {
   "display_name": "Python 3 (ipykernel)",
   "language": "python",
   "name": "python3"
  },
  "language_info": {
   "codemirror_mode": {
    "name": "ipython",
    "version": 3
   },
   "file_extension": ".py",
   "mimetype": "text/x-python",
   "name": "python",
   "nbconvert_exporter": "python",
   "pygments_lexer": "ipython3",
   "version": "3.9.13"
  }
 },
 "nbformat": 4,
 "nbformat_minor": 5
}
